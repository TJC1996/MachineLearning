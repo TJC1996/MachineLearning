{
 "cells": [
  {
   "cell_type": "code",
   "execution_count": 1,
   "id": "e4f78b40-059e-436a-9e2b-2c2ff464e104",
   "metadata": {},
   "outputs": [],
   "source": [
    "#Numpy Tutorial 1 creating Arrays and Dimensional Arrays"
   ]
  },
  {
   "cell_type": "code",
   "execution_count": 2,
   "id": "d9ab0110-c146-41d1-bb64-02106f6130b8",
   "metadata": {},
   "outputs": [],
   "source": [
    "#Importing Relevant Modules\n",
    "import numpy as np"
   ]
  },
  {
   "cell_type": "code",
   "execution_count": 3,
   "id": "eb0a1a06-a3fa-46cf-9eea-c60a11f9ed60",
   "metadata": {},
   "outputs": [
    {
     "name": "stdout",
     "output_type": "stream",
     "text": [
      "[1 2 3 4 5]\n"
     ]
    }
   ],
   "source": [
    "# Creating a simple array\n",
    "array = np.array([1,2,3,4,5])\n",
    "print(array)"
   ]
  },
  {
   "cell_type": "code",
   "execution_count": 5,
   "id": "46a839b3-f4c9-49f2-8795-599e13c89a68",
   "metadata": {},
   "outputs": [
    {
     "name": "stdout",
     "output_type": "stream",
     "text": [
      "382759138\n",
      "[1 2 3]\n"
     ]
    }
   ],
   "source": [
    "# Let's explore the different size dimensions\n",
    "\n",
    "#Zero Dimensional Array\n",
    "zero_dim = np.array(382759138)\n",
    "print(zero_dim)\n",
    "\n",
    "#One Dimensional Array\n",
    "\n",
    "one_dim = np.array([1, 2, 3])\n",
    "print(one_dim)"
   ]
  },
  {
   "cell_type": "code",
   "execution_count": 6,
   "id": "a384be2f-7878-41a6-9d34-8ac8919760be",
   "metadata": {},
   "outputs": [
    {
     "name": "stdout",
     "output_type": "stream",
     "text": [
      "[[1 2 3]\n",
      " [4 5 6]]\n"
     ]
    }
   ],
   "source": [
    "#Two Dimensional Array\n",
    "two_dim = np.array([[1, 2, 3], [4, 5, 6]])\n",
    "print(two_dim)"
   ]
  },
  {
   "cell_type": "code",
   "execution_count": 7,
   "id": "b4c4e819-04a1-454e-985c-e46e773ab631",
   "metadata": {},
   "outputs": [
    {
     "name": "stdout",
     "output_type": "stream",
     "text": [
      "[[[1 2 3]\n",
      "  [4 5 6]\n",
      "  [7 8 9]]]\n"
     ]
    }
   ],
   "source": [
    "#Three dimensional array\n",
    "three_dim = np.array([[[1,2,3],[4,5,6],[7,8,9]]])\n",
    "print(three_dim)"
   ]
  },
  {
   "cell_type": "code",
   "execution_count": 8,
   "id": "c0839a91-9d5f-4983-b6be-ebc4ac2509a8",
   "metadata": {},
   "outputs": [
    {
     "name": "stdout",
     "output_type": "stream",
     "text": [
      "2\n"
     ]
    }
   ],
   "source": [
    "#Finding the dimension of a given array\n",
    "print(two_dim.ndim)"
   ]
  },
  {
   "cell_type": "code",
   "execution_count": 9,
   "id": "45dbd36a-45b7-43a4-a461-4c5794ec44d9",
   "metadata": {},
   "outputs": [
    {
     "name": "stdout",
     "output_type": "stream",
     "text": [
      "[[[[[17]]]]]\n"
     ]
    }
   ],
   "source": [
    "# Given an array any dimension you want!\n",
    "new_array = np.array(17, ndmin=5)\n",
    "print(new_array)"
   ]
  },
  {
   "cell_type": "code",
   "execution_count": 10,
   "id": "ccbfcf09-9788-45fa-8904-81040edfc22e",
   "metadata": {},
   "outputs": [
    {
     "name": "stdout",
     "output_type": "stream",
     "text": [
      "[[[[[1 2]]]]]\n"
     ]
    }
   ],
   "source": [
    "new_array = np.array([1, 2], ndmin=5)\n",
    "print(new_array)"
   ]
  },
  {
   "cell_type": "code",
   "execution_count": null,
   "id": "c2ed5f54-931c-4cd7-951b-c269757d7937",
   "metadata": {},
   "outputs": [],
   "source": []
  }
 ],
 "metadata": {
  "kernelspec": {
   "display_name": "Python 3 (ipykernel)",
   "language": "python",
   "name": "python3"
  },
  "language_info": {
   "codemirror_mode": {
    "name": "ipython",
    "version": 3
   },
   "file_extension": ".py",
   "mimetype": "text/x-python",
   "name": "python",
   "nbconvert_exporter": "python",
   "pygments_lexer": "ipython3",
   "version": "3.12.2"
  }
 },
 "nbformat": 4,
 "nbformat_minor": 5
}
