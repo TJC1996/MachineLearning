{
 "cells": [
  {
   "cell_type": "code",
   "execution_count": 27,
   "id": "1273a96e-9988-4004-a3b5-03700b0a4a07",
   "metadata": {},
   "outputs": [
    {
     "name": "stdout",
     "output_type": "stream",
     "text": [
      "hello world ('abc', 'abc', 123, 'abc')\n"
     ]
    }
   ],
   "source": [
    "def my_func(*args):\n",
    "    print(\"hello world\", args)\n",
    "\n",
    "my_func(\"abc\", \"abc\", 123, \"abc\")"
   ]
  },
  {
   "cell_type": "code",
   "execution_count": 33,
   "id": "d077e998-ddce-4517-ae66-8adc78fc2333",
   "metadata": {},
   "outputs": [
    {
     "name": "stdout",
     "output_type": "stream",
     "text": [
      "hello world ('abc', 123, 'def') {'key': 456}\n"
     ]
    }
   ],
   "source": [
    "def my_func(*args, **kwargs):\n",
    "    print(\"hello world\", args, kwargs)\n",
    "\n",
    "# Correct function call\n",
    "my_func(\"abc\", 123, \"def\", key=456)"
   ]
  },
  {
   "cell_type": "code",
   "execution_count": 34,
   "id": "fd3e388c-08ec-4c11-801d-4b9ab6ecff06",
   "metadata": {},
   "outputs": [
    {
     "name": "stdout",
     "output_type": "stream",
     "text": [
      "hello world ('abc', 123, 'def') {'key': 456, 'abc': 123}\n"
     ]
    }
   ],
   "source": [
    "def my_func(*args, **kwargs):\n",
    "    print(\"hello world\", args, kwargs)\n",
    "\n",
    "# Correct function call\n",
    "my_func(\"abc\", 123, \"def\", key=456, abc=123)"
   ]
  },
  {
   "cell_type": "code",
   "execution_count": 35,
   "id": "cfaf9487-6e49-491e-b2fe-ad7ae89681bd",
   "metadata": {},
   "outputs": [
    {
     "name": "stdout",
     "output_type": "stream",
     "text": [
      "hello world () {'abc': 123}\n"
     ]
    }
   ],
   "source": [
    "def my_func(arg_1, *args, **kwargs):\n",
    "    print(\"hello world\", args, kwargs)\n",
    "\n",
    "# Correct function call\n",
    "my_func(\"abc\", abc=123)"
   ]
  },
  {
   "cell_type": "code",
   "execution_count": 38,
   "id": "fe989934-e457-4d35-a286-0168e8df7540",
   "metadata": {},
   "outputs": [
    {
     "name": "stdout",
     "output_type": "stream",
     "text": [
      "{'id': 'some_id'}\n"
     ]
    },
    {
     "ename": "NameError",
     "evalue": "name 'Product' is not defined",
     "output_type": "error",
     "traceback": [
      "\u001b[0;31m---------------------------------------------------------------------------\u001b[0m",
      "\u001b[0;31mNameError\u001b[0m                                 Traceback (most recent call last)",
      "Cell \u001b[0;32mIn[38], line 4\u001b[0m\n\u001b[1;32m      2\u001b[0m     \u001b[38;5;28mprint\u001b[39m(kwargs)\n\u001b[1;32m      3\u001b[0m     Product\u001b[38;5;241m.\u001b[39mobjects\u001b[38;5;241m.\u001b[39mget(\u001b[38;5;28mid\u001b[39m\u001b[38;5;241m=\u001b[39mkwargs\u001b[38;5;241m.\u001b[39mget(\u001b[38;5;124m'\u001b[39m\u001b[38;5;124mid\u001b[39m\u001b[38;5;124m'\u001b[39m))\n\u001b[0;32m----> 4\u001b[0m \u001b[43mmy_random_django_view\u001b[49m\u001b[43m(\u001b[49m\u001b[38;5;124;43m\"\u001b[39;49m\u001b[38;5;124;43mrequest\u001b[39;49m\u001b[38;5;124;43m\"\u001b[39;49m\u001b[43m,\u001b[49m\u001b[43m \u001b[49m\u001b[38;5;28;43mid\u001b[39;49m\u001b[38;5;241;43m=\u001b[39;49m\u001b[38;5;124;43m'\u001b[39;49m\u001b[38;5;124;43msome_id\u001b[39;49m\u001b[38;5;124;43m'\u001b[39;49m\u001b[43m)\u001b[49m\n",
      "Cell \u001b[0;32mIn[38], line 3\u001b[0m, in \u001b[0;36mmy_random_django_view\u001b[0;34m(request, **kwargs)\u001b[0m\n\u001b[1;32m      1\u001b[0m \u001b[38;5;28;01mdef\u001b[39;00m \u001b[38;5;21mmy_random_django_view\u001b[39m(request, \u001b[38;5;241m*\u001b[39m\u001b[38;5;241m*\u001b[39mkwargs):\n\u001b[1;32m      2\u001b[0m     \u001b[38;5;28mprint\u001b[39m(kwargs)\n\u001b[0;32m----> 3\u001b[0m     \u001b[43mProduct\u001b[49m\u001b[38;5;241m.\u001b[39mobjects\u001b[38;5;241m.\u001b[39mget(\u001b[38;5;28mid\u001b[39m\u001b[38;5;241m=\u001b[39mkwargs\u001b[38;5;241m.\u001b[39mget(\u001b[38;5;124m'\u001b[39m\u001b[38;5;124mid\u001b[39m\u001b[38;5;124m'\u001b[39m))\n",
      "\u001b[0;31mNameError\u001b[0m: name 'Product' is not defined"
     ]
    }
   ],
   "source": [
    "def my_random_django_view(request, **kwargs):\n",
    "    print(kwargs)\n",
    "    Product.objects.get(id=kwargs.get('id'))\n",
    "my_random_django_view(\"request\", id='some_id')"
   ]
  },
  {
   "cell_type": "code",
   "execution_count": null,
   "id": "5b3f8eab-7f1a-46bf-8f49-7e65d9a34849",
   "metadata": {},
   "outputs": [],
   "source": []
  },
  {
   "cell_type": "code",
   "execution_count": null,
   "id": "1fba0e89-d571-4c0b-a6b8-544ff3588bc5",
   "metadata": {},
   "outputs": [],
   "source": []
  }
 ],
 "metadata": {
  "kernelspec": {
   "display_name": "Python 3 (ipykernel)",
   "language": "python",
   "name": "python3"
  },
  "language_info": {
   "codemirror_mode": {
    "name": "ipython",
    "version": 3
   },
   "file_extension": ".py",
   "mimetype": "text/x-python",
   "name": "python",
   "nbconvert_exporter": "python",
   "pygments_lexer": "ipython3",
   "version": "3.12.2"
  }
 },
 "nbformat": 4,
 "nbformat_minor": 5
}
