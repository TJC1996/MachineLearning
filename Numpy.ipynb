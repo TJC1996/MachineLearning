{
 "cells": [
  {
   "cell_type": "code",
   "execution_count": null,
   "id": "0de472a1-96c1-45c1-9268-86a31aaaded9",
   "metadata": {},
   "outputs": [],
   "source": [
    "!pip install numpy"
   ]
  },
  {
   "cell_type": "code",
   "execution_count": null,
   "id": "a5dfd1cd-799e-4884-b485-724db82a2f75",
   "metadata": {},
   "outputs": [],
   "source": [
    "!python -m pip install numpy\n"
   ]
  },
  {
   "cell_type": "code",
   "execution_count": null,
   "id": "02fde31b-0db8-4f2b-b81e-f068fb26b1d0",
   "metadata": {},
   "outputs": [],
   "source": []
  },
  {
   "cell_type": "code",
   "execution_count": null,
   "id": "93d3eca2-3021-42d4-a813-2c11640ae774",
   "metadata": {},
   "outputs": [],
   "source": []
  },
  {
   "cell_type": "code",
   "execution_count": null,
   "id": "4d62920a-1e0b-4e09-b5be-b916e50dffda",
   "metadata": {},
   "outputs": [],
   "source": [
    "!pip install numpy"
   ]
  },
  {
   "cell_type": "code",
   "execution_count": null,
   "id": "bfe75497-42fc-4cae-94b0-f95ce4dd2c81",
   "metadata": {},
   "outputs": [],
   "source": [
    "import sys\n"
   ]
  },
  {
   "cell_type": "code",
   "execution_count": null,
   "id": "f4f55dad-e6f5-4633-b885-ffcc8578f2c5",
   "metadata": {},
   "outputs": [],
   "source": [
    "print(sys.executable)\n"
   ]
  },
  {
   "cell_type": "code",
   "execution_count": null,
   "id": "618fce79-f3ae-4e4a-a8f1-232447aa2f04",
   "metadata": {},
   "outputs": [],
   "source": [
    "!echo $PATH\n"
   ]
  },
  {
   "cell_type": "code",
   "execution_count": null,
   "id": "5da845b5-d5df-4f0c-847e-7662a517bbb3",
   "metadata": {},
   "outputs": [],
   "source": [
    "import sys\n",
    "!{sys.executable} -m pip install numpy\n"
   ]
  },
  {
   "cell_type": "code",
   "execution_count": null,
   "id": "f5f41ba2-5504-42c3-aca4-4f4d7c0be8b7",
   "metadata": {},
   "outputs": [],
   "source": [
    "pip install numpy"
   ]
  },
  {
   "cell_type": "code",
   "execution_count": 1,
   "id": "457c2bdf-e5a3-45a2-b92f-a8e9bc25c904",
   "metadata": {},
   "outputs": [],
   "source": [
    "import numpy as np\n"
   ]
  },
  {
   "cell_type": "code",
   "execution_count": 2,
   "id": "6347eb09-d939-40bc-a77d-dc25efa3aa54",
   "metadata": {},
   "outputs": [],
   "source": [
    "data = np.random.rand(2,3,4)\n",
    "zeroes = np.zeros((2,2,2))\n",
    "full = np.full((2,2,2), 7)\n",
    "ones = np.ones((2,2,2))"
   ]
  },
  {
   "cell_type": "code",
   "execution_count": 3,
   "id": "48ba714b-165d-43e4-9a2c-80ab4900eb1b",
   "metadata": {},
   "outputs": [
    {
     "data": {
      "text/plain": [
       "array([[[0.95034957, 0.20439886, 0.21080626, 0.98083889],\n",
       "        [0.07784873, 0.89151076, 0.91135356, 0.79180824],\n",
       "        [0.48185005, 0.40695618, 0.03084686, 0.54835304]],\n",
       "\n",
       "       [[0.2806066 , 0.07060465, 0.46325886, 0.06027427],\n",
       "        [0.13071436, 0.06723972, 0.90828992, 0.70210562],\n",
       "        [0.16798882, 0.19225242, 0.85275474, 0.232744  ]]])"
      ]
     },
     "execution_count": 3,
     "metadata": {},
     "output_type": "execute_result"
    }
   ],
   "source": [
    "data"
   ]
  },
  {
   "cell_type": "code",
   "execution_count": 4,
   "id": "bde57818-a962-47ea-aad8-2f635c44fdc5",
   "metadata": {},
   "outputs": [
    {
     "data": {
      "text/plain": [
       "array([[[0., 0.],\n",
       "        [0., 0.]],\n",
       "\n",
       "       [[0., 0.],\n",
       "        [0., 0.]]])"
      ]
     },
     "execution_count": 4,
     "metadata": {},
     "output_type": "execute_result"
    }
   ],
   "source": [
    "zeroes"
   ]
  },
  {
   "cell_type": "code",
   "execution_count": 5,
   "id": "1b05f718-7dbc-4241-aa63-58062b9ba689",
   "metadata": {},
   "outputs": [
    {
     "data": {
      "text/plain": [
       "array([[[7, 7],\n",
       "        [7, 7]],\n",
       "\n",
       "       [[7, 7],\n",
       "        [7, 7]]])"
      ]
     },
     "execution_count": 5,
     "metadata": {},
     "output_type": "execute_result"
    }
   ],
   "source": [
    "full"
   ]
  },
  {
   "cell_type": "code",
   "execution_count": 6,
   "id": "f40e5fb1-bb72-45e7-9d35-c21897abb610",
   "metadata": {},
   "outputs": [
    {
     "data": {
      "text/plain": [
       "array([[[1., 1.],\n",
       "        [1., 1.]],\n",
       "\n",
       "       [[1., 1.],\n",
       "        [1., 1.]]])"
      ]
     },
     "execution_count": 6,
     "metadata": {},
     "output_type": "execute_result"
    }
   ],
   "source": [
    "ones"
   ]
  },
  {
   "cell_type": "code",
   "execution_count": 7,
   "id": "5da493ac-a97a-4095-982e-14c8b3481e39",
   "metadata": {},
   "outputs": [],
   "source": [
    "arr = np.array([[1,2,3,4],[1,2,3,4]])"
   ]
  },
  {
   "cell_type": "code",
   "execution_count": 8,
   "id": "0103bdc1-4671-4661-a700-eb0523c7fd39",
   "metadata": {},
   "outputs": [
    {
     "data": {
      "text/plain": [
       "array([[1, 2, 3, 4],\n",
       "       [1, 2, 3, 4]])"
      ]
     },
     "execution_count": 8,
     "metadata": {},
     "output_type": "execute_result"
    }
   ],
   "source": [
    "arr"
   ]
  },
  {
   "cell_type": "code",
   "execution_count": 9,
   "id": "b58ecb00-4b07-4720-a408-3bf819b604b2",
   "metadata": {},
   "outputs": [
    {
     "data": {
      "text/plain": [
       "numpy.ndarray"
      ]
     },
     "execution_count": 9,
     "metadata": {},
     "output_type": "execute_result"
    }
   ],
   "source": [
    " type(arr)"
   ]
  },
  {
   "cell_type": "code",
   "execution_count": 10,
   "id": "4c033c1e-c92c-44f7-809d-f475c54fcbb6",
   "metadata": {},
   "outputs": [],
   "source": [
    "#Attribute\n",
    "shape = data.shape\n",
    "size = data.size\n",
    "types = data.dtype"
   ]
  },
  {
   "cell_type": "code",
   "execution_count": 11,
   "id": "40bcbabe-44d6-4cc4-95c8-3c914b7b026e",
   "metadata": {},
   "outputs": [
    {
     "data": {
      "text/plain": [
       "(2, 3, 4)"
      ]
     },
     "execution_count": 11,
     "metadata": {},
     "output_type": "execute_result"
    }
   ],
   "source": [
    "shape"
   ]
  },
  {
   "cell_type": "code",
   "execution_count": 12,
   "id": "a351886f-2638-4dce-873b-09eeab9a39ff",
   "metadata": {},
   "outputs": [
    {
     "data": {
      "text/plain": [
       "24"
      ]
     },
     "execution_count": 12,
     "metadata": {},
     "output_type": "execute_result"
    }
   ],
   "source": [
    "size"
   ]
  },
  {
   "cell_type": "code",
   "execution_count": 13,
   "id": "be695039-79de-4622-9d60-a60368403b87",
   "metadata": {},
   "outputs": [
    {
     "data": {
      "text/plain": [
       "type"
      ]
     },
     "execution_count": 13,
     "metadata": {},
     "output_type": "execute_result"
    }
   ],
   "source": [
    "type"
   ]
  },
  {
   "cell_type": "code",
   "execution_count": 14,
   "id": "676a2baf-ddae-4c21-9897-f765ccccaecc",
   "metadata": {},
   "outputs": [
    {
     "data": {
      "text/plain": [
       "dtype('float64')"
      ]
     },
     "execution_count": 14,
     "metadata": {},
     "output_type": "execute_result"
    }
   ],
   "source": [
    "types"
   ]
  },
  {
   "cell_type": "code",
   "execution_count": 21,
   "id": "c5c43b09-4b8b-476c-a8b8-70e586b15a6e",
   "metadata": {},
   "outputs": [],
   "source": [
    "# Slicing\n",
    "arr = data[0]\n",
    "slicer = data[0][0:2]\n",
    "reverse = data[-1]\n",
    "singleval = data[0][0][0]"
   ]
  },
  {
   "cell_type": "code",
   "execution_count": 16,
   "id": "1a45ad28-8594-424b-95f4-09315743ec3e",
   "metadata": {},
   "outputs": [
    {
     "data": {
      "text/plain": [
       "array([[0.95034957, 0.20439886, 0.21080626, 0.98083889],\n",
       "       [0.07784873, 0.89151076, 0.91135356, 0.79180824],\n",
       "       [0.48185005, 0.40695618, 0.03084686, 0.54835304]])"
      ]
     },
     "execution_count": 16,
     "metadata": {},
     "output_type": "execute_result"
    }
   ],
   "source": [
    "arr"
   ]
  },
  {
   "cell_type": "code",
   "execution_count": 17,
   "id": "230d5f3d-4ddd-4403-aa7e-5a1693e7c48c",
   "metadata": {},
   "outputs": [
    {
     "data": {
      "text/plain": [
       "array([[[0.95034957, 0.20439886, 0.21080626, 0.98083889],\n",
       "        [0.07784873, 0.89151076, 0.91135356, 0.79180824],\n",
       "        [0.48185005, 0.40695618, 0.03084686, 0.54835304]],\n",
       "\n",
       "       [[0.2806066 , 0.07060465, 0.46325886, 0.06027427],\n",
       "        [0.13071436, 0.06723972, 0.90828992, 0.70210562],\n",
       "        [0.16798882, 0.19225242, 0.85275474, 0.232744  ]]])"
      ]
     },
     "execution_count": 17,
     "metadata": {},
     "output_type": "execute_result"
    }
   ],
   "source": [
    "slicer"
   ]
  },
  {
   "cell_type": "code",
   "execution_count": 19,
   "id": "7c260dc3-4300-4468-980a-7f9f24e88282",
   "metadata": {},
   "outputs": [
    {
     "data": {
      "text/plain": [
       "array([0.48185005, 0.40695618, 0.03084686, 0.54835304])"
      ]
     },
     "execution_count": 19,
     "metadata": {},
     "output_type": "execute_result"
    }
   ],
   "source": [
    "slicer"
   ]
  },
  {
   "cell_type": "code",
   "execution_count": 20,
   "id": "ff6c0314-581b-4a0d-af98-121f6aa20879",
   "metadata": {},
   "outputs": [
    {
     "data": {
      "text/plain": [
       "array([[0.2806066 , 0.07060465, 0.46325886, 0.06027427],\n",
       "       [0.13071436, 0.06723972, 0.90828992, 0.70210562],\n",
       "       [0.16798882, 0.19225242, 0.85275474, 0.232744  ]])"
      ]
     },
     "execution_count": 20,
     "metadata": {},
     "output_type": "execute_result"
    }
   ],
   "source": [
    "reverse"
   ]
  },
  {
   "cell_type": "code",
   "execution_count": 22,
   "id": "b7630ecf-b55e-4b18-8e89-85d87fd28d1c",
   "metadata": {},
   "outputs": [
    {
     "data": {
      "text/plain": [
       "array([[0.95034957, 0.20439886, 0.21080626, 0.98083889],\n",
       "       [0.07784873, 0.89151076, 0.91135356, 0.79180824]])"
      ]
     },
     "execution_count": 22,
     "metadata": {},
     "output_type": "execute_result"
    }
   ],
   "source": [
    "slicer"
   ]
  },
  {
   "cell_type": "code",
   "execution_count": 23,
   "id": "d6710ddb-38ce-4d0d-850e-e89351c16420",
   "metadata": {},
   "outputs": [
    {
     "data": {
      "text/plain": [
       "0.9503495737980849"
      ]
     },
     "execution_count": 23,
     "metadata": {},
     "output_type": "execute_result"
    }
   ],
   "source": [
    "singleval"
   ]
  },
  {
   "cell_type": "code",
   "execution_count": 24,
   "id": "eb21cfa3-d625-4cee-aaae-d3f093fa77bb",
   "metadata": {},
   "outputs": [],
   "source": [
    "list1 = np.random.rand(10)\n",
    "list2 = np.random.rand(10)\n"
   ]
  },
  {
   "cell_type": "code",
   "execution_count": 25,
   "id": "a1dd5722-ce0d-4c17-a1ea-4aa91fa0fcdd",
   "metadata": {},
   "outputs": [
    {
     "data": {
      "text/plain": [
       "array([0.01797494, 0.87541415, 0.57692132, 0.43973851, 0.54994048,\n",
       "       0.21187596, 0.21081912, 0.46803171, 0.44560726, 0.49189563])"
      ]
     },
     "execution_count": 25,
     "metadata": {},
     "output_type": "execute_result"
    }
   ],
   "source": [
    "list2"
   ]
  },
  {
   "cell_type": "code",
   "execution_count": 26,
   "id": "eec4c1d2-bac2-4a2f-96b6-078d4a133142",
   "metadata": {},
   "outputs": [],
   "source": [
    "#Basic Math\n",
    "\n",
    "add = np.add(list1, list2)\n",
    "sub = np.subtract(list1, list2)\n",
    "div = np.divide(list1, list2)\n",
    "mult = np.multiply(list1, list2)\n",
    "dot = np.dot(list1, list2)"
   ]
  },
  {
   "cell_type": "code",
   "execution_count": 27,
   "id": "02850580-f52a-4c15-9f42-f6c25faa722c",
   "metadata": {},
   "outputs": [
    {
     "data": {
      "text/plain": [
       "array([0.64443045, 1.01189541, 0.83507825, 1.26191919, 1.31921618,\n",
       "       0.6314709 , 1.02604231, 1.41726607, 1.24109518, 0.86992126])"
      ]
     },
     "execution_count": 27,
     "metadata": {},
     "output_type": "execute_result"
    }
   ],
   "source": [
    "add"
   ]
  },
  {
   "cell_type": "code",
   "execution_count": 28,
   "id": "be603f0f-f23b-4e86-9e6d-83a6053940a7",
   "metadata": {},
   "outputs": [
    {
     "data": {
      "text/plain": [
       "array([ 0.60848056, -0.73893289, -0.31876439,  0.38244217,  0.21933523,\n",
       "        0.20771899,  0.60440407,  0.48120265,  0.34988066, -0.11387001])"
      ]
     },
     "execution_count": 28,
     "metadata": {},
     "output_type": "execute_result"
    }
   ],
   "source": [
    "sub"
   ]
  },
  {
   "cell_type": "code",
   "execution_count": 29,
   "id": "7e258d19-b7d5-4e1b-b549-36c202b6aed5",
   "metadata": {},
   "outputs": [
    {
     "data": {
      "text/plain": [
       "array([34.85160052,  0.15590479,  0.44747338,  1.86970361,  1.39883448,\n",
       "        1.98038018,  3.86693192,  2.02814112,  1.78517719,  0.76850779])"
      ]
     },
     "execution_count": 29,
     "metadata": {},
     "output_type": "execute_result"
    }
   ],
   "source": [
    "div"
   ]
  },
  {
   "cell_type": "code",
   "execution_count": 30,
   "id": "e8ce5109-f24f-44d6-8f7f-17054f457b3a",
   "metadata": {},
   "outputs": [
    {
     "data": {
      "text/plain": [
       "array([0.0112605 , 0.11947763, 0.14893624, 0.36154451, 0.42305584,\n",
       "       0.08890208, 0.17186464, 0.44427178, 0.35447519, 0.18594916])"
      ]
     },
     "execution_count": 30,
     "metadata": {},
     "output_type": "execute_result"
    }
   ],
   "source": [
    "mult"
   ]
  },
  {
   "cell_type": "code",
   "execution_count": 31,
   "id": "a787622e-08d5-4c07-9fe9-b959422a5674",
   "metadata": {},
   "outputs": [
    {
     "data": {
      "text/plain": [
       "2.309737562769244"
      ]
     },
     "execution_count": 31,
     "metadata": {},
     "output_type": "execute_result"
    }
   ],
   "source": [
    "dot"
   ]
  },
  {
   "cell_type": "code",
   "execution_count": 43,
   "id": "bbbfdbbb-ed42-47d8-80b6-3472412adfa3",
   "metadata": {},
   "outputs": [],
   "source": [
    "#Stat functions\n",
    "sqrt = np.sqrt(25)\n",
    "ab = np.abs(-2)\n",
    "power = np.power(2,7)\n",
    "log = np.log(25)\n",
    "exp = np.exp([2,3])\n",
    "mins = np.min(list1)\n",
    "maxs = np.max(list2)"
   ]
  },
  {
   "cell_type": "code",
   "execution_count": 33,
   "id": "e0b40352-0308-4ba2-af14-28d2b9521110",
   "metadata": {},
   "outputs": [
    {
     "data": {
      "text/plain": [
       "5.0"
      ]
     },
     "execution_count": 33,
     "metadata": {},
     "output_type": "execute_result"
    }
   ],
   "source": [
    "sqrt"
   ]
  },
  {
   "cell_type": "code",
   "execution_count": 34,
   "id": "206c39af-8c54-4860-8606-6d8d80091e0d",
   "metadata": {},
   "outputs": [
    {
     "data": {
      "text/plain": [
       "2"
      ]
     },
     "execution_count": 34,
     "metadata": {},
     "output_type": "execute_result"
    }
   ],
   "source": [
    "ab"
   ]
  },
  {
   "cell_type": "code",
   "execution_count": 35,
   "id": "f8fe5765-a277-4509-884a-acd917069274",
   "metadata": {},
   "outputs": [
    {
     "data": {
      "text/plain": [
       "128"
      ]
     },
     "execution_count": 35,
     "metadata": {},
     "output_type": "execute_result"
    }
   ],
   "source": [
    "power"
   ]
  },
  {
   "cell_type": "code",
   "execution_count": 36,
   "id": "dff50694-e327-4b68-9acc-40fe9f279c96",
   "metadata": {},
   "outputs": [
    {
     "data": {
      "text/plain": [
       "3.2188758248682006"
      ]
     },
     "execution_count": 36,
     "metadata": {},
     "output_type": "execute_result"
    }
   ],
   "source": [
    "log"
   ]
  },
  {
   "cell_type": "code",
   "execution_count": 37,
   "id": "c4ac2bc2-e11c-42f3-a272-56b0e0185532",
   "metadata": {},
   "outputs": [
    {
     "data": {
      "text/plain": [
       "[2, 3]"
      ]
     },
     "execution_count": 37,
     "metadata": {},
     "output_type": "execute_result"
    }
   ],
   "source": [
    "exp"
   ]
  },
  {
   "cell_type": "code",
   "execution_count": 38,
   "id": "19859886-8f56-4883-8f7b-2bcbf5af7762",
   "metadata": {},
   "outputs": [
    {
     "data": {
      "text/plain": [
       "0.1364812590045763"
      ]
     },
     "execution_count": 38,
     "metadata": {},
     "output_type": "execute_result"
    }
   ],
   "source": [
    "mins"
   ]
  },
  {
   "cell_type": "code",
   "execution_count": 39,
   "id": "cbb707d3-0aee-4faf-b0e7-e3aa5751ed3b",
   "metadata": {},
   "outputs": [
    {
     "data": {
      "text/plain": [
       "<function max>"
      ]
     },
     "execution_count": 39,
     "metadata": {},
     "output_type": "execute_result"
    }
   ],
   "source": [
    "max"
   ]
  },
  {
   "cell_type": "code",
   "execution_count": 40,
   "id": "cc6656c7-bae2-4e89-a67c-0c90e339223c",
   "metadata": {},
   "outputs": [
    {
     "data": {
      "text/plain": [
       "0.8754141528245627"
      ]
     },
     "execution_count": 40,
     "metadata": {},
     "output_type": "execute_result"
    }
   ],
   "source": [
    "maxs"
   ]
  },
  {
   "cell_type": "code",
   "execution_count": 42,
   "id": "ac5740b0-6913-40ec-a1b6-38d696828d13",
   "metadata": {},
   "outputs": [
    {
     "data": {
      "text/plain": [
       "[2, 3]"
      ]
     },
     "execution_count": 42,
     "metadata": {},
     "output_type": "execute_result"
    }
   ],
   "source": [
    "exp"
   ]
  },
  {
   "cell_type": "code",
   "execution_count": 44,
   "id": "fe972db2-cb76-42d2-bcbb-86d3d9093cd9",
   "metadata": {},
   "outputs": [
    {
     "data": {
      "text/plain": [
       "array([ 7.3890561 , 20.08553692])"
      ]
     },
     "execution_count": 44,
     "metadata": {},
     "output_type": "execute_result"
    }
   ],
   "source": [
    "exp"
   ]
  },
  {
   "cell_type": "code",
   "execution_count": 45,
   "id": "e1976b3f-dc1d-4033-8b80-f31d099c22ed",
   "metadata": {},
   "outputs": [
    {
     "data": {
      "text/plain": [
       "array([[[0.95034957, 0.20439886, 0.21080626, 0.98083889],\n",
       "        [0.07784873, 0.89151076, 0.91135356, 0.79180824],\n",
       "        [0.48185005, 0.40695618, 0.03084686, 0.54835304]],\n",
       "\n",
       "       [[0.2806066 , 0.07060465, 0.46325886, 0.06027427],\n",
       "        [0.13071436, 0.06723972, 0.90828992, 0.70210562],\n",
       "        [0.16798882, 0.19225242, 0.85275474, 0.232744  ]]])"
      ]
     },
     "execution_count": 45,
     "metadata": {},
     "output_type": "execute_result"
    }
   ],
   "source": [
    "data"
   ]
  },
  {
   "cell_type": "code",
   "execution_count": 46,
   "id": "82ebfb06-fc14-482a-b89f-3fee9d7c91c8",
   "metadata": {},
   "outputs": [
    {
     "data": {
      "text/plain": [
       "0.9503495737980849"
      ]
     },
     "execution_count": 46,
     "metadata": {},
     "output_type": "execute_result"
    }
   ],
   "source": [
    "data[0][0][0]"
   ]
  },
  {
   "cell_type": "code",
   "execution_count": 47,
   "id": "9b445061-9e7e-4a9c-ae24-af45b9f94419",
   "metadata": {},
   "outputs": [],
   "source": [
    "data[0][0][0] = 700"
   ]
  },
  {
   "cell_type": "code",
   "execution_count": 48,
   "id": "61b3ba4c-74ad-44d4-a18f-a313ce0d4fe2",
   "metadata": {},
   "outputs": [
    {
     "data": {
      "text/plain": [
       "array([[[7.00000000e+02, 2.04398863e-01, 2.10806264e-01, 9.80838891e-01],\n",
       "        [7.78487277e-02, 8.91510763e-01, 9.11353559e-01, 7.91808238e-01],\n",
       "        [4.81850048e-01, 4.06956176e-01, 3.08468620e-02, 5.48353040e-01]],\n",
       "\n",
       "       [[2.80606598e-01, 7.06046477e-02, 4.63258862e-01, 6.02742690e-02],\n",
       "        [1.30714356e-01, 6.72397176e-02, 9.08289918e-01, 7.02105615e-01],\n",
       "        [1.67988822e-01, 1.92252423e-01, 8.52754736e-01, 2.32744000e-01]]])"
      ]
     },
     "execution_count": 48,
     "metadata": {},
     "output_type": "execute_result"
    }
   ],
   "source": [
    "data"
   ]
  },
  {
   "cell_type": "code",
   "execution_count": 49,
   "id": "3a71ff23-cff0-4979-a6a1-28c773aa0882",
   "metadata": {},
   "outputs": [
    {
     "name": "stdout",
     "output_type": "stream",
     "text": [
      "(2, 3, 4)\n"
     ]
    }
   ],
   "source": [
    "print(data.shape)"
   ]
  },
  {
   "cell_type": "code",
   "execution_count": 50,
   "id": "8dc032a7-d999-4c85-abb3-02bee3d77854",
   "metadata": {},
   "outputs": [
    {
     "data": {
      "text/plain": [
       "(2, 2, 6)"
      ]
     },
     "execution_count": 50,
     "metadata": {},
     "output_type": "execute_result"
    }
   ],
   "source": [
    "data = data.reshape((2,2,-1))\n",
    "data.shape"
   ]
  },
  {
   "cell_type": "code",
   "execution_count": 52,
   "id": "5d6a2941-fbb2-4991-8b7d-eaffbedcabca",
   "metadata": {},
   "outputs": [
    {
     "name": "stdout",
     "output_type": "stream",
     "text": [
      "[0. 0. 0. 0. 0. 0. 0. 0.]\n",
      "[0. 0. 0. 0. 0. 0. 0. 0. 3. 4.]\n"
     ]
    }
   ],
   "source": [
    "zeroes = np.zeros((8))\n",
    "print(zeroes)\n",
    "zeroes = np.append(zeroes, [3,4])\n",
    "print(zeroes)"
   ]
  },
  {
   "cell_type": "code",
   "execution_count": 53,
   "id": "8ddd58f3-62ba-4645-b14f-255636df8ae4",
   "metadata": {},
   "outputs": [
    {
     "name": "stdout",
     "output_type": "stream",
     "text": [
      "[0. 0. 1. 0. 0. 0. 0. 0. 0. 3. 4.]\n"
     ]
    }
   ],
   "source": [
    "zeroes = np.insert(zeroes, 2, 1)\n",
    "print(zeroes)"
   ]
  },
  {
   "cell_type": "code",
   "execution_count": 54,
   "id": "b7ab0cf6-1142-4d41-9fb4-dc38f8bc955e",
   "metadata": {},
   "outputs": [
    {
     "data": {
      "text/plain": [
       "array([[[7.00000000e+02, 2.04398863e-01, 2.10806264e-01, 9.80838891e-01,\n",
       "         7.78487277e-02, 8.91510763e-01],\n",
       "        [9.11353559e-01, 7.91808238e-01, 4.81850048e-01, 4.06956176e-01,\n",
       "         3.08468620e-02, 5.48353040e-01]],\n",
       "\n",
       "       [[2.80606598e-01, 7.06046477e-02, 4.63258862e-01, 6.02742690e-02,\n",
       "         1.30714356e-01, 6.72397176e-02],\n",
       "        [9.08289918e-01, 7.02105615e-01, 1.67988822e-01, 1.92252423e-01,\n",
       "         8.52754736e-01, 2.32744000e-01]]])"
      ]
     },
     "execution_count": 54,
     "metadata": {},
     "output_type": "execute_result"
    }
   ],
   "source": [
    "data"
   ]
  },
  {
   "cell_type": "code",
   "execution_count": 55,
   "id": "9222c68f-77e6-47c0-afbb-385fa8af7122",
   "metadata": {},
   "outputs": [
    {
     "data": {
      "text/plain": [
       "array([[[0.91135356, 0.79180824, 0.48185005, 0.40695618, 0.03084686,\n",
       "         0.54835304]],\n",
       "\n",
       "       [[0.90828992, 0.70210562, 0.16798882, 0.19225242, 0.85275474,\n",
       "         0.232744  ]]])"
      ]
     },
     "execution_count": 55,
     "metadata": {},
     "output_type": "execute_result"
    }
   ],
   "source": [
    " np.delete(data, 0, axis=1)"
   ]
  },
  {
   "cell_type": "code",
   "execution_count": 56,
   "id": "987bfb27-a54e-41ff-beaf-30a895094523",
   "metadata": {},
   "outputs": [],
   "source": [
    "np.save(\"new array\", data)"
   ]
  },
  {
   "cell_type": "code",
   "execution_count": 57,
   "id": "cfd277e7-c406-48e7-85b7-2d41f50de5d3",
   "metadata": {},
   "outputs": [],
   "source": [
    "test = np.load(\"new array.npy\")"
   ]
  },
  {
   "cell_type": "code",
   "execution_count": 58,
   "id": "11d171be-6a7a-4bad-97ed-96c5c639e954",
   "metadata": {},
   "outputs": [
    {
     "data": {
      "text/plain": [
       "array([[[7.00000000e+02, 2.04398863e-01, 2.10806264e-01, 9.80838891e-01,\n",
       "         7.78487277e-02, 8.91510763e-01],\n",
       "        [9.11353559e-01, 7.91808238e-01, 4.81850048e-01, 4.06956176e-01,\n",
       "         3.08468620e-02, 5.48353040e-01]],\n",
       "\n",
       "       [[2.80606598e-01, 7.06046477e-02, 4.63258862e-01, 6.02742690e-02,\n",
       "         1.30714356e-01, 6.72397176e-02],\n",
       "        [9.08289918e-01, 7.02105615e-01, 1.67988822e-01, 1.92252423e-01,\n",
       "         8.52754736e-01, 2.32744000e-01]]])"
      ]
     },
     "execution_count": 58,
     "metadata": {},
     "output_type": "execute_result"
    }
   ],
   "source": [
    "test"
   ]
  },
  {
   "cell_type": "code",
   "execution_count": null,
   "id": "cae93c80-3a59-40ba-aede-a692d43ce5f3",
   "metadata": {},
   "outputs": [],
   "source": []
  }
 ],
 "metadata": {
  "kernelspec": {
   "display_name": "Python 3 (ipykernel)",
   "language": "python",
   "name": "python3"
  },
  "language_info": {
   "codemirror_mode": {
    "name": "ipython",
    "version": 3
   },
   "file_extension": ".py",
   "mimetype": "text/x-python",
   "name": "python",
   "nbconvert_exporter": "python",
   "pygments_lexer": "ipython3",
   "version": "3.12.2"
  }
 },
 "nbformat": 4,
 "nbformat_minor": 5
}
