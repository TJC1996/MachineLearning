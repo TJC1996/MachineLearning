{
 "cells": [
  {
   "cell_type": "code",
   "execution_count": 1,
   "id": "27864ee3-99a0-4236-985d-efde63d626c0",
   "metadata": {},
   "outputs": [],
   "source": [
    "#6 Collections\n",
    "import collections\n",
    "from collections import Counter\n",
    "\n",
    "#Containers\n",
    "#list\n",
    "#set\n",
    "#dict\n",
    "#tuple - immutable\n",
    "\n",
    "#Types\n",
    "#1 counter <- this video\n",
    "#2 deque\n",
    "#3 namedTuple()\n",
    "#4 orderdDict\n",
    "#5 defaultdict\n"
   ]
  },
  {
   "cell_type": "code",
   "execution_count": null,
   "id": "ecb80e10-49d0-42d9-a2bb-4660749c29ea",
   "metadata": {},
   "outputs": [],
   "source": []
  },
  {
   "cell_type": "code",
   "execution_count": 3,
   "id": "fc75be0d-9353-4b5a-9e31-3c5da03b79bf",
   "metadata": {},
   "outputs": [
    {
     "name": "stdout",
     "output_type": "stream",
     "text": [
      "Counter({'a': 2, 'l': 2, 'g': 1, 'd': 1})\n",
      "Counter({'a': 3, 'b': 2, 'c': 1})\n",
      "Counter({'b': 2, 'a': 1})\n",
      "Counter({'dogs': 7, 'cats': 4})\n"
     ]
    }
   ],
   "source": [
    "c = Counter('gallad')\n",
    "print(c)\n",
    "c = Counter(['a', 'b', 'b', 'a', 'a', 'c'])\n",
    "print(c)\n",
    "\n",
    "c = Counter({'a':1, 'b':2})\n",
    "print(c)\n",
    "\n",
    "c = Counter(cats=4, dogs=7)\n",
    "print(c)\n"
   ]
  },
  {
   "cell_type": "code",
   "execution_count": 4,
   "id": "c2a23ddc-b024-4769-a7a0-59930c931d92",
   "metadata": {},
   "outputs": [
    {
     "name": "stdout",
     "output_type": "stream",
     "text": [
      "0\n"
     ]
    }
   ],
   "source": [
    "print(c['pet'])"
   ]
  },
  {
   "cell_type": "code",
   "execution_count": 5,
   "id": "fe727220-23fc-4a4f-9ed5-1f9dd930efa0",
   "metadata": {},
   "outputs": [
    {
     "ename": "KeyError",
     "evalue": "'pet'",
     "output_type": "error",
     "traceback": [
      "\u001b[0;31m---------------------------------------------------------------------------\u001b[0m",
      "\u001b[0;31mKeyError\u001b[0m                                  Traceback (most recent call last)",
      "Cell \u001b[0;32mIn[5], line 2\u001b[0m\n\u001b[1;32m      1\u001b[0m d \u001b[38;5;241m=\u001b[39m {\u001b[38;5;124m'\u001b[39m\u001b[38;5;124mcat\u001b[39m\u001b[38;5;124m'\u001b[39m:\u001b[38;5;241m2\u001b[39m}\n\u001b[0;32m----> 2\u001b[0m \u001b[38;5;28mprint\u001b[39m(\u001b[43md\u001b[49m\u001b[43m[\u001b[49m\u001b[38;5;124;43m'\u001b[39;49m\u001b[38;5;124;43mpet\u001b[39;49m\u001b[38;5;124;43m'\u001b[39;49m\u001b[43m]\u001b[49m)\n",
      "\u001b[0;31mKeyError\u001b[0m: 'pet'"
     ]
    }
   ],
   "source": [
    "d = {'cat':2}\n",
    "print(d['pet'])"
   ]
  },
  {
   "cell_type": "code",
   "execution_count": 6,
   "id": "5169e101-ba59-490d-9191-25ffeac95bba",
   "metadata": {},
   "outputs": [
    {
     "data": {
      "text/plain": [
       "['cats',\n",
       " 'cats',\n",
       " 'cats',\n",
       " 'cats',\n",
       " 'dogs',\n",
       " 'dogs',\n",
       " 'dogs',\n",
       " 'dogs',\n",
       " 'dogs',\n",
       " 'dogs',\n",
       " 'dogs']"
      ]
     },
     "execution_count": 6,
     "metadata": {},
     "output_type": "execute_result"
    }
   ],
   "source": [
    "list(c.elements())"
   ]
  },
  {
   "cell_type": "code",
   "execution_count": 14,
   "id": "b4ef5108-9d36-49cd-85b5-0b76c7a66666",
   "metadata": {},
   "outputs": [
    {
     "name": "stdout",
     "output_type": "stream",
     "text": [
      "['cats', 'cats', 'cats', 'cats', 'dogs', 'dogs', 'dogs', 'dogs', 'dogs', 'dogs', 'dogs']\n"
     ]
    }
   ],
   "source": [
    "d = Counter({'a':1, 'b':2})\n",
    "print(list(c.elements()))"
   ]
  },
  {
   "cell_type": "code",
   "execution_count": 15,
   "id": "3b73ad12-c690-430b-a8f7-62bf87a193f8",
   "metadata": {},
   "outputs": [
    {
     "data": {
      "text/plain": [
       "[('dogs', 7)]"
      ]
     },
     "execution_count": 15,
     "metadata": {},
     "output_type": "execute_result"
    }
   ],
   "source": [
    "c.most_common(1)"
   ]
  },
  {
   "cell_type": "code",
   "execution_count": 31,
   "id": "9cfb98d8-3e48-4ac7-9b73-b3532595bbf7",
   "metadata": {},
   "outputs": [
    {
     "name": "stdout",
     "output_type": "stream",
     "text": [
      "Counter({'a': 3, 'b': 0, 'c': -1, 'd': -2})\n"
     ]
    }
   ],
   "source": [
    "e = Counter(a=4, b=2, c=0, d=-2)\n",
    "f = ['a', 'b', 'b', 'c']\n",
    "e.subtract(f)\n",
    "print(e)"
   ]
  },
  {
   "cell_type": "code",
   "execution_count": 32,
   "id": "8ebcd337-0740-47d0-827b-29e7423a371b",
   "metadata": {},
   "outputs": [
    {
     "name": "stdout",
     "output_type": "stream",
     "text": [
      "Counter({'a': 4, 'b': 2, 'c': 0, 'd': -2})\n"
     ]
    }
   ],
   "source": [
    "e.update(f)\n",
    "print(e)"
   ]
  },
  {
   "cell_type": "code",
   "execution_count": 33,
   "id": "49f51682-29f9-46a5-bfdb-ecc56fb35b13",
   "metadata": {},
   "outputs": [
    {
     "name": "stdout",
     "output_type": "stream",
     "text": [
      "Counter({'a': 4, 'b': 2, 'c': 0, 'd': -2})\n",
      "Counter()\n"
     ]
    }
   ],
   "source": [
    "print(e)\n",
    "e.clear()\n",
    "print(e)"
   ]
  },
  {
   "cell_type": "code",
   "execution_count": 34,
   "id": "3bf1ae2b-dc0a-40f0-a0f1-32b6e77afc21",
   "metadata": {},
   "outputs": [],
   "source": [
    "e = Counter(a=4, b=2, c=0, d=-2)\n",
    "f = Counter(['a', 'b', 'b', 'c'])\n"
   ]
  },
  {
   "cell_type": "code",
   "execution_count": 35,
   "id": "400d3d76-ab08-401e-b590-cde44f50c1ba",
   "metadata": {},
   "outputs": [
    {
     "name": "stdout",
     "output_type": "stream",
     "text": [
      "Counter({'a': 5, 'b': 4, 'c': 1})\n",
      "Counter({'a': 3})\n",
      "\n"
     ]
    }
   ],
   "source": [
    "print(e + f)\n",
    "print(e-f)\n",
    "print()"
   ]
  },
  {
   "cell_type": "code",
   "execution_count": 36,
   "id": "0f146733-bc4f-4716-a0e3-516f67cca039",
   "metadata": {},
   "outputs": [
    {
     "name": "stdout",
     "output_type": "stream",
     "text": [
      "Counter({'b': 2, 'a': 1})\n"
     ]
    }
   ],
   "source": [
    "print(e & f)"
   ]
  },
  {
   "cell_type": "code",
   "execution_count": 37,
   "id": "06629a9d-746a-4d5f-a601-a934c4ae9af1",
   "metadata": {},
   "outputs": [
    {
     "name": "stdout",
     "output_type": "stream",
     "text": [
      "Counter({'a': 4, 'b': 2, 'c': 1})\n"
     ]
    }
   ],
   "source": [
    "print(e | f)"
   ]
  },
  {
   "cell_type": "code",
   "execution_count": null,
   "id": "0b9fec86-a6a9-481b-aef1-31558d791349",
   "metadata": {},
   "outputs": [],
   "source": []
  }
 ],
 "metadata": {
  "kernelspec": {
   "display_name": "Python 3 (ipykernel)",
   "language": "python",
   "name": "python3"
  },
  "language_info": {
   "codemirror_mode": {
    "name": "ipython",
    "version": 3
   },
   "file_extension": ".py",
   "mimetype": "text/x-python",
   "name": "python",
   "nbconvert_exporter": "python",
   "pygments_lexer": "ipython3",
   "version": "3.12.2"
  }
 },
 "nbformat": 4,
 "nbformat_minor": 5
}
