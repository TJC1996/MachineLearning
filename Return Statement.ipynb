{
 "cells": [
  {
   "cell_type": "code",
   "execution_count": 7,
   "id": "2fe1ac53-6831-4823-88ce-516ea187cf0c",
   "metadata": {},
   "outputs": [],
   "source": [
    "def cube(num):\n",
    "   return num * num * num"
   ]
  },
  {
   "cell_type": "code",
   "execution_count": 8,
   "id": "37993a6c-6224-4078-b87c-7debf5a87653",
   "metadata": {},
   "outputs": [
    {
     "data": {
      "text/plain": [
       "27"
      ]
     },
     "execution_count": 8,
     "metadata": {},
     "output_type": "execute_result"
    }
   ],
   "source": [
    "cube(3)"
   ]
  },
  {
   "cell_type": "code",
   "execution_count": 9,
   "id": "cbbf222c-cf3e-424d-bba7-4a1571544dd7",
   "metadata": {},
   "outputs": [
    {
     "data": {
      "text/plain": [
       "343"
      ]
     },
     "execution_count": 9,
     "metadata": {},
     "output_type": "execute_result"
    }
   ],
   "source": [
    "cube(7)"
   ]
  },
  {
   "cell_type": "code",
   "execution_count": 10,
   "id": "18359ccc-5075-41d5-84c4-5ba5660937b7",
   "metadata": {},
   "outputs": [
    {
     "data": {
      "text/plain": [
       "15813251"
      ]
     },
     "execution_count": 10,
     "metadata": {},
     "output_type": "execute_result"
    }
   ],
   "source": [
    "cube(251)"
   ]
  },
  {
   "cell_type": "code",
   "execution_count": 11,
   "id": "640e43c3-886c-4af0-bb75-9358217c605e",
   "metadata": {},
   "outputs": [
    {
     "name": "stdout",
     "output_type": "stream",
     "text": [
      "27\n"
     ]
    }
   ],
   "source": [
    "result = cube(3)\n",
    "print(result)"
   ]
  },
  {
   "cell_type": "code",
   "execution_count": null,
   "id": "630f7870-982f-4de4-b7c5-f7db2e3e7add",
   "metadata": {},
   "outputs": [],
   "source": []
  }
 ],
 "metadata": {
  "kernelspec": {
   "display_name": "Python 3 (ipykernel)",
   "language": "python",
   "name": "python3"
  },
  "language_info": {
   "codemirror_mode": {
    "name": "ipython",
    "version": 3
   },
   "file_extension": ".py",
   "mimetype": "text/x-python",
   "name": "python",
   "nbconvert_exporter": "python",
   "pygments_lexer": "ipython3",
   "version": "3.12.2"
  }
 },
 "nbformat": 4,
 "nbformat_minor": 5
}
