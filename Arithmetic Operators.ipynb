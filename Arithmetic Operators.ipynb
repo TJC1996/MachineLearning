{
 "cells": [
  {
   "cell_type": "code",
   "execution_count": 1,
   "id": "71584140-5522-4dec-84bc-6835a73febfd",
   "metadata": {},
   "outputs": [
    {
     "name": "stdout",
     "output_type": "stream",
     "text": [
      "13\n"
     ]
    }
   ],
   "source": [
    "print(10 + 3)"
   ]
  },
  {
   "cell_type": "code",
   "execution_count": 2,
   "id": "785da646-3ddd-476e-b3b6-e157ada44c32",
   "metadata": {},
   "outputs": [
    {
     "name": "stdout",
     "output_type": "stream",
     "text": [
      "30\n"
     ]
    }
   ],
   "source": [
    "print(10 * 3)"
   ]
  },
  {
   "cell_type": "code",
   "execution_count": 3,
   "id": "47181696-5658-4836-bde9-2ce3f5c58c88",
   "metadata": {},
   "outputs": [
    {
     "name": "stdout",
     "output_type": "stream",
     "text": [
      "3.3333333333333335\n"
     ]
    }
   ],
   "source": [
    "print(10 / 3)"
   ]
  },
  {
   "cell_type": "code",
   "execution_count": 4,
   "id": "89e836b5-48ba-4f32-900b-b7dd839577f4",
   "metadata": {},
   "outputs": [
    {
     "name": "stdout",
     "output_type": "stream",
     "text": [
      "3\n"
     ]
    }
   ],
   "source": [
    "print(10 // 3)"
   ]
  },
  {
   "cell_type": "code",
   "execution_count": 5,
   "id": "78ed4db4-fe97-4f6e-aaa2-225402770975",
   "metadata": {},
   "outputs": [
    {
     "name": "stdout",
     "output_type": "stream",
     "text": [
      "1\n"
     ]
    }
   ],
   "source": [
    "print(10 % 3)"
   ]
  },
  {
   "cell_type": "code",
   "execution_count": 6,
   "id": "a0d3372b-78af-4d99-b312-d85516103c66",
   "metadata": {},
   "outputs": [
    {
     "name": "stdout",
     "output_type": "stream",
     "text": [
      "1000\n"
     ]
    }
   ],
   "source": [
    "print(10 ** 3)"
   ]
  },
  {
   "cell_type": "code",
   "execution_count": 7,
   "id": "3fea9f6f-fa90-4808-b3a3-2fbb6b7483cc",
   "metadata": {},
   "outputs": [],
   "source": [
    "x = 10\n",
    "x = x + 3\n",
    "x += 3\n",
    "#Augmented Assignment Operator\n",
    "#Can you subtraction multiplcation and so on\n"
   ]
  },
  {
   "cell_type": "code",
   "execution_count": 8,
   "id": "b6146ca8-e68d-4892-8872-7fe7a09e19a2",
   "metadata": {},
   "outputs": [],
   "source": [
    "x = 3 > 2"
   ]
  },
  {
   "cell_type": "code",
   "execution_count": 9,
   "id": "c6a8ee58-ee85-4dad-b136-0a5ad71204db",
   "metadata": {},
   "outputs": [
    {
     "data": {
      "text/plain": [
       "True"
      ]
     },
     "execution_count": 9,
     "metadata": {},
     "output_type": "execute_result"
    }
   ],
   "source": [
    "x"
   ]
  },
  {
   "cell_type": "code",
   "execution_count": 10,
   "id": "927ec930-0fb1-4728-a4c7-6efbad7060cb",
   "metadata": {},
   "outputs": [
    {
     "name": "stdout",
     "output_type": "stream",
     "text": [
      "True\n"
     ]
    }
   ],
   "source": [
    "price = 25\n",
    "print(price > 10 and price < 30)"
   ]
  },
  {
   "cell_type": "code",
   "execution_count": 11,
   "id": "dff0414a-e66e-4e64-933b-512ce4507af1",
   "metadata": {},
   "outputs": [
    {
     "name": "stdout",
     "output_type": "stream",
     "text": [
      "True\n"
     ]
    }
   ],
   "source": [
    "price = 5\n",
    "print(price > 10 or price < 30)"
   ]
  },
  {
   "cell_type": "code",
   "execution_count": 12,
   "id": "4b86bd45-4f60-4ce6-90f8-36469fb15580",
   "metadata": {},
   "outputs": [
    {
     "name": "stdout",
     "output_type": "stream",
     "text": [
      "False\n"
     ]
    }
   ],
   "source": [
    "price = 25\n",
    "print(not price > 10)"
   ]
  },
  {
   "cell_type": "code",
   "execution_count": 13,
   "id": "9483b314-a062-4a8e-ab39-9ed644467959",
   "metadata": {},
   "outputs": [
    {
     "name": "stdout",
     "output_type": "stream",
     "text": [
      "It's a hot day\n",
      "Drink plenty of water\n"
     ]
    }
   ],
   "source": [
    "#if statements in python \n",
    "temperature = 35\n",
    "\n",
    "if temperature > 30:\n",
    "    print(\"It's a hot day\")\n",
    "    print(\"Drink plenty of water\")"
   ]
  },
  {
   "cell_type": "code",
   "execution_count": 14,
   "id": "52b3ecff-b8fa-434f-92a7-187d957df9f8",
   "metadata": {},
   "outputs": [],
   "source": [
    "#if statements in python \n",
    "temperature = 25\n",
    "\n",
    "if temperature > 30:\n",
    "    print(\"It's a hot day\")\n",
    "    print(\"Drink plenty of water\")"
   ]
  },
  {
   "cell_type": "code",
   "execution_count": 15,
   "id": "85f815a0-382d-4c7e-adc1-1dbeda6f232a",
   "metadata": {},
   "outputs": [
    {
     "name": "stdout",
     "output_type": "stream",
     "text": [
      "Done\n"
     ]
    }
   ],
   "source": [
    "#if statements in python \n",
    "temperature = 25\n",
    "\n",
    "if temperature > 30:\n",
    "    print(\"It's a hot day\")\n",
    "    print(\"Drink plenty of water\")\n",
    "print(\"Done\")"
   ]
  },
  {
   "cell_type": "code",
   "execution_count": 17,
   "id": "eb2ef318-480f-4b0d-9ec3-f77225497aeb",
   "metadata": {},
   "outputs": [
    {
     "name": "stdout",
     "output_type": "stream",
     "text": [
      "It's a nice day\n",
      "Done\n"
     ]
    }
   ],
   "source": [
    "#if statements in python \n",
    "temperature = 25\n",
    "\n",
    "if temperature > 30:\n",
    "    print(\"It's a hot day\")\n",
    "    print(\"Drink plenty of water\")\n",
    "elif temperature > 20:\n",
    "    print(\"It's a nice day\")\n",
    "print(\"Done\")"
   ]
  },
  {
   "cell_type": "code",
   "execution_count": 18,
   "id": "f1d6dcc1-3d92-4f67-8437-6e71689cc54c",
   "metadata": {},
   "outputs": [
    {
     "name": "stdout",
     "output_type": "stream",
     "text": [
      "It's a nice day\n",
      "Done\n"
     ]
    }
   ],
   "source": [
    "#if statements in python \n",
    "temperature = 25\n",
    "\n",
    "if temperature > 30:\n",
    "    print(\"It's a hot day\")\n",
    "    print(\"Drink plenty of water\")\n",
    "elif temperature > 20:\n",
    "    print(\"It's a nice day\")\n",
    "elif temperature > 10:\n",
    "    print(\"It's a bit cold\")\n",
    "else:\n",
    "    print(\"It's cold\")\n",
    "print(\"Done\")"
   ]
  },
  {
   "cell_type": "code",
   "execution_count": null,
   "id": "85f463ef-3acf-4a7c-8915-8f385a3f2e8a",
   "metadata": {},
   "outputs": [],
   "source": []
  },
  {
   "cell_type": "code",
   "execution_count": null,
   "id": "c06dac0f-a662-42a6-bfca-d756aa9c8516",
   "metadata": {},
   "outputs": [],
   "source": []
  }
 ],
 "metadata": {
  "kernelspec": {
   "display_name": "Python 3 (ipykernel)",
   "language": "python",
   "name": "python3"
  },
  "language_info": {
   "codemirror_mode": {
    "name": "ipython",
    "version": 3
   },
   "file_extension": ".py",
   "mimetype": "text/x-python",
   "name": "python",
   "nbconvert_exporter": "python",
   "pygments_lexer": "ipython3",
   "version": "3.12.2"
  }
 },
 "nbformat": 4,
 "nbformat_minor": 5
}
