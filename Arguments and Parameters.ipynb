{
 "cells": [
  {
   "cell_type": "code",
   "execution_count": 3,
   "id": "fda6783a-195a-4279-b779-e685386f9a56",
   "metadata": {},
   "outputs": [
    {
     "name": "stdout",
     "output_type": "stream",
     "text": [
      "Hey there!\n",
      "Welcome, Tony!\n"
     ]
    }
   ],
   "source": [
    "def greet(name):\n",
    "    print(\"Hey there!\")\n",
    "    print(\"Welcome, \" + name + \"!\")\n",
    "\n",
    "greet(\"Tony\")"
   ]
  },
  {
   "cell_type": "code",
   "execution_count": 4,
   "id": "a0a73e8b-3ec6-4029-a09f-83451a047d73",
   "metadata": {},
   "outputs": [
    {
     "name": "stdout",
     "output_type": "stream",
     "text": [
      "Hey there!\n",
      "Welcome, Tony!\n",
      "Hey there!\n",
      "Welcome, Todd!\n",
      "Hey there!\n",
      "Welcome, John!\n"
     ]
    }
   ],
   "source": [
    "greet(\"Tony\")\n",
    "greet(\"Todd\")\n",
    "greet(\"John\")"
   ]
  },
  {
   "cell_type": "code",
   "execution_count": 5,
   "id": "6f909523-39ef-4211-bf8c-f6f29634b4a2",
   "metadata": {},
   "outputs": [
    {
     "name": "stdout",
     "output_type": "stream",
     "text": [
      "Hey there!\n",
      "Welcome, Sue!\n"
     ]
    }
   ],
   "source": [
    "name = \"Sue\"\n",
    "greet(name)"
   ]
  },
  {
   "cell_type": "code",
   "execution_count": null,
   "id": "b0f3ddc4-1b81-4658-b42f-da3e8dba9392",
   "metadata": {},
   "outputs": [],
   "source": []
  }
 ],
 "metadata": {
  "kernelspec": {
   "display_name": "Python 3 (ipykernel)",
   "language": "python",
   "name": "python3"
  },
  "language_info": {
   "codemirror_mode": {
    "name": "ipython",
    "version": 3
   },
   "file_extension": ".py",
   "mimetype": "text/x-python",
   "name": "python",
   "nbconvert_exporter": "python",
   "pygments_lexer": "ipython3",
   "version": "3.12.2"
  }
 },
 "nbformat": 4,
 "nbformat_minor": 5
}
