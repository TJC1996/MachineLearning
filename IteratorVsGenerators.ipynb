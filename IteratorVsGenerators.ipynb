{
 "cells": [
  {
   "cell_type": "code",
   "execution_count": 3,
   "id": "1a9d3118-2906-4d22-9aee-9d99e91b1709",
   "metadata": {},
   "outputs": [],
   "source": [
    "%matplotlib inline\n",
    "\n",
    "from time import time\n",
    "from random import random\n",
    "import matplotlib.pyplot as plt"
   ]
  },
  {
   "cell_type": "code",
   "execution_count": 4,
   "id": "92478330-03eb-4af9-81b6-24fb5d071f21",
   "metadata": {},
   "outputs": [
    {
     "data": {
      "text/plain": [
       "range(0, 100000000)"
      ]
     },
     "execution_count": 4,
     "metadata": {},
     "output_type": "execute_result"
    }
   ],
   "source": [
    "#RANGE VS XRANGE\n",
    "\n",
    "n = 100000000\n",
    "range(n)"
   ]
  },
  {
   "cell_type": "code",
   "execution_count": 9,
   "id": "68a203cc-cb78-4b8e-a654-8293ce634446",
   "metadata": {},
   "outputs": [],
   "source": [
    "n = 100000000\n",
    "for i in range(n):\n",
    "    range(n)\n"
   ]
  },
  {
   "cell_type": "code",
   "execution_count": 11,
   "id": "6893c434-d78b-4e54-b17a-6893c16a4474",
   "metadata": {},
   "outputs": [
    {
     "data": {
      "text/plain": [
       "range"
      ]
     },
     "execution_count": 11,
     "metadata": {},
     "output_type": "execute_result"
    }
   ],
   "source": [
    "type(range(n))"
   ]
  },
  {
   "cell_type": "code",
   "execution_count": 14,
   "id": "51944b07-3de9-4d14-a01b-9a6e2aa080d5",
   "metadata": {},
   "outputs": [
    {
     "name": "stdout",
     "output_type": "stream",
     "text": [
      "The code took 20.167630910873413 seconds\n"
     ]
    }
   ],
   "source": [
    "#Using range\n",
    "start_time = time()\n",
    "new_list_1 = []\n",
    "for element in range(n):\n",
    "    new_list_1.append(element/2)\n",
    "total_time = time() - start_time\n",
    "print('The code took %s seconds'%total_time)"
   ]
  },
  {
   "cell_type": "code",
   "execution_count": 15,
   "id": "997942f6-3949-4ccc-b76f-4c25bdf6fffa",
   "metadata": {},
   "outputs": [
    {
     "ename": "NameError",
     "evalue": "name 'xrange' is not defined",
     "output_type": "error",
     "traceback": [
      "\u001b[0;31m---------------------------------------------------------------------------\u001b[0m",
      "\u001b[0;31mNameError\u001b[0m                                 Traceback (most recent call last)",
      "Cell \u001b[0;32mIn[15], line 4\u001b[0m\n\u001b[1;32m      2\u001b[0m start_time \u001b[38;5;241m=\u001b[39m time()\n\u001b[1;32m      3\u001b[0m new_list_2 \u001b[38;5;241m=\u001b[39m []\n\u001b[0;32m----> 4\u001b[0m \u001b[38;5;28;01mfor\u001b[39;00m element \u001b[38;5;129;01min\u001b[39;00m \u001b[43mxrange\u001b[49m(n):\n\u001b[1;32m      5\u001b[0m     new_list_2\u001b[38;5;241m.\u001b[39mappend(element\u001b[38;5;241m/\u001b[39m\u001b[38;5;241m2\u001b[39m)\n\u001b[1;32m      6\u001b[0m total_time \u001b[38;5;241m=\u001b[39m time() \u001b[38;5;241m-\u001b[39m start_time\n",
      "\u001b[0;31mNameError\u001b[0m: name 'xrange' is not defined"
     ]
    }
   ],
   "source": [
    "#Using xrange\n",
    "start_time = time()\n",
    "new_list_2 = []\n",
    "for element in xrange(n):\n",
    "    new_list_2.append(element/2)\n",
    "total_time = time() - start_time\n",
    "print('The code took %s seconds'%total_time)\n"
   ]
  },
  {
   "cell_type": "code",
   "execution_count": null,
   "id": "f875c2b3-dea1-422d-982f-cdc6b72c6443",
   "metadata": {},
   "outputs": [],
   "source": []
  }
 ],
 "metadata": {
  "kernelspec": {
   "display_name": "Python 3 (ipykernel)",
   "language": "python",
   "name": "python3"
  },
  "language_info": {
   "codemirror_mode": {
    "name": "ipython",
    "version": 3
   },
   "file_extension": ".py",
   "mimetype": "text/x-python",
   "name": "python",
   "nbconvert_exporter": "python",
   "pygments_lexer": "ipython3",
   "version": "3.12.2"
  }
 },
 "nbformat": 4,
 "nbformat_minor": 5
}
