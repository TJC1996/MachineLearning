{
 "cells": [
  {
   "cell_type": "code",
   "execution_count": 1,
   "id": "95187723-793f-492c-be4b-4ad03efff09b",
   "metadata": {},
   "outputs": [],
   "source": [
    "def HelloWorld():\n",
    "    print(\"Hello World\")"
   ]
  },
  {
   "cell_type": "code",
   "execution_count": 4,
   "id": "0c9867ec-70b5-40df-933f-fc4389aecc53",
   "metadata": {},
   "outputs": [
    {
     "name": "stdout",
     "output_type": "stream",
     "text": [
      "Hello World\n",
      "None\n"
     ]
    }
   ],
   "source": [
    "print(HelloWorld())\n"
   ]
  },
  {
   "cell_type": "code",
   "execution_count": 5,
   "id": "d81ddc51-ebac-428a-81e2-768b4c300510",
   "metadata": {},
   "outputs": [
    {
     "name": "stdout",
     "output_type": "stream",
     "text": [
      "Hello World\n"
     ]
    }
   ],
   "source": [
    "HelloWorld()"
   ]
  },
  {
   "cell_type": "code",
   "execution_count": 6,
   "id": "3238e133-bd1b-42b2-a544-4fe5a7f1b8e6",
   "metadata": {},
   "outputs": [],
   "source": [
    "def Greeting(name):\n",
    "    print(\"Hi \" + name + \"!\")"
   ]
  },
  {
   "cell_type": "code",
   "execution_count": 9,
   "id": "61eb3f14-0551-4585-8099-0e771d0b8c5a",
   "metadata": {},
   "outputs": [
    {
     "name": "stdout",
     "output_type": "stream",
     "text": [
      "Hi tony!\n"
     ]
    }
   ],
   "source": [
    "Greeting(\"tony\")"
   ]
  },
  {
   "cell_type": "code",
   "execution_count": 10,
   "id": "86819e4e-0374-4e48-95ff-7c6dc8ae67fb",
   "metadata": {},
   "outputs": [
    {
     "name": "stdout",
     "output_type": "stream",
     "text": [
      "35\n"
     ]
    }
   ],
   "source": [
    "def Add(num1, num2):\n",
    "    print(num1 + num2)\n",
    "\n",
    "Add(10,25)"
   ]
  },
  {
   "cell_type": "code",
   "execution_count": 15,
   "id": "b6798c8a-3953-4185-a909-384cfd8eb698",
   "metadata": {},
   "outputs": [
    {
     "name": "stdout",
     "output_type": "stream",
     "text": [
      "Sum of Num1 and Num2\n"
     ]
    }
   ],
   "source": [
    "def returnAdd(num1, num2):\n",
    "   return (num1 + num2)\n",
    "print(\"Sum of Num1 and Num2\")\n",
    "sum = returnAdd(10,25)"
   ]
  },
  {
   "cell_type": "code",
   "execution_count": 16,
   "id": "9e214da3-bf93-419b-9fa0-c762cb7f0ad1",
   "metadata": {},
   "outputs": [
    {
     "name": "stdout",
     "output_type": "stream",
     "text": [
      "35\n"
     ]
    }
   ],
   "source": [
    "print(sum)"
   ]
  },
  {
   "cell_type": "code",
   "execution_count": null,
   "id": "081057ae-dc22-4de6-ad4f-556f5512316c",
   "metadata": {},
   "outputs": [],
   "source": []
  }
 ],
 "metadata": {
  "kernelspec": {
   "display_name": "Python 3 (ipykernel)",
   "language": "python",
   "name": "python3"
  },
  "language_info": {
   "codemirror_mode": {
    "name": "ipython",
    "version": 3
   },
   "file_extension": ".py",
   "mimetype": "text/x-python",
   "name": "python",
   "nbconvert_exporter": "python",
   "pygments_lexer": "ipython3",
   "version": "3.12.2"
  }
 },
 "nbformat": 4,
 "nbformat_minor": 5
}
