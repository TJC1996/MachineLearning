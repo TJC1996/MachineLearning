{
 "cells": [
  {
   "cell_type": "code",
   "execution_count": 1,
   "id": "b79ac26b-189a-4b22-8b4d-9690eb005086",
   "metadata": {},
   "outputs": [
    {
     "name": "stdout",
     "output_type": "stream",
     "text": [
      "# Primes =  7\n",
      "# Squares =  6\n"
     ]
    }
   ],
   "source": [
    "#list example\n",
    "prime_numbers = [2 , 3, 5, 7, 11, 13, 17]\n",
    "\n",
    "#tuple example\n",
    "perfect_squares = (1, 4, 9, 16, 25, 36)\n",
    "\n",
    "# Display lengths\n",
    "print(\"# Primes = \", len(prime_numbers))\n",
    "print(\"# Squares = \", len(perfect_squares))"
   ]
  },
  {
   "cell_type": "code",
   "execution_count": 3,
   "id": "00d929e9-f173-439b-813c-35ab6c051d30",
   "metadata": {},
   "outputs": [
    {
     "name": "stdout",
     "output_type": "stream",
     "text": [
      "Prime:  2\n",
      "Prime:  3\n",
      "Prime:  5\n",
      "Prime:  7\n",
      "Prime:  11\n",
      "Prime:  13\n",
      "Prime:  17\n",
      "Square:  1\n",
      "Square:  4\n",
      "Square:  9\n",
      "Square:  16\n",
      "Square:  25\n",
      "Square:  36\n"
     ]
    }
   ],
   "source": [
    "# Iterate over both sequences\n",
    "for p in prime_numbers:\n",
    "    print(\"Prime: \", p)\n",
    "for n in perfect_squares:\n",
    "    print(\"Square: \", n)"
   ]
  },
  {
   "cell_type": "code",
   "execution_count": 4,
   "id": "7f79b2fc-6831-4b3f-9cc0-c7a667b13b53",
   "metadata": {},
   "outputs": [
    {
     "name": "stdout",
     "output_type": "stream",
     "text": [
      "List Methods\n",
      "['__add__', '__class__', '__class_getitem__', '__contains__', '__delattr__', '__delitem__', '__dir__', '__doc__', '__eq__', '__format__', '__ge__', '__getattribute__', '__getitem__', '__getstate__', '__gt__', '__hash__', '__iadd__', '__imul__', '__init__', '__init_subclass__', '__iter__', '__le__', '__len__', '__lt__', '__mul__', '__ne__', '__new__', '__reduce__', '__reduce_ex__', '__repr__', '__reversed__', '__rmul__', '__setattr__', '__setitem__', '__sizeof__', '__str__', '__subclasshook__', 'append', 'clear', 'copy', 'count', 'extend', 'index', 'insert', 'pop', 'remove', 'reverse', 'sort']\n",
      "--------------------------------------------------------------------------------\n",
      "Tuple Methods\n",
      "['__add__', '__class__', '__class_getitem__', '__contains__', '__delattr__', '__dir__', '__doc__', '__eq__', '__format__', '__ge__', '__getattribute__', '__getitem__', '__getnewargs__', '__getstate__', '__gt__', '__hash__', '__init__', '__init_subclass__', '__iter__', '__le__', '__len__', '__lt__', '__mul__', '__ne__', '__new__', '__reduce__', '__reduce_ex__', '__repr__', '__rmul__', '__setattr__', '__sizeof__', '__str__', '__subclasshook__', 'count', 'index']\n"
     ]
    }
   ],
   "source": [
    "print(\"List Methods\")\n",
    "print(dir(prime_numbers))\n",
    "print(80*\"-\")\n",
    "print(\"Tuple Methods\")\n",
    "print(dir(perfect_squares))"
   ]
  },
  {
   "cell_type": "code",
   "execution_count": 5,
   "id": "4254864c-36d5-4fdc-bd6c-50bad6ca237a",
   "metadata": {},
   "outputs": [],
   "source": [
    "import sys"
   ]
  },
  {
   "cell_type": "code",
   "execution_count": 6,
   "id": "760cd940-c927-414d-98f7-69517bc27789",
   "metadata": {},
   "outputs": [
    {
     "name": "stdout",
     "output_type": "stream",
     "text": [
      "['__breakpointhook__', '__displayhook__', '__doc__', '__excepthook__', '__interactivehook__', '__loader__', '__name__', '__package__', '__spec__', '__stderr__', '__stdin__', '__stdout__', '__unraisablehook__', '_base_executable', '_clear_type_cache', '_current_exceptions', '_current_frames', '_debugmallocstats', '_framework', '_getframe', '_getframemodulename', '_git', '_home', '_setprofileallthreads', '_settraceallthreads', '_stdlib_dir', '_xoptions', 'abiflags', 'activate_stack_trampoline', 'addaudithook', 'api_version', 'argv', 'audit', 'base_exec_prefix', 'base_prefix', 'breakpointhook', 'builtin_module_names', 'byteorder', 'call_tracing', 'copyright', 'deactivate_stack_trampoline', 'displayhook', 'dont_write_bytecode', 'exc_info', 'excepthook', 'exception', 'exec_prefix', 'executable', 'exit', 'flags', 'float_info', 'float_repr_style', 'get_asyncgen_hooks', 'get_coroutine_origin_tracking_depth', 'get_int_max_str_digits', 'getallocatedblocks', 'getdefaultencoding', 'getdlopenflags', 'getfilesystemencodeerrors', 'getfilesystemencoding', 'getprofile', 'getrecursionlimit', 'getrefcount', 'getsizeof', 'getswitchinterval', 'gettrace', 'getunicodeinternedsize', 'hash_info', 'hexversion', 'implementation', 'int_info', 'intern', 'is_finalizing', 'is_stack_trampoline_active', 'last_traceback', 'last_type', 'last_value', 'maxsize', 'maxunicode', 'meta_path', 'modules', 'monitoring', 'orig_argv', 'path', 'path_hooks', 'path_importer_cache', 'platform', 'platlibdir', 'prefix', 'ps1', 'ps2', 'ps3', 'pycache_prefix', 'set_asyncgen_hooks', 'set_coroutine_origin_tracking_depth', 'set_int_max_str_digits', 'setdlopenflags', 'setprofile', 'setrecursionlimit', 'setswitchinterval', 'settrace', 'stderr', 'stdin', 'stdlib_module_names', 'stdout', 'thread_info', 'unraisablehook', 'version', 'version_info', 'warnoptions']\n"
     ]
    }
   ],
   "source": [
    "print(dir(sys))"
   ]
  },
  {
   "cell_type": "code",
   "execution_count": 9,
   "id": "0b983d9e-2a23-46cb-812a-b489f85cf64b",
   "metadata": {},
   "outputs": [
    {
     "name": "stdout",
     "output_type": "stream",
     "text": [
      "Help on built-in function getsizeof in module sys:\n",
      "\n",
      "getsizeof(...)\n",
      "    getsizeof(object [, default]) -> int\n",
      "\n",
      "    Return the size of object in bytes.\n",
      "\n",
      "None\n"
     ]
    }
   ],
   "source": [
    "print(help(sys.getsizeof))"
   ]
  },
  {
   "cell_type": "code",
   "execution_count": 10,
   "id": "40c45d2b-9934-4eb2-99c4-cf4bd94732f8",
   "metadata": {},
   "outputs": [
    {
     "name": "stdout",
     "output_type": "stream",
     "text": [
      "List size =  120\n",
      "Tuple size =  104\n"
     ]
    }
   ],
   "source": [
    "list_eq = [1, 2, 3, \"a\", \"b\", \"c\", True, 3.141592654]\n",
    "tuple_eq = (1, 2, 3, \"a\", \"b\", \"c\", True, 3.141592654)\n",
    "\n",
    "print(\"List size = \", sys.getsizeof(list_eq))\n",
    "print(\"Tuple size = \", sys.getsizeof(tuple_eq))"
   ]
  },
  {
   "cell_type": "code",
   "execution_count": 11,
   "id": "a1e0ea83-44af-4d3b-a720-7d186e8e69e9",
   "metadata": {},
   "outputs": [
    {
     "name": "stdout",
     "output_type": "stream",
     "text": [
      "List time:  0.1537455340003362\n",
      "Tuple time:  0.01126719600870274\n"
     ]
    }
   ],
   "source": [
    "import timeit\n",
    "\n",
    "list_test = timeit.timeit(stmt=\"[1,2,3,4,5]\",\n",
    "                          number=1000000)\n",
    "\n",
    "tuple_test = timeit.timeit(stmt=\"(1,2,3,4,5)\",\n",
    "                          number=1000000)\n",
    "\n",
    "print(\"List time: \", list_test)\n",
    "print(\"Tuple time: \", tuple_test)"
   ]
  },
  {
   "cell_type": "code",
   "execution_count": 12,
   "id": "61865207-df2e-443b-b6cd-0947ac20e338",
   "metadata": {},
   "outputs": [
    {
     "name": "stdout",
     "output_type": "stream",
     "text": [
      "()\n",
      "('a',)\n",
      "('a', 'b')\n",
      "('a', 'b', 'c')\n"
     ]
    }
   ],
   "source": [
    "empty_tuple = ()\n",
    "test1 = (\"a\",)\n",
    "test2 = (\"a\", \"b\")\n",
    "test3 = (\"a\", \"b\", \"c\")\n",
    "\n",
    "print(empty_tuple)\n",
    "print(test1)\n",
    "print(test2)\n",
    "print(test3)"
   ]
  },
  {
   "cell_type": "code",
   "execution_count": 13,
   "id": "23789691-d517-41bb-ab50-f201872070f9",
   "metadata": {},
   "outputs": [
    {
     "name": "stdout",
     "output_type": "stream",
     "text": [
      "(1,)\n",
      "(1, 2)\n",
      "(1, 2, 3)\n",
      "<class 'tuple'>\n",
      "<class 'tuple'>\n",
      "<class 'tuple'>\n"
     ]
    }
   ],
   "source": [
    "test1 = 1,\n",
    "test2 = 1, 2\n",
    "test3 = 1, 2, 3\n",
    "\n",
    "print(test1)\n",
    "print(test2)\n",
    "print(test3)\n",
    "\n",
    "print(type(test1))\n",
    "print(type(test2))\n",
    "print(type(test3))"
   ]
  },
  {
   "cell_type": "code",
   "execution_count": 14,
   "id": "f3ce16b0-1051-430c-ad63-fdd7ff4cc1be",
   "metadata": {},
   "outputs": [
    {
     "name": "stdout",
     "output_type": "stream",
     "text": [
      "Age = 27\n",
      "Country = Vietnam\n",
      "knows Python? True\n"
     ]
    }
   ],
   "source": [
    "# (age, country, knows_python)\n",
    "survey = (27, \"Vietnam\", True)\n",
    "\n",
    "age = survey[0]\n",
    "country = survey[1]\n",
    "knows_python = survey[2]\n",
    "\n",
    "print(\"Age =\", age)\n",
    "print(\"Country =\", country)\n",
    "print(\"knows Python?\", knows_python)"
   ]
  },
  {
   "cell_type": "code",
   "execution_count": 16,
   "id": "47100919-31c4-4856-8f46-2f8185025041",
   "metadata": {},
   "outputs": [
    {
     "name": "stdout",
     "output_type": "stream",
     "text": [
      "Age = 21\n",
      "Country = Switzerland\n",
      "Knows Python? False\n",
      "('Australia',)\n"
     ]
    }
   ],
   "source": [
    "survey2 = (21, \"Switzerland\", False)\n",
    "age, country, knows_python = survey2\n",
    "print(\"Age =\", age)\n",
    "print(\"Country =\", country)\n",
    "print(\"Knows Python?\", knows_python)\n",
    "\n",
    "country = (\"Australia\",)\n",
    "print(country)"
   ]
  },
  {
   "cell_type": "code",
   "execution_count": null,
   "id": "2547bbd1-07a6-4f30-bb08-e099f669ceab",
   "metadata": {},
   "outputs": [],
   "source": []
  }
 ],
 "metadata": {
  "kernelspec": {
   "display_name": "Python 3 (ipykernel)",
   "language": "python",
   "name": "python3"
  },
  "language_info": {
   "codemirror_mode": {
    "name": "ipython",
    "version": 3
   },
   "file_extension": ".py",
   "mimetype": "text/x-python",
   "name": "python",
   "nbconvert_exporter": "python",
   "pygments_lexer": "ipython3",
   "version": "3.12.2"
  }
 },
 "nbformat": 4,
 "nbformat_minor": 5
}
