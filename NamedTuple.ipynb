{
 "cells": [
  {
   "cell_type": "code",
   "execution_count": 2,
   "id": "24daa53c-0488-4436-9b47-8ec8dff09db1",
   "metadata": {},
   "outputs": [
    {
     "name": "stdout",
     "output_type": "stream",
     "text": [
      "55\n"
     ]
    }
   ],
   "source": [
    "from collections import namedtuple\n",
    "#tuple\n",
    "color = (55,155,255)\n",
    "print(color[0])"
   ]
  },
  {
   "cell_type": "code",
   "execution_count": 4,
   "id": "145bba26-39be-49c8-a358-78cec49ea268",
   "metadata": {},
   "outputs": [
    {
     "name": "stdout",
     "output_type": "stream",
     "text": [
      "55\n"
     ]
    }
   ],
   "source": [
    "#dictionary\n",
    "colorD = {'red': 55, 'green': 155, 'blue': 255}\n",
    "print(colorD['red'])"
   ]
  },
  {
   "cell_type": "code",
   "execution_count": 7,
   "id": "ba37710a-569a-454d-9c6a-83c289519143",
   "metadata": {},
   "outputs": [
    {
     "name": "stdout",
     "output_type": "stream",
     "text": [
      "55\n"
     ]
    }
   ],
   "source": [
    "Color = namedtuple('Color', ['red', 'green', 'blue'])\n",
    "color = Color(55,155,255)\n",
    "print(color.red)"
   ]
  },
  {
   "cell_type": "code",
   "execution_count": 11,
   "id": "7cafc0a8-e1d9-4406-814a-d5fb6cc80d33",
   "metadata": {},
   "outputs": [
    {
     "name": "stdout",
     "output_type": "stream",
     "text": [
      "55\n"
     ]
    }
   ],
   "source": [
    "Color = namedtuple('Color', ['red', 'green', 'blue'])\n",
    "color = Color(55,155,255)\n",
    "white = Color(255,255,255)\n",
    "print(color.red)"
   ]
  },
  {
   "cell_type": "code",
   "execution_count": 10,
   "id": "ab378323-f9a4-40f7-a037-482031e563af",
   "metadata": {},
   "outputs": [
    {
     "name": "stdout",
     "output_type": "stream",
     "text": [
      "255\n"
     ]
    }
   ],
   "source": [
    "Color = namedtuple('Color', ['red', 'green', 'blue'])\n",
    "color = Color(55,155,255)\n",
    "white = Color(255,255,255)\n",
    "print(white.blue)"
   ]
  },
  {
   "cell_type": "code",
   "execution_count": null,
   "id": "d50eda77-c097-4865-ad22-8b1ba7987559",
   "metadata": {},
   "outputs": [],
   "source": []
  }
 ],
 "metadata": {
  "kernelspec": {
   "display_name": "Python 3 (ipykernel)",
   "language": "python",
   "name": "python3"
  },
  "language_info": {
   "codemirror_mode": {
    "name": "ipython",
    "version": 3
   },
   "file_extension": ".py",
   "mimetype": "text/x-python",
   "name": "python",
   "nbconvert_exporter": "python",
   "pygments_lexer": "ipython3",
   "version": "3.12.2"
  }
 },
 "nbformat": 4,
 "nbformat_minor": 5
}
