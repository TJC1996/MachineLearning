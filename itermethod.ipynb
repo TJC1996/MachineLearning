{
 "cells": [
  {
   "cell_type": "code",
   "execution_count": 16,
   "id": "44529f93-aa6e-4008-b2fe-03104bec79d0",
   "metadata": {},
   "outputs": [],
   "source": [
    "import sys\n",
    "\n",
    "class Iter:\n",
    "    def __init__(self, n):\n",
    "        self.n = n\n",
    "\n",
    "    def __iter__(self):\n",
    "        self.current = -1\n",
    "        return self\n",
    "\n",
    "    def __next__(self):\n",
    "        self.current += 1\n",
    "        \n",
    "        if self.current >= self.n:\n",
    "            raise StopIteration\n",
    "\n",
    "        return self.current\n",
    "\n",
    "x = Iter(5)\n",
    "#Oldschool way of creating iterator\n",
    "#itr = iter(x)\n",
    "#print(next(x))\n",
    "#print(next(x))\n",
    "#print(next(x))\n",
    "\n",
    "\n",
    "#for i in x:\n",
    "#    print(i)\n",
    "\n",
    "\n",
    "\n"
   ]
  },
  {
   "cell_type": "code",
   "execution_count": null,
   "id": "00848486-332d-43b2-a051-2014770582c7",
   "metadata": {},
   "outputs": [],
   "source": []
  }
 ],
 "metadata": {
  "kernelspec": {
   "display_name": "Python 3 (ipykernel)",
   "language": "python",
   "name": "python3"
  },
  "language_info": {
   "codemirror_mode": {
    "name": "ipython",
    "version": 3
   },
   "file_extension": ".py",
   "mimetype": "text/x-python",
   "name": "python",
   "nbconvert_exporter": "python",
   "pygments_lexer": "ipython3",
   "version": "3.12.2"
  }
 },
 "nbformat": 4,
 "nbformat_minor": 5
}
