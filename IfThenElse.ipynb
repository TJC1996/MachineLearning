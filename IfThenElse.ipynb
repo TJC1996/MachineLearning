{
 "cells": [
  {
   "cell_type": "code",
   "execution_count": 2,
   "id": "3c2d1e19-9bbf-4567-9fb4-821454c361f8",
   "metadata": {},
   "outputs": [
    {
     "name": "stdin",
     "output_type": "stream",
     "text": [
      "Please enter a test string:  test\n"
     ]
    },
    {
     "name": "stdout",
     "output_type": "stream",
     "text": [
      "Your string it too short.\n",
      "Please enter a string with at least 6 characters.\n"
     ]
    }
   ],
   "source": [
    "user_input = input(\"Please enter a test string: \")\n",
    "\n",
    "if len(user_input) < 6:\n",
    "    print(\"Your string it too short.\")\n",
    "    print(\"Please enter a string with at least 6 characters.\")\n",
    "    "
   ]
  },
  {
   "cell_type": "code",
   "execution_count": 4,
   "id": "262a3a4f-9f42-4bf6-95fe-e1078291e6b5",
   "metadata": {},
   "outputs": [
    {
     "name": "stdin",
     "output_type": "stream",
     "text": [
      "Please enter an integer:  4\n"
     ]
    },
    {
     "name": "stdout",
     "output_type": "stream",
     "text": [
      "Your number is even.\n"
     ]
    }
   ],
   "source": [
    "user_input2 = input(\"Please enter an integer: \")\n",
    "number = int(user_input2)\n",
    "\n",
    "if number % 2 == 0:\n",
    "    print(\"Your number is even.\")\n",
    "else:\n",
    "    print(\"Your number is odd.\")"
   ]
  },
  {
   "cell_type": "code",
   "execution_count": 8,
   "id": "4e05e25b-7f3c-4920-930b-0abb7c99ec87",
   "metadata": {},
   "outputs": [
    {
     "name": "stdin",
     "output_type": "stream",
     "text": [
      "The length of side a =  8\n",
      "The length of side b =  8\n",
      "The length of side c =  8\n"
     ]
    },
    {
     "name": "stdout",
     "output_type": "stream",
     "text": [
      "This is an equilateral triangle.\n"
     ]
    }
   ],
   "source": [
    "# Scalene triangle: All sides have different lengths.\n",
    "# Isosceles triangle: Two sides have the same length\n",
    "# Equilateral triangle: All sides are equal\n",
    "\n",
    "a = int(input(\"The length of side a = \"))\n",
    "b = int(input(\"The length of side b = \"))\n",
    "c = int(input(\"The length of side c = \"))\n",
    "\n",
    "if a != b and b != c and a !=c:\n",
    "    print(\"This is a scalene triangle.\")\n",
    "elif a == b and b == c:\n",
    "    print(\"This is an equilateral triangle.\")\n",
    "else:\n",
    "    print(\"This is an isoceles triangle.\")"
   ]
  },
  {
   "cell_type": "code",
   "execution_count": null,
   "id": "330918ce-250f-4533-9593-aa195c3a4f6b",
   "metadata": {},
   "outputs": [],
   "source": []
  }
 ],
 "metadata": {
  "kernelspec": {
   "display_name": "Python 3 (ipykernel)",
   "language": "python",
   "name": "python3"
  },
  "language_info": {
   "codemirror_mode": {
    "name": "ipython",
    "version": 3
   },
   "file_extension": ".py",
   "mimetype": "text/x-python",
   "name": "python",
   "nbconvert_exporter": "python",
   "pygments_lexer": "ipython3",
   "version": "3.12.2"
  }
 },
 "nbformat": 4,
 "nbformat_minor": 5
}
