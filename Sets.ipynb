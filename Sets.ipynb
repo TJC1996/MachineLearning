{
 "cells": [
  {
   "cell_type": "code",
   "execution_count": 3,
   "id": "22ebede6-e62d-4477-b8f2-e1d88da6b850",
   "metadata": {},
   "outputs": [],
   "source": [
    "example = set()"
   ]
  },
  {
   "cell_type": "code",
   "execution_count": 4,
   "id": "947bbb82-5339-417f-bf5d-01cb53d26dff",
   "metadata": {},
   "outputs": [
    {
     "data": {
      "text/plain": [
       "['__and__',\n",
       " '__class__',\n",
       " '__class_getitem__',\n",
       " '__contains__',\n",
       " '__delattr__',\n",
       " '__dir__',\n",
       " '__doc__',\n",
       " '__eq__',\n",
       " '__format__',\n",
       " '__ge__',\n",
       " '__getattribute__',\n",
       " '__getstate__',\n",
       " '__gt__',\n",
       " '__hash__',\n",
       " '__iand__',\n",
       " '__init__',\n",
       " '__init_subclass__',\n",
       " '__ior__',\n",
       " '__isub__',\n",
       " '__iter__',\n",
       " '__ixor__',\n",
       " '__le__',\n",
       " '__len__',\n",
       " '__lt__',\n",
       " '__ne__',\n",
       " '__new__',\n",
       " '__or__',\n",
       " '__rand__',\n",
       " '__reduce__',\n",
       " '__reduce_ex__',\n",
       " '__repr__',\n",
       " '__ror__',\n",
       " '__rsub__',\n",
       " '__rxor__',\n",
       " '__setattr__',\n",
       " '__sizeof__',\n",
       " '__str__',\n",
       " '__sub__',\n",
       " '__subclasshook__',\n",
       " '__xor__',\n",
       " 'add',\n",
       " 'clear',\n",
       " 'copy',\n",
       " 'difference',\n",
       " 'difference_update',\n",
       " 'discard',\n",
       " 'intersection',\n",
       " 'intersection_update',\n",
       " 'isdisjoint',\n",
       " 'issubset',\n",
       " 'issuperset',\n",
       " 'pop',\n",
       " 'remove',\n",
       " 'symmetric_difference',\n",
       " 'symmetric_difference_update',\n",
       " 'union',\n",
       " 'update']"
      ]
     },
     "execution_count": 4,
     "metadata": {},
     "output_type": "execute_result"
    }
   ],
   "source": [
    "dir(example)"
   ]
  },
  {
   "cell_type": "code",
   "execution_count": 5,
   "id": "c981ca31-cdf6-4c6d-861d-51f29c265d8f",
   "metadata": {},
   "outputs": [
    {
     "name": "stdout",
     "output_type": "stream",
     "text": [
      "Help on built-in function add:\n",
      "\n",
      "add(...) method of builtins.set instance\n",
      "    Add an element to a set.\n",
      "\n",
      "    This has no effect if the element is already present.\n",
      "\n"
     ]
    }
   ],
   "source": [
    "help(example.add)"
   ]
  },
  {
   "cell_type": "code",
   "execution_count": 6,
   "id": "c6dded1d-cb46-4f00-95b3-046152acc898",
   "metadata": {},
   "outputs": [],
   "source": [
    "example.add(42)\n",
    "example.add(False)\n",
    "example.add(3.141596254)\n",
    "example.add(\"Thorium\")"
   ]
  },
  {
   "cell_type": "code",
   "execution_count": 7,
   "id": "94692d99-e7a9-4c58-b4d2-3de6f6b63609",
   "metadata": {},
   "outputs": [
    {
     "data": {
      "text/plain": [
       "{3.141596254, 42, False, 'Thorium'}"
      ]
     },
     "execution_count": 7,
     "metadata": {},
     "output_type": "execute_result"
    }
   ],
   "source": [
    "example"
   ]
  },
  {
   "cell_type": "code",
   "execution_count": 8,
   "id": "9c394580-e991-48e9-b9a9-15638b1208d9",
   "metadata": {},
   "outputs": [
    {
     "ename": "SyntaxError",
     "evalue": "unterminated string literal (detected at line 1) (4258329584.py, line 1)",
     "output_type": "error",
     "traceback": [
      "\u001b[0;36m  Cell \u001b[0;32mIn[8], line 1\u001b[0;36m\u001b[0m\n\u001b[0;31m    *(Sets, do, not, necessarily, follow, order, it, doesn't, matter, */)\u001b[0m\n\u001b[0m                                                          ^\u001b[0m\n\u001b[0;31mSyntaxError\u001b[0m\u001b[0;31m:\u001b[0m unterminated string literal (detected at line 1)\n"
     ]
    }
   ],
   "source": [
    "/* Sets do not necessarily follow order it doesn't matter */"
   ]
  },
  {
   "cell_type": "code",
   "execution_count": 9,
   "id": "dc27fb91-3420-443e-b715-0a80aba4d4d5",
   "metadata": {},
   "outputs": [],
   "source": [
    "example.add(42)"
   ]
  },
  {
   "cell_type": "code",
   "execution_count": 10,
   "id": "1ceaf75a-3275-4db5-a3e7-cca7ad960444",
   "metadata": {},
   "outputs": [
    {
     "data": {
      "text/plain": [
       "{3.141596254, 42, False, 'Thorium'}"
      ]
     },
     "execution_count": 10,
     "metadata": {},
     "output_type": "execute_result"
    }
   ],
   "source": [
    "example"
   ]
  },
  {
   "cell_type": "code",
   "execution_count": 11,
   "id": "52c4ffaa-7dab-4f48-a959-803e84304d6c",
   "metadata": {},
   "outputs": [
    {
     "data": {
      "text/plain": [
       "4"
      ]
     },
     "execution_count": 11,
     "metadata": {},
     "output_type": "execute_result"
    }
   ],
   "source": [
    "len(example)"
   ]
  },
  {
   "cell_type": "code",
   "execution_count": 12,
   "id": "59f8adf9-5eb8-44d8-83d1-308db9884e0d",
   "metadata": {},
   "outputs": [
    {
     "name": "stdout",
     "output_type": "stream",
     "text": [
      "Help on built-in function remove:\n",
      "\n",
      "remove(...) method of builtins.set instance\n",
      "    Remove an element from a set; it must be a member.\n",
      "\n",
      "    If the element is not a member, raise a KeyError.\n",
      "\n"
     ]
    }
   ],
   "source": [
    "help(example.remove)"
   ]
  },
  {
   "cell_type": "code",
   "execution_count": 13,
   "id": "a197e46c-5112-4b77-b595-fb67403c4bc6",
   "metadata": {},
   "outputs": [],
   "source": [
    "example.remove(42)"
   ]
  },
  {
   "cell_type": "code",
   "execution_count": 14,
   "id": "d8655f60-d9a6-42f4-8f4f-283e56b88832",
   "metadata": {},
   "outputs": [
    {
     "data": {
      "text/plain": [
       "{3.141596254, False, 'Thorium'}"
      ]
     },
     "execution_count": 14,
     "metadata": {},
     "output_type": "execute_result"
    }
   ],
   "source": [
    "example"
   ]
  },
  {
   "cell_type": "code",
   "execution_count": 15,
   "id": "4494f7ed-6789-4e48-95f8-c5b4f7238c35",
   "metadata": {},
   "outputs": [
    {
     "ename": "KeyError",
     "evalue": "50",
     "output_type": "error",
     "traceback": [
      "\u001b[0;31m---------------------------------------------------------------------------\u001b[0m",
      "\u001b[0;31mKeyError\u001b[0m                                  Traceback (most recent call last)",
      "Cell \u001b[0;32mIn[15], line 1\u001b[0m\n\u001b[0;32m----> 1\u001b[0m \u001b[43mexample\u001b[49m\u001b[38;5;241;43m.\u001b[39;49m\u001b[43mremove\u001b[49m\u001b[43m(\u001b[49m\u001b[38;5;241;43m50\u001b[39;49m\u001b[43m)\u001b[49m\n",
      "\u001b[0;31mKeyError\u001b[0m: 50"
     ]
    }
   ],
   "source": [
    "example.remove(50)"
   ]
  },
  {
   "cell_type": "code",
   "execution_count": 16,
   "id": "d35f397e-87e6-4cc0-a8ef-328e894c6c16",
   "metadata": {},
   "outputs": [
    {
     "name": "stdout",
     "output_type": "stream",
     "text": [
      "Help on built-in function discard:\n",
      "\n",
      "discard(...) method of builtins.set instance\n",
      "    Remove an element from a set if it is a member.\n",
      "\n",
      "    Unlike set.remove(), the discard() method does not raise\n",
      "    an exception when an element is missing from the set.\n",
      "\n"
     ]
    }
   ],
   "source": [
    "help(example.discard)"
   ]
  },
  {
   "cell_type": "code",
   "execution_count": 17,
   "id": "99fa1b88-e2a2-42ac-9b6e-42fb11fb5149",
   "metadata": {},
   "outputs": [],
   "source": [
    "example2 = set([28, True, 2.71828, \"Helium\"])"
   ]
  },
  {
   "cell_type": "code",
   "execution_count": 18,
   "id": "8c95b22c-070d-4fde-8ce6-9b3be2c9f673",
   "metadata": {},
   "outputs": [
    {
     "data": {
      "text/plain": [
       "4"
      ]
     },
     "execution_count": 18,
     "metadata": {},
     "output_type": "execute_result"
    }
   ],
   "source": [
    "len(example2)"
   ]
  },
  {
   "cell_type": "code",
   "execution_count": 19,
   "id": "0b6a6b9a-b018-401e-bcb7-f2bf4b837955",
   "metadata": {},
   "outputs": [],
   "source": [
    "example2.clear()"
   ]
  },
  {
   "cell_type": "code",
   "execution_count": 20,
   "id": "1d45386d-a3b9-4c01-86bf-d789c89cb232",
   "metadata": {},
   "outputs": [
    {
     "data": {
      "text/plain": [
       "0"
      ]
     },
     "execution_count": 20,
     "metadata": {},
     "output_type": "execute_result"
    }
   ],
   "source": [
    "len(example2)"
   ]
  },
  {
   "cell_type": "code",
   "execution_count": 21,
   "id": "6b19050c-d6c1-4e48-840a-62b1ede73ccc",
   "metadata": {},
   "outputs": [],
   "source": [
    "# Integers 1 - 10"
   ]
  },
  {
   "cell_type": "code",
   "execution_count": 23,
   "id": "25add650-644b-46e3-9f32-15fa27bdf600",
   "metadata": {},
   "outputs": [],
   "source": [
    "odds = set([1, 3, 5, 7, 9])\n",
    "evens = set([2, 4, 6, 8, 10])\n",
    "primes = set([2, 3, 5, 7])\n",
    "composite = set([4, 6, 8, 9, 10])"
   ]
  },
  {
   "cell_type": "code",
   "execution_count": 24,
   "id": "03bff7f8-e929-4ddf-befc-995fe5306820",
   "metadata": {},
   "outputs": [
    {
     "data": {
      "text/plain": [
       "{1, 2, 3, 4, 5, 6, 7, 8, 9, 10}"
      ]
     },
     "execution_count": 24,
     "metadata": {},
     "output_type": "execute_result"
    }
   ],
   "source": [
    "odds.union(evens)"
   ]
  },
  {
   "cell_type": "code",
   "execution_count": 25,
   "id": "87e8c171-ebbd-437e-9496-688552f5b9e9",
   "metadata": {},
   "outputs": [
    {
     "data": {
      "text/plain": [
       "{1, 2, 3, 4, 5, 6, 7, 8, 9, 10}"
      ]
     },
     "execution_count": 25,
     "metadata": {},
     "output_type": "execute_result"
    }
   ],
   "source": [
    "evens.union(odds)"
   ]
  },
  {
   "cell_type": "code",
   "execution_count": 26,
   "id": "701a9d65-745f-4da5-856d-61b7bce48fde",
   "metadata": {},
   "outputs": [
    {
     "ename": "NameError",
     "evalue": "name 'odd' is not defined",
     "output_type": "error",
     "traceback": [
      "\u001b[0;31m---------------------------------------------------------------------------\u001b[0m",
      "\u001b[0;31mNameError\u001b[0m                                 Traceback (most recent call last)",
      "Cell \u001b[0;32mIn[26], line 1\u001b[0m\n\u001b[0;32m----> 1\u001b[0m \u001b[43modd\u001b[49m\n",
      "\u001b[0;31mNameError\u001b[0m: name 'odd' is not defined"
     ]
    }
   ],
   "source": [
    "odd"
   ]
  },
  {
   "cell_type": "code",
   "execution_count": 27,
   "id": "abbaabf5-5358-416e-bece-8b0d45988762",
   "metadata": {},
   "outputs": [
    {
     "data": {
      "text/plain": [
       "{1, 3, 5, 7, 9}"
      ]
     },
     "execution_count": 27,
     "metadata": {},
     "output_type": "execute_result"
    }
   ],
   "source": [
    "odds"
   ]
  },
  {
   "cell_type": "code",
   "execution_count": 28,
   "id": "024ba10e-9bad-4c2b-8370-15bb3dc5bc6c",
   "metadata": {},
   "outputs": [
    {
     "data": {
      "text/plain": [
       "{3, 5, 7}"
      ]
     },
     "execution_count": 28,
     "metadata": {},
     "output_type": "execute_result"
    }
   ],
   "source": [
    "odds.intersection(primes)"
   ]
  },
  {
   "cell_type": "code",
   "execution_count": 29,
   "id": "bff53558-08ea-4675-b985-7024be157626",
   "metadata": {},
   "outputs": [
    {
     "data": {
      "text/plain": [
       "{2}"
      ]
     },
     "execution_count": 29,
     "metadata": {},
     "output_type": "execute_result"
    }
   ],
   "source": [
    "primes.intersection(evens)"
   ]
  },
  {
   "cell_type": "code",
   "execution_count": 30,
   "id": "1cd78bd9-1799-474c-8ff8-89e5267e5800",
   "metadata": {},
   "outputs": [
    {
     "data": {
      "text/plain": [
       "set()"
      ]
     },
     "execution_count": 30,
     "metadata": {},
     "output_type": "execute_result"
    }
   ],
   "source": [
    "evens.intersection(odds)"
   ]
  },
  {
   "cell_type": "code",
   "execution_count": 32,
   "id": "a63d0432-e15b-415b-bbb2-965633db8f49",
   "metadata": {},
   "outputs": [
    {
     "data": {
      "text/plain": [
       "{2, 3, 4, 5, 6, 7, 8, 9, 10}"
      ]
     },
     "execution_count": 32,
     "metadata": {},
     "output_type": "execute_result"
    }
   ],
   "source": [
    "primes.union(composite)"
   ]
  },
  {
   "cell_type": "code",
   "execution_count": 33,
   "id": "70c0c329-881f-436b-b68f-00d64bcf782e",
   "metadata": {},
   "outputs": [
    {
     "data": {
      "text/plain": [
       "True"
      ]
     },
     "execution_count": 33,
     "metadata": {},
     "output_type": "execute_result"
    }
   ],
   "source": [
    "2 in primes"
   ]
  },
  {
   "cell_type": "code",
   "execution_count": 34,
   "id": "29e06be6-a92e-4ef5-bef6-8cf40cd00d56",
   "metadata": {},
   "outputs": [
    {
     "data": {
      "text/plain": [
       "False"
      ]
     },
     "execution_count": 34,
     "metadata": {},
     "output_type": "execute_result"
    }
   ],
   "source": [
    "6 in odds"
   ]
  },
  {
   "cell_type": "code",
   "execution_count": 35,
   "id": "918c9d11-4120-4fcb-804f-543938612fc6",
   "metadata": {},
   "outputs": [
    {
     "data": {
      "text/plain": [
       "True"
      ]
     },
     "execution_count": 35,
     "metadata": {},
     "output_type": "execute_result"
    }
   ],
   "source": [
    "9 not in evens"
   ]
  },
  {
   "cell_type": "code",
   "execution_count": 36,
   "id": "349049ce-f530-48af-a985-f3be50508179",
   "metadata": {},
   "outputs": [
    {
     "data": {
      "text/plain": [
       "True"
      ]
     },
     "execution_count": 36,
     "metadata": {},
     "output_type": "execute_result"
    }
   ],
   "source": [
    "111 not in evens"
   ]
  },
  {
   "cell_type": "code",
   "execution_count": null,
   "id": "46f7d384-8952-467f-a2e5-1fd826550910",
   "metadata": {},
   "outputs": [],
   "source": []
  }
 ],
 "metadata": {
  "kernelspec": {
   "display_name": "Python 3 (ipykernel)",
   "language": "python",
   "name": "python3"
  },
  "language_info": {
   "codemirror_mode": {
    "name": "ipython",
    "version": 3
   },
   "file_extension": ".py",
   "mimetype": "text/x-python",
   "name": "python",
   "nbconvert_exporter": "python",
   "pygments_lexer": "ipython3",
   "version": "3.12.2"
  }
 },
 "nbformat": 4,
 "nbformat_minor": 5
}
