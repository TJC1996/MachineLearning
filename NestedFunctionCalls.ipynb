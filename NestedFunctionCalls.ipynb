{
 "cells": [
  {
   "cell_type": "code",
   "execution_count": 3,
   "id": "bbf19773-9576-4a7f-853d-a69ec6ef3d9b",
   "metadata": {},
   "outputs": [
    {
     "name": "stdout",
     "output_type": "stream",
     "text": [
      "10\n"
     ]
    }
   ],
   "source": [
    "import math\n",
    "age = 15\n",
    "print(len(str(id(str(age)) + math.floor(2.6))))"
   ]
  },
  {
   "cell_type": "code",
   "execution_count": 6,
   "id": "439a0c2a-7d06-4b45-8829-0d9d5746161e",
   "metadata": {},
   "outputs": [
    {
     "name": "stdout",
     "output_type": "stream",
     "text": [
      "10\n",
      "10\n"
     ]
    }
   ],
   "source": [
    "import math\n",
    "age = 15\n",
    "age_str = str(age)\n",
    "id_age_str = id(age_str)\n",
    "other = math.floor(2.6)\n",
    "added = id_age_str + other\n",
    "added_str = str(added)\n",
    "length = len(added_str)\n",
    "print(length)\n",
    "print(len(str(id(str(age)) + math.floor(2.6))))"
   ]
  },
  {
   "cell_type": "code",
   "execution_count": null,
   "id": "0c960948-b313-4acb-9403-db899f6c0321",
   "metadata": {},
   "outputs": [],
   "source": []
  }
 ],
 "metadata": {
  "kernelspec": {
   "display_name": "Python 3 (ipykernel)",
   "language": "python",
   "name": "python3"
  },
  "language_info": {
   "codemirror_mode": {
    "name": "ipython",
    "version": 3
   },
   "file_extension": ".py",
   "mimetype": "text/x-python",
   "name": "python",
   "nbconvert_exporter": "python",
   "pygments_lexer": "ipython3",
   "version": "3.12.2"
  }
 },
 "nbformat": 4,
 "nbformat_minor": 5
}
