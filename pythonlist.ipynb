{
 "cells": [
  {
   "cell_type": "code",
   "execution_count": 1,
   "id": "c5d25df0-b31e-425e-acb5-7367e793db23",
   "metadata": {},
   "outputs": [],
   "source": [
    "numbers = [1, 2, 3, 4, 5]\n",
    "numbers.append(6)\n"
   ]
  },
  {
   "cell_type": "code",
   "execution_count": 2,
   "id": "9e94b3f5-658d-42a9-a179-7601e36cafb1",
   "metadata": {},
   "outputs": [
    {
     "data": {
      "text/plain": [
       "[1, 2, 3, 4, 5, 6]"
      ]
     },
     "execution_count": 2,
     "metadata": {},
     "output_type": "execute_result"
    }
   ],
   "source": [
    "numbers"
   ]
  },
  {
   "cell_type": "code",
   "execution_count": 3,
   "id": "54375768-fab9-495c-9b3a-fe20bccc9b06",
   "metadata": {},
   "outputs": [],
   "source": [
    "animals = ['Cat', 'Dog', 'Turtle']"
   ]
  },
  {
   "cell_type": "code",
   "execution_count": 11,
   "id": "1a47b35a-fab3-4ce8-a68b-932b9607b3aa",
   "metadata": {},
   "outputs": [],
   "source": [
    "additional_animals = ['Rabbit', 'Horse']"
   ]
  },
  {
   "cell_type": "code",
   "execution_count": 5,
   "id": "65296249-46b7-404d-a573-5346e538d651",
   "metadata": {},
   "outputs": [],
   "source": [
    "animals.append(additional_animals)"
   ]
  },
  {
   "cell_type": "code",
   "execution_count": 6,
   "id": "f75993e4-dd5c-4143-a19c-8f4810ecfe45",
   "metadata": {},
   "outputs": [
    {
     "data": {
      "text/plain": [
       "['Cat', 'Dog', 'Turtle', ['Rabiit', 'Horse']]"
      ]
     },
     "execution_count": 6,
     "metadata": {},
     "output_type": "execute_result"
    }
   ],
   "source": [
    "animals\n"
   ]
  },
  {
   "cell_type": "code",
   "execution_count": 12,
   "id": "beb604bc-a041-425b-9ad1-b1d7da9968b8",
   "metadata": {},
   "outputs": [],
   "source": [
    "for x in additional_animals:\n",
    "    animals.append(x)"
   ]
  },
  {
   "cell_type": "code",
   "execution_count": 13,
   "id": "272ac9d6-9096-4f51-82a6-d6a4a85587d5",
   "metadata": {},
   "outputs": [
    {
     "data": {
      "text/plain": [
       "['Cat',\n",
       " 'Dog',\n",
       " 'Turtle',\n",
       " ['Rabiit', 'Horse'],\n",
       " 'Rabiit',\n",
       " 'Horse',\n",
       " 'Rabiit',\n",
       " 'Horse',\n",
       " 'Rabiit',\n",
       " 'Horse',\n",
       " 'Rabbit',\n",
       " 'Horse']"
      ]
     },
     "execution_count": 13,
     "metadata": {},
     "output_type": "execute_result"
    }
   ],
   "source": [
    "animals"
   ]
  },
  {
   "cell_type": "code",
   "execution_count": null,
   "id": "a54fec82-4314-4c8e-8a6d-77f57dae8374",
   "metadata": {},
   "outputs": [],
   "source": []
  }
 ],
 "metadata": {
  "kernelspec": {
   "display_name": "Python 3 (ipykernel)",
   "language": "python",
   "name": "python3"
  },
  "language_info": {
   "codemirror_mode": {
    "name": "ipython",
    "version": 3
   },
   "file_extension": ".py",
   "mimetype": "text/x-python",
   "name": "python",
   "nbconvert_exporter": "python",
   "pygments_lexer": "ipython3",
   "version": "3.12.2"
  }
 },
 "nbformat": 4,
 "nbformat_minor": 5
}
