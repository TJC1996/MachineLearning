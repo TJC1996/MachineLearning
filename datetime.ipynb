{
 "cells": [
  {
   "cell_type": "code",
   "execution_count": 2,
   "id": "d6359d9c-0825-4fdb-9d14-1cbddbf8f17e",
   "metadata": {},
   "outputs": [],
   "source": [
    "import datetime\n"
   ]
  },
  {
   "cell_type": "code",
   "execution_count": 3,
   "id": "2babb270-200b-47f1-8b2a-68500fcd0f89",
   "metadata": {},
   "outputs": [
    {
     "data": {
      "text/plain": [
       "['MAXYEAR',\n",
       " 'MINYEAR',\n",
       " 'UTC',\n",
       " '__all__',\n",
       " '__builtins__',\n",
       " '__cached__',\n",
       " '__doc__',\n",
       " '__file__',\n",
       " '__loader__',\n",
       " '__name__',\n",
       " '__package__',\n",
       " '__spec__',\n",
       " 'date',\n",
       " 'datetime',\n",
       " 'datetime_CAPI',\n",
       " 'time',\n",
       " 'timedelta',\n",
       " 'timezone',\n",
       " 'tzinfo']"
      ]
     },
     "execution_count": 3,
     "metadata": {},
     "output_type": "execute_result"
    }
   ],
   "source": [
    "dir(datetime)"
   ]
  },
  {
   "cell_type": "code",
   "execution_count": 5,
   "id": "68963729-5570-4088-9f39-2db98e27381c",
   "metadata": {},
   "outputs": [
    {
     "name": "stdout",
     "output_type": "stream",
     "text": [
      "Help on class date in module datetime:\n",
      "\n",
      "class date(builtins.object)\n",
      " |  date(year, month, day) --> date object\n",
      " |\n",
      " |  Methods defined here:\n",
      " |\n",
      " |  __add__(self, value, /)\n",
      " |      Return self+value.\n",
      " |\n",
      " |  __eq__(self, value, /)\n",
      " |      Return self==value.\n",
      " |\n",
      " |  __format__(...)\n",
      " |      Formats self with strftime.\n",
      " |\n",
      " |  __ge__(self, value, /)\n",
      " |      Return self>=value.\n",
      " |\n",
      " |  __getattribute__(self, name, /)\n",
      " |      Return getattr(self, name).\n",
      " |\n",
      " |  __gt__(self, value, /)\n",
      " |      Return self>value.\n",
      " |\n",
      " |  __hash__(self, /)\n",
      " |      Return hash(self).\n",
      " |\n",
      " |  __le__(self, value, /)\n",
      " |      Return self<=value.\n",
      " |\n",
      " |  __lt__(self, value, /)\n",
      " |      Return self<value.\n",
      " |\n",
      " |  __ne__(self, value, /)\n",
      " |      Return self!=value.\n",
      " |\n",
      " |  __radd__(self, value, /)\n",
      " |      Return value+self.\n",
      " |\n",
      " |  __reduce__(...)\n",
      " |      __reduce__() -> (cls, state)\n",
      " |\n",
      " |  __repr__(self, /)\n",
      " |      Return repr(self).\n",
      " |\n",
      " |  __rsub__(self, value, /)\n",
      " |      Return value-self.\n",
      " |\n",
      " |  __str__(self, /)\n",
      " |      Return str(self).\n",
      " |\n",
      " |  __sub__(self, value, /)\n",
      " |      Return self-value.\n",
      " |\n",
      " |  ctime(...)\n",
      " |      Return ctime() style string.\n",
      " |\n",
      " |  isocalendar(...)\n",
      " |      Return a named tuple containing ISO year, week number, and weekday.\n",
      " |\n",
      " |  isoformat(...)\n",
      " |      Return string in ISO 8601 format, YYYY-MM-DD.\n",
      " |\n",
      " |  isoweekday(...)\n",
      " |      Return the day of the week represented by the date.\n",
      " |      Monday == 1 ... Sunday == 7\n",
      " |\n",
      " |  replace(...)\n",
      " |      Return date with new specified fields.\n",
      " |\n",
      " |  strftime(...)\n",
      " |      format -> strftime() style string.\n",
      " |\n",
      " |  timetuple(...)\n",
      " |      Return time tuple, compatible with time.localtime().\n",
      " |\n",
      " |  toordinal(...)\n",
      " |      Return proleptic Gregorian ordinal.  January 1 of year 1 is day 1.\n",
      " |\n",
      " |  weekday(...)\n",
      " |      Return the day of the week represented by the date.\n",
      " |      Monday == 0 ... Sunday == 6\n",
      " |\n",
      " |  ----------------------------------------------------------------------\n",
      " |  Class methods defined here:\n",
      " |\n",
      " |  fromisocalendar(...) from builtins.type\n",
      " |      int, int, int -> Construct a date from the ISO year, week number and weekday.\n",
      " |\n",
      " |      This is the inverse of the date.isocalendar() function\n",
      " |\n",
      " |  fromisoformat(...) from builtins.type\n",
      " |      str -> Construct a date from a string in ISO 8601 format.\n",
      " |\n",
      " |  fromordinal(...) from builtins.type\n",
      " |      int -> date corresponding to a proleptic Gregorian ordinal.\n",
      " |\n",
      " |  fromtimestamp(timestamp, /) from builtins.type\n",
      " |      Create a date from a POSIX timestamp.\n",
      " |\n",
      " |      The timestamp is a number, e.g. created via time.time(), that is interpreted\n",
      " |      as local time.\n",
      " |\n",
      " |  today(...) from builtins.type\n",
      " |      Current date or datetime:  same as self.__class__.fromtimestamp(time.time()).\n",
      " |\n",
      " |  ----------------------------------------------------------------------\n",
      " |  Static methods defined here:\n",
      " |\n",
      " |  __new__(*args, **kwargs) from builtins.type\n",
      " |      Create and return a new object.  See help(type) for accurate signature.\n",
      " |\n",
      " |  ----------------------------------------------------------------------\n",
      " |  Data descriptors defined here:\n",
      " |\n",
      " |  day\n",
      " |\n",
      " |  month\n",
      " |\n",
      " |  year\n",
      " |\n",
      " |  ----------------------------------------------------------------------\n",
      " |  Data and other attributes defined here:\n",
      " |\n",
      " |  max = datetime.date(9999, 12, 31)\n",
      " |\n",
      " |  min = datetime.date(1, 1, 1)\n",
      " |\n",
      " |  resolution = datetime.timedelta(days=1)\n",
      "\n"
     ]
    }
   ],
   "source": [
    "help(datetime.date)"
   ]
  },
  {
   "cell_type": "code",
   "execution_count": 6,
   "id": "90068474-b7fa-47e0-b0e8-94a2a194d8f1",
   "metadata": {},
   "outputs": [],
   "source": [
    "gvr = datetime.date(1956, 1, 31)"
   ]
  },
  {
   "cell_type": "code",
   "execution_count": 7,
   "id": "415f3916-2c1c-4d2b-afad-bcaa577af132",
   "metadata": {},
   "outputs": [
    {
     "name": "stdout",
     "output_type": "stream",
     "text": [
      "1956-01-31\n"
     ]
    }
   ],
   "source": [
    "print(gvr)"
   ]
  },
  {
   "cell_type": "code",
   "execution_count": 8,
   "id": "b09daa38-7e1a-4fcf-9d43-eefb23fdfb6e",
   "metadata": {},
   "outputs": [
    {
     "name": "stdout",
     "output_type": "stream",
     "text": [
      "1\n"
     ]
    }
   ],
   "source": [
    "print(gvr.month)"
   ]
  },
  {
   "cell_type": "code",
   "execution_count": 10,
   "id": "f8ee644c-a1a7-41bd-be33-e1a9f3271d26",
   "metadata": {},
   "outputs": [
    {
     "name": "stdout",
     "output_type": "stream",
     "text": [
      "31\n"
     ]
    }
   ],
   "source": [
    "print(gvr.day)"
   ]
  },
  {
   "cell_type": "code",
   "execution_count": 11,
   "id": "cc088678-9bbf-4f6e-aca1-8e30e5469856",
   "metadata": {},
   "outputs": [
    {
     "name": "stdout",
     "output_type": "stream",
     "text": [
      "1956\n"
     ]
    }
   ],
   "source": [
    "print(gvr.year)"
   ]
  },
  {
   "cell_type": "code",
   "execution_count": 12,
   "id": "6f39097a-99e4-4e2f-bbfc-3aee60f4efe4",
   "metadata": {},
   "outputs": [
    {
     "data": {
      "text/plain": [
       "['MAXYEAR',\n",
       " 'MINYEAR',\n",
       " 'UTC',\n",
       " '__all__',\n",
       " '__builtins__',\n",
       " '__cached__',\n",
       " '__doc__',\n",
       " '__file__',\n",
       " '__loader__',\n",
       " '__name__',\n",
       " '__package__',\n",
       " '__spec__',\n",
       " 'date',\n",
       " 'datetime',\n",
       " 'datetime_CAPI',\n",
       " 'time',\n",
       " 'timedelta',\n",
       " 'timezone',\n",
       " 'tzinfo']"
      ]
     },
     "execution_count": 12,
     "metadata": {},
     "output_type": "execute_result"
    }
   ],
   "source": [
    "dir(datetime)"
   ]
  },
  {
   "cell_type": "code",
   "execution_count": 14,
   "id": "ed8dab31-3e8a-4a98-8f57-574c27217c2a",
   "metadata": {},
   "outputs": [
    {
     "name": "stdout",
     "output_type": "stream",
     "text": [
      "2000-04-10\n"
     ]
    }
   ],
   "source": [
    "mill = datetime.date(2000, 1, 1)\n",
    "dt = datetime.timedelta(100)\n",
    "print(mill + dt)"
   ]
  },
  {
   "cell_type": "code",
   "execution_count": 15,
   "id": "079580fe-906b-4046-a275-8bd497293a21",
   "metadata": {},
   "outputs": [
    {
     "name": "stdout",
     "output_type": "stream",
     "text": [
      "2017-03-30\n",
      "22:27:00\n",
      "2017-03-30 22:27:00\n",
      "22\n",
      "27\n"
     ]
    }
   ],
   "source": [
    "launch_date = datetime.date(2017, 3, 30)\n",
    "launch_time = datetime.time(22, 27, 0)\n",
    "launch_datetime = datetime.datetime(2017, 3, 30, 22, 27, 0)\n",
    "\n",
    "print(launch_date)\n",
    "print(launch_time)\n",
    "print(launch_datetime)\n",
    "print(launch_time.hour)\n",
    "print(launch_time.minute)"
   ]
  },
  {
   "cell_type": "code",
   "execution_count": 22,
   "id": "e6917212-0d5c-4c75-8b18-a12dd3f66086",
   "metadata": {},
   "outputs": [
    {
     "name": "stdout",
     "output_type": "stream",
     "text": [
      "0\n",
      "3\n",
      "0\n"
     ]
    }
   ],
   "source": [
    "\n",
    "print(launch_time.second)\n",
    "\n",
    "print(launch_date.month)\n",
    "\n",
    "print(launch_datetime.second)"
   ]
  },
  {
   "cell_type": "code",
   "execution_count": 23,
   "id": "309662fb-c65b-4315-b4c7-29aa7cc04043",
   "metadata": {},
   "outputs": [],
   "source": [
    "#Access current datetime:\n",
    "   # -Module: datetime\n",
    "   # -Class: datetime\n",
    "   # -Method: today()"
   ]
  },
  {
   "cell_type": "code",
   "execution_count": 25,
   "id": "c8aea758-f064-41e7-9b1a-9669675f0445",
   "metadata": {},
   "outputs": [
    {
     "name": "stdout",
     "output_type": "stream",
     "text": [
      "2024-05-21 14:04:24.910115\n"
     ]
    }
   ],
   "source": [
    "now = datetime.datetime.today()\n",
    "print(now)"
   ]
  },
  {
   "cell_type": "code",
   "execution_count": 27,
   "id": "90a2594f-bcb0-4c7a-8a0a-b4b555c37d80",
   "metadata": {},
   "outputs": [
    {
     "name": "stdout",
     "output_type": "stream",
     "text": [
      "910115\n"
     ]
    }
   ],
   "source": [
    "print(now.microsecond)"
   ]
  },
  {
   "cell_type": "code",
   "execution_count": 28,
   "id": "cca8bbe9-3f75-4d0a-94b0-92d43b45f8bd",
   "metadata": {},
   "outputs": [],
   "source": [
    "#Convert string to datetime:\n",
    "   # -Module: datetime\n",
    "   # -Class: datetime\n",
    "   # -Method: strptime()"
   ]
  },
  {
   "cell_type": "code",
   "execution_count": 29,
   "id": "1a2dcaa9-40d3-4f49-8322-14aa10c9e846",
   "metadata": {},
   "outputs": [],
   "source": [
    "moon_landing = \"7/20/1969\"\n",
    "moon_landing_datetime = datetime.datetime.strptime(moon_landing, \"%m/%d/%Y\")"
   ]
  },
  {
   "cell_type": "code",
   "execution_count": 30,
   "id": "a27710f4-b5ea-4cc0-bb70-76df6e6c631c",
   "metadata": {},
   "outputs": [
    {
     "name": "stdout",
     "output_type": "stream",
     "text": [
      "1969-07-20 00:00:00\n"
     ]
    }
   ],
   "source": [
    "print(moon_landing_datetime)"
   ]
  },
  {
   "cell_type": "code",
   "execution_count": 31,
   "id": "1f8d27a6-c27f-4239-ae67-ade583ab1ffc",
   "metadata": {},
   "outputs": [
    {
     "name": "stdout",
     "output_type": "stream",
     "text": [
      "<class 'datetime.datetime'>\n"
     ]
    }
   ],
   "source": [
    "print(type(moon_landing_datetime))"
   ]
  },
  {
   "cell_type": "code",
   "execution_count": null,
   "id": "821b38fd-5a4a-453f-8fcb-de87f6158207",
   "metadata": {},
   "outputs": [],
   "source": []
  }
 ],
 "metadata": {
  "kernelspec": {
   "display_name": "Python 3 (ipykernel)",
   "language": "python",
   "name": "python3"
  },
  "language_info": {
   "codemirror_mode": {
    "name": "ipython",
    "version": 3
   },
   "file_extension": ".py",
   "mimetype": "text/x-python",
   "name": "python",
   "nbconvert_exporter": "python",
   "pygments_lexer": "ipython3",
   "version": "3.12.2"
  }
 },
 "nbformat": 4,
 "nbformat_minor": 5
}
