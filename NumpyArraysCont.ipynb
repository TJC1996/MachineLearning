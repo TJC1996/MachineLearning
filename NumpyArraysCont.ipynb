{
 "cells": [
  {
   "cell_type": "code",
   "execution_count": 1,
   "id": "4a585ce5-d80c-444b-8862-5d473670507b",
   "metadata": {},
   "outputs": [],
   "source": [
    "import numpy as np"
   ]
  },
  {
   "cell_type": "code",
   "execution_count": 3,
   "id": "fa9e150d-6d49-4da3-8f09-d6b01b5fd750",
   "metadata": {},
   "outputs": [
    {
     "name": "stdout",
     "output_type": "stream",
     "text": [
      "[0 1 2 3 4 5 6 7]\n",
      "<class 'numpy.ndarray'>\n"
     ]
    }
   ],
   "source": [
    "my_array = np.arange(8)\n",
    "print(my_array)\n",
    "print(type(my_array))"
   ]
  },
  {
   "cell_type": "code",
   "execution_count": 6,
   "id": "fa30541b-5d6e-4644-9086-9f55b8b17743",
   "metadata": {},
   "outputs": [
    {
     "name": "stdout",
     "output_type": "stream",
     "text": [
      "[1 2 3 4 5 6 7]\n",
      "<class 'numpy.ndarray'>\n"
     ]
    }
   ],
   "source": [
    "my_array = np.arange(1, 8)\n",
    "print(my_array)\n",
    "print(type(my_array))"
   ]
  },
  {
   "cell_type": "code",
   "execution_count": 7,
   "id": "541f4a26-40cb-45ff-ab88-975cc1aeb90e",
   "metadata": {},
   "outputs": [
    {
     "name": "stdout",
     "output_type": "stream",
     "text": [
      "[1.  1.5 2.  2.5 3.  3.5 4.  4.5 5.  5.5 6.  6.5 7.  7.5]\n",
      "<class 'numpy.ndarray'>\n"
     ]
    }
   ],
   "source": [
    "my_array = np.arange(1, 8, 0.5)\n",
    "print(my_array)\n",
    "print(type(my_array))"
   ]
  },
  {
   "cell_type": "code",
   "execution_count": 10,
   "id": "25d556fe-9a26-4f85-86ba-e2a67fe3a413",
   "metadata": {},
   "outputs": [
    {
     "name": "stdout",
     "output_type": "stream",
     "text": [
      "[1 2 3]\n"
     ]
    }
   ],
   "source": [
    "#arrays from lists (added dtype=np.int8 second)\n",
    "from_list = np.array([1, 2, 3], dtype=np.int8)\n",
    "print(from_list)\n"
   ]
  },
  {
   "cell_type": "code",
   "execution_count": 9,
   "id": "ea5e8d76-19a0-44b0-b8a0-7c3c850035db",
   "metadata": {},
   "outputs": [
    {
     "name": "stdout",
     "output_type": "stream",
     "text": [
      "<class 'numpy.int64'>\n"
     ]
    }
   ],
   "source": [
    "print(type(from_list[0]))"
   ]
  },
  {
   "cell_type": "code",
   "execution_count": 11,
   "id": "40d4085d-a19f-4385-ae57-a4662dde08b7",
   "metadata": {},
   "outputs": [
    {
     "name": "stdout",
     "output_type": "stream",
     "text": [
      "<class 'numpy.int8'>\n"
     ]
    }
   ],
   "source": [
    "print(type(from_list[0]))"
   ]
  },
  {
   "cell_type": "code",
   "execution_count": 12,
   "id": "aa738ba1-8631-4623-b61c-e73d2dfbe054",
   "metadata": {},
   "outputs": [
    {
     "name": "stdout",
     "output_type": "stream",
     "text": [
      "[[1 2 3]\n",
      " [4 5 6]]\n"
     ]
    }
   ],
   "source": [
    "#2D arrays\n",
    "from_list = np.array([[1, 2, 3], [4, 5, 6]], dtype=np.int8)\n",
    "print(from_list)\n"
   ]
  },
  {
   "cell_type": "code",
   "execution_count": 15,
   "id": "13541b9f-331a-4f58-af70-ab48c44ea9e4",
   "metadata": {},
   "outputs": [
    {
     "name": "stdout",
     "output_type": "stream",
     "text": [
      "[[0 2 4 6]\n",
      " [1 3 5 7]]\n"
     ]
    }
   ],
   "source": [
    "array_2d = np.array((np.arange(0,8,2), np.arange(1,8,2)))\n",
    "print(array_2d)                   "
   ]
  },
  {
   "cell_type": "code",
   "execution_count": 16,
   "id": "c0bbc1a9-c4d6-49c2-b2f2-6339652811b1",
   "metadata": {},
   "outputs": [
    {
     "name": "stdout",
     "output_type": "stream",
     "text": [
      "2D shape: (2, 4)\n"
     ]
    }
   ],
   "source": [
    "print(\"2D shape:\", array_2d.shape)"
   ]
  },
  {
   "cell_type": "code",
   "execution_count": 17,
   "id": "3218bf37-3940-4b85-91d5-c265908c0f06",
   "metadata": {},
   "outputs": [
    {
     "name": "stdout",
     "output_type": "stream",
     "text": [
      "1D shape: (14,)\n"
     ]
    }
   ],
   "source": [
    "print(\"1D shape:\", my_array.shape)"
   ]
  },
  {
   "cell_type": "code",
   "execution_count": 18,
   "id": "6dcaea06-6c30-4f7c-9e58-60973af55fa2",
   "metadata": {},
   "outputs": [
    {
     "name": "stdout",
     "output_type": "stream",
     "text": [
      "[[0 2 4 6]\n",
      " [1 3 5 7]]\n"
     ]
    }
   ],
   "source": [
    "array_2d.reshape((4, 2))\n",
    "print(array_2d)"
   ]
  },
  {
   "cell_type": "code",
   "execution_count": 19,
   "id": "0605c656-76b5-4cbb-8bdd-cefdb513dc51",
   "metadata": {},
   "outputs": [
    {
     "name": "stdout",
     "output_type": "stream",
     "text": [
      "2D shape: (2, 4)\n"
     ]
    }
   ],
   "source": [
    "print(\"2D shape:\", array_2d.shape)"
   ]
  },
  {
   "cell_type": "code",
   "execution_count": 21,
   "id": "253f19fb-f65d-4dc7-a9a6-b511326bac28",
   "metadata": {},
   "outputs": [
    {
     "name": "stdout",
     "output_type": "stream",
     "text": [
      "2D shape: (4, 2)\n"
     ]
    }
   ],
   "source": [
    "array_2d = array_2d.reshape((4, 2))\n",
    "print(\"2D shape:\", array_2d.shape)"
   ]
  },
  {
   "cell_type": "code",
   "execution_count": 23,
   "id": "666e56dc-805f-4ac2-8b7b-2c1afea00938",
   "metadata": {},
   "outputs": [
    {
     "name": "stdout",
     "output_type": "stream",
     "text": [
      "2D shape: (2, 1, 4)\n",
      "[[[0 2 4 6]]\n",
      "\n",
      " [[1 3 5 7]]]\n"
     ]
    }
   ],
   "source": [
    "array_2d = array_2d.reshape((2, 1, 4))\n",
    "print(\"2D shape:\", array_2d.shape)\n",
    "print(array_2d)"
   ]
  },
  {
   "cell_type": "code",
   "execution_count": 24,
   "id": "75d46129-bc22-4ea2-9406-7d058efdf22a",
   "metadata": {},
   "outputs": [
    {
     "name": "stdout",
     "output_type": "stream",
     "text": [
      "[[0. 0.]\n",
      " [0. 0.]]\n"
     ]
    }
   ],
   "source": [
    "#empty arrays\n",
    "empty_array = np.zeros((2,2))\n",
    "print(empty_array)"
   ]
  },
  {
   "cell_type": "code",
   "execution_count": 25,
   "id": "671dbaf0-def1-4d6d-a796-99245039803e",
   "metadata": {},
   "outputs": [
    {
     "name": "stdout",
     "output_type": "stream",
     "text": [
      "[[1. 1.]\n",
      " [1. 1.]]\n"
     ]
    }
   ],
   "source": [
    "#empty ones\n",
    "empty_array = np.ones((2,2))\n",
    "print(empty_array)"
   ]
  },
  {
   "cell_type": "code",
   "execution_count": 26,
   "id": "66b4c113-e17f-409d-a5ab-0f955857580c",
   "metadata": {},
   "outputs": [
    {
     "name": "stdout",
     "output_type": "stream",
     "text": [
      "[[1. 1.]\n",
      " [1. 1.]]\n"
     ]
    }
   ],
   "source": [
    "#empty empty arrays\n",
    "empty_array = np.empty((2,2))\n",
    "print(empty_array)"
   ]
  },
  {
   "cell_type": "code",
   "execution_count": 27,
   "id": "aeacadc8-43ae-4ea7-8aba-b20395a00410",
   "metadata": {},
   "outputs": [
    {
     "name": "stdout",
     "output_type": "stream",
     "text": [
      "[[[0. 0.]\n",
      "  [0. 0.]]\n",
      "\n",
      " [[0. 0.]\n",
      "  [0. 0.]]]\n"
     ]
    }
   ],
   "source": [
    "empty_array = np.empty((2,2,2))\n",
    "print(empty_array)"
   ]
  },
  {
   "cell_type": "code",
   "execution_count": 28,
   "id": "8a749064-169a-499e-83a7-fffe19a8eef0",
   "metadata": {},
   "outputs": [
    {
     "name": "stdout",
     "output_type": "stream",
     "text": [
      "[[1. 0. 0.]\n",
      " [0. 1. 0.]\n",
      " [0. 0. 1.]]\n"
     ]
    }
   ],
   "source": [
    "eye_array = np.eye(3)\n",
    "print(eye_array)"
   ]
  },
  {
   "cell_type": "code",
   "execution_count": 29,
   "id": "00d36e21-adf8-4701-9325-8a0fbb5868e0",
   "metadata": {},
   "outputs": [
    {
     "name": "stdout",
     "output_type": "stream",
     "text": [
      "[[0. 0. 0.]\n",
      " [1. 0. 0.]\n",
      " [0. 1. 0.]]\n"
     ]
    }
   ],
   "source": [
    "eye_array = np.eye(3, k=-1)\n",
    "print(eye_array)"
   ]
  },
  {
   "cell_type": "code",
   "execution_count": 30,
   "id": "2a0238ae-f4d0-4917-bf10-b03ad0491ed7",
   "metadata": {},
   "outputs": [
    {
     "name": "stdout",
     "output_type": "stream",
     "text": [
      "[[0. 1. 0.]\n",
      " [0. 0. 1.]\n",
      " [0. 0. 0.]]\n"
     ]
    }
   ],
   "source": [
    "eye_array = np.eye(3, k=1)\n",
    "print(eye_array)"
   ]
  },
  {
   "cell_type": "code",
   "execution_count": 31,
   "id": "34ec43eb-1a85-432e-8320-495cd1e5b4e9",
   "metadata": {},
   "outputs": [
    {
     "name": "stdout",
     "output_type": "stream",
     "text": [
      "[[2. 1. 2.]\n",
      " [2. 2. 1.]\n",
      " [2. 2. 2.]]\n"
     ]
    }
   ],
   "source": [
    "eye_array = np.eye(3, k=1)\n",
    "eye_array[eye_array == 0] = 2\n",
    "print(eye_array)"
   ]
  },
  {
   "cell_type": "code",
   "execution_count": 32,
   "id": "ed6fe11e-00f4-4cc6-a7b0-8bce19fb9cf4",
   "metadata": {},
   "outputs": [
    {
     "name": "stdout",
     "output_type": "stream",
     "text": [
      "[[9. 9. 9.]\n",
      " [9. 9. 9.]\n",
      " [9. 9. 9.]]\n"
     ]
    }
   ],
   "source": [
    "eye_array = np.eye(3, k=1)\n",
    "eye_array[eye_array < 2 ] = 9\n",
    "print(eye_array)"
   ]
  },
  {
   "cell_type": "code",
   "execution_count": 33,
   "id": "e7662d12-4584-4579-a007-478b0792c9aa",
   "metadata": {},
   "outputs": [
    {
     "name": "stdout",
     "output_type": "stream",
     "text": [
      "[[2. 9. 2.]\n",
      " [2. 2. 9.]\n",
      " [2. 2. 2.]]\n"
     ]
    }
   ],
   "source": [
    "eye_array = np.eye(3, k=1)\n",
    "eye_array[eye_array == 0] = 2\n",
    "eye_array[eye_array < 2 ] = 9\n",
    "print(eye_array)"
   ]
  },
  {
   "cell_type": "code",
   "execution_count": 34,
   "id": "23b6c049-7cb1-4b86-84ed-4318097257e6",
   "metadata": {},
   "outputs": [
    {
     "name": "stdout",
     "output_type": "stream",
     "text": [
      "[[3. 3. 3.]\n",
      " [2. 2. 9.]\n",
      " [2. 2. 2.]]\n"
     ]
    }
   ],
   "source": [
    "eye_array = np.eye(3, k=1)\n",
    "eye_array[eye_array == 0] = 2\n",
    "eye_array[eye_array < 2 ] = 9\n",
    "eye_array[0] = 3\n",
    "print(eye_array)"
   ]
  },
  {
   "cell_type": "code",
   "execution_count": 35,
   "id": "00721f66-9b87-4058-a80b-09d91fb2c8f9",
   "metadata": {},
   "outputs": [
    {
     "name": "stdout",
     "output_type": "stream",
     "text": [
      "[[3. 3. 3.]\n",
      " [3. 3. 3.]\n",
      " [2. 2. 2.]]\n"
     ]
    }
   ],
   "source": [
    "eye_array = np.eye(3, k=1)\n",
    "eye_array[eye_array == 0] = 2\n",
    "eye_array[eye_array < 2 ] = 9\n",
    "eye_array[:2] = 3\n",
    "print(eye_array)"
   ]
  },
  {
   "cell_type": "code",
   "execution_count": 36,
   "id": "70f44ba9-c03f-423d-91aa-75d55c01c975",
   "metadata": {},
   "outputs": [
    {
     "name": "stdout",
     "output_type": "stream",
     "text": [
      "[[2. 9. 2.]\n",
      " [3. 3. 3.]\n",
      " [3. 3. 3.]]\n"
     ]
    }
   ],
   "source": [
    "eye_array = np.eye(3, k=1)\n",
    "eye_array[eye_array == 0] = 2\n",
    "eye_array[eye_array < 2 ] = 9\n",
    "eye_array[1:] = 3\n",
    "print(eye_array)"
   ]
  },
  {
   "cell_type": "code",
   "execution_count": 37,
   "id": "21d0dc85-a6b6-4af3-966b-7d2ebed1a995",
   "metadata": {},
   "outputs": [
    {
     "name": "stdout",
     "output_type": "stream",
     "text": [
      "[[4. 9. 2.]\n",
      " [4. 2. 9.]\n",
      " [4. 2. 2.]]\n"
     ]
    }
   ],
   "source": [
    "eye_array = np.eye(3, k=1)\n",
    "eye_array[eye_array == 0] = 2\n",
    "eye_array[eye_array < 2 ] = 9\n",
    "eye_array[:, 0] = 4\n",
    "print(eye_array)"
   ]
  },
  {
   "cell_type": "code",
   "execution_count": 38,
   "id": "ae6cb2e5-7b21-4361-a5b3-3cba856918ea",
   "metadata": {},
   "outputs": [
    {
     "name": "stdout",
     "output_type": "stream",
     "text": [
      "[[4. 4. 4.]\n",
      " [4. 4. 4.]\n",
      " [2. 2. 2.]]\n"
     ]
    }
   ],
   "source": [
    "eye_array = np.eye(3, k=1)\n",
    "eye_array[eye_array == 0] = 2\n",
    "eye_array[eye_array < 2 ] = 9\n",
    "eye_array[: -1] = 4\n",
    "print(eye_array)"
   ]
  },
  {
   "cell_type": "code",
   "execution_count": 41,
   "id": "f060d51f-67f8-4a7a-a425-b1ee9effc536",
   "metadata": {},
   "outputs": [
    {
     "name": "stdout",
     "output_type": "stream",
     "text": [
      "[[2. 9. 4.]\n",
      " [3. 3. 4.]\n",
      " [3. 3. 4.]]\n"
     ]
    }
   ],
   "source": [
    "eye_array = np.eye(3, k=1)\n",
    "eye_array[eye_array == 0] = 2\n",
    "eye_array[eye_array < 2 ] = 9\n",
    "eye_array[1:] = 3\n",
    "eye_array[:, -1] = 4\n",
    "print(eye_array)"
   ]
  },
  {
   "cell_type": "code",
   "execution_count": 42,
   "id": "a6caca47-1658-483d-9672-0e819d98747f",
   "metadata": {},
   "outputs": [
    {
     "name": "stdout",
     "output_type": "stream",
     "text": [
      "[[2. 9. 2.]\n",
      " [4. 4. 3.]\n",
      " [4. 4. 3.]]\n"
     ]
    }
   ],
   "source": [
    "eye_array = np.eye(3, k=1)\n",
    "eye_array[eye_array == 0] = 2\n",
    "eye_array[eye_array < 2 ] = 9\n",
    "eye_array[1:] = 3\n",
    "eye_array[1:, :2] = 4\n",
    "print(eye_array)"
   ]
  },
  {
   "cell_type": "code",
   "execution_count": 43,
   "id": "1417593b-1c1d-44f9-b2df-d791c77c478f",
   "metadata": {},
   "outputs": [
    {
     "name": "stdout",
     "output_type": "stream",
     "text": [
      "[[2. 9. 2.]\n",
      " [4. 4. 3.]\n",
      " [4. 4. 3.]] \n",
      "\n",
      "[[2. 2. 9.]\n",
      " [3. 4. 4.]\n",
      " [3. 4. 4.]]\n"
     ]
    }
   ],
   "source": [
    "print(eye_array, \"\\n\")\n",
    "\n",
    "sorted_array = np.sort(eye_array)\n",
    "print(sorted_array)"
   ]
  },
  {
   "cell_type": "code",
   "execution_count": 44,
   "id": "7ebfdcc7-cd2e-4333-9654-efacd96abbc7",
   "metadata": {},
   "outputs": [
    {
     "name": "stdout",
     "output_type": "stream",
     "text": [
      "[[2. 9. 2.]\n",
      " [4. 4. 3.]\n",
      " [4. 4. 3.]] \n",
      "\n",
      "[[2. 4. 2.]\n",
      " [4. 4. 3.]\n",
      " [4. 9. 3.]]\n"
     ]
    }
   ],
   "source": [
    "print(eye_array, \"\\n\")\n",
    "\n",
    "sorted_array = np.sort(eye_array, axis=0)\n",
    "print(sorted_array)"
   ]
  },
  {
   "cell_type": "code",
   "execution_count": 45,
   "id": "825a9e86-c778-4b27-ba9f-10aee6a4c2db",
   "metadata": {},
   "outputs": [
    {
     "name": "stdout",
     "output_type": "stream",
     "text": [
      "[[2. 9. 2.]\n",
      " [4. 4. 3.]\n",
      " [4. 4. 3.]] \n",
      "\n",
      "[[2. 2. 9.]\n",
      " [3. 4. 4.]\n",
      " [3. 4. 4.]]\n"
     ]
    }
   ],
   "source": [
    "print(eye_array, \"\\n\")\n",
    "\n",
    "sorted_array = np.sort(eye_array, axis=1)\n",
    "print(sorted_array)"
   ]
  },
  {
   "cell_type": "code",
   "execution_count": 46,
   "id": "2a62feec-ee3b-43f1-a65c-616b4e70a8e4",
   "metadata": {},
   "outputs": [
    {
     "name": "stdout",
     "output_type": "stream",
     "text": [
      "[[2. 9. 2.]\n",
      " [4. 4. 3.]\n",
      " [4. 4. 3.]] \n",
      "\n",
      "[[2. 4. 2.]\n",
      " [4. 4. 3.]\n",
      " [4. 9. 3.]]\n"
     ]
    }
   ],
   "source": [
    "print(eye_array, \"\\n\")\n",
    "\n",
    "sorted_array = np.sort(eye_array, axis=0, kind=\"mergesort\")\n",
    "print(sorted_array)"
   ]
  },
  {
   "cell_type": "code",
   "execution_count": 47,
   "id": "99eb9a9c-c778-4ccf-acf9-3ae91f144be1",
   "metadata": {},
   "outputs": [
    {
     "name": "stdout",
     "output_type": "stream",
     "text": [
      "[[2. 9. 2.]\n",
      " [4. 4. 3.]\n",
      " [4. 4. 3.]] \n",
      "\n",
      "[[2. 4. 2.]\n",
      " [4. 4. 3.]\n",
      " [4. 9. 3.]]\n"
     ]
    }
   ],
   "source": [
    "print(eye_array, \"\\n\")\n",
    "\n",
    "sorted_array = np.sort(eye_array, axis=0, kind=\"heapsort\")\n",
    "print(sorted_array)"
   ]
  },
  {
   "cell_type": "code",
   "execution_count": 48,
   "id": "5dff62b2-12c7-474b-aab6-fc9d724e6eb5",
   "metadata": {},
   "outputs": [
    {
     "name": "stdout",
     "output_type": "stream",
     "text": [
      "[[4. 4. 4.]\n",
      " [4. 4. 4.]\n",
      " [4. 4. 4.]] \n",
      "\n",
      "[[4. 4. 4.]\n",
      " [4. 4. 4.]\n",
      " [4. 4. 4.]]\n"
     ]
    }
   ],
   "source": [
    "#copy arrays\n",
    "my_view = sorted_array.view()\n",
    "my_copy = sorted_array.copy()\n",
    "\n",
    "my_view[:] = 4\n",
    "print(my_view, \"\\n\")\n",
    "print(sorted_array)"
   ]
  },
  {
   "cell_type": "code",
   "execution_count": null,
   "id": "b71d65d8-c325-4327-ad5f-45127304dff5",
   "metadata": {},
   "outputs": [],
   "source": []
  }
 ],
 "metadata": {
  "kernelspec": {
   "display_name": "Python 3 (ipykernel)",
   "language": "python",
   "name": "python3"
  },
  "language_info": {
   "codemirror_mode": {
    "name": "ipython",
    "version": 3
   },
   "file_extension": ".py",
   "mimetype": "text/x-python",
   "name": "python",
   "nbconvert_exporter": "python",
   "pygments_lexer": "ipython3",
   "version": "3.12.2"
  }
 },
 "nbformat": 4,
 "nbformat_minor": 5
}
