{
  "nbformat": 4,
  "nbformat_minor": 0,
  "metadata": {
    "colab": {
      "provenance": [],
      "gpuType": "A100",
      "include_colab_link": true
    },
    "kernelspec": {
      "name": "python3",
      "display_name": "Python 3"
    },
    "language_info": {
      "name": "python"
    },
    "accelerator": "GPU"
  },
  "cells": [
    {
      "cell_type": "markdown",
      "metadata": {
        "id": "view-in-github",
        "colab_type": "text"
      },
      "source": [
        "<a href=\"https://colab.research.google.com/github/TJC1996/MachineLearning/blob/main/student_mle_miniproject_recommendation_engines.ipynb\" target=\"_parent\"><img src=\"https://colab.research.google.com/assets/colab-badge.svg\" alt=\"Open In Colab\"/></a>"
      ]
    },
    {
      "cell_type": "markdown",
      "source": [
        "# Mini Project: Recommendation Engines\n",
        "\n",
        "Recommendation engines are algorithms designed to provide personalized suggestions or recommendations to users. These systems analyze user behavior, preferences, and interactions with items (products, movies, music, articles, etc.) to predict and offer items that users are likely to be interested in. Recommendation engines play a crucial role in enhancing user experience, driving engagement, and increasing conversion rates in various applications, including e-commerce, entertainment, content platforms, and more.\n",
        "\n",
        "There are generally two approaches taken in collaborative filtering and content-based recommendation engines:\n",
        "\n",
        "**1. Collaborative Filtering:**\n",
        "Collaborative Filtering is a popular approach to building recommendation systems that leverages the collective behavior of users to make personalized recommendations. It is based on the idea that users who have agreed in the past will likely agree in the future. There are two main types of collaborative filtering:\n",
        "\n",
        "- **User-based Collaborative Filtering:** This method finds users similar to the target user based on their past interactions (e.g., ratings or purchases). It then recommends items that similar users have liked but the target user has not interacted with yet.\n",
        "\n",
        "- **Item-based Collaborative Filtering:** In this approach, the system identifies similar items based on user interactions. It recommends items that are similar to the ones the target user has already liked or interacted with.\n",
        "\n",
        "Collaborative filtering does not require any explicit information about items but relies on the similarity between users or items. It is effective in capturing complex patterns and can provide serendipitous recommendations. However, it suffers from the cold-start problem (i.e., difficulty in recommending to new users or items with no interactions) and scalability challenges in large datasets.\n",
        "\n",
        "**2. Content-Based Recommendation:**\n",
        "Content-based recommendation is an alternative approach to building recommendation systems that focuses on the attributes or features of items and users. It leverages the characteristics of items to make recommendations. The key steps involved in content-based recommendation are:\n",
        "\n",
        "- **Feature Extraction:** For each item, relevant features are extracted. For movies, these features could be genre, director, actors, and plot summary.\n",
        "\n",
        "- **User Profile:** A user profile is created based on the items they have interacted with in the past. The user profile contains the weighted importance of features based on their interactions.\n",
        "\n",
        "- **Similarity Calculation:** The similarity between items or between items and the user profile is calculated using similarity metrics like cosine similarity or Euclidean distance.\n",
        "\n",
        "- **Recommendation:** Items that are most similar to the user profile are recommended to the user.\n",
        "\n",
        "Content-based recommendation systems are less affected by the cold-start problem as they can still recommend items based on their features. They are also more interpretable as they rely on item attributes. However, they may miss out on providing serendipitous recommendations and can be limited by the quality of feature extraction and user profiles.\n",
        "\n",
        "**Choosing Between Collaborative Filtering and Content-Based:**\n",
        "Both collaborative filtering and content-based approaches have their strengths and weaknesses. The choice between them depends on the specific requirements of the recommendation system, the type of data available, and the user base. Hybrid approaches that combine collaborative filtering and content-based techniques are also common, aiming to leverage the strengths of both methods and mitigate their weaknesses."
      ],
      "metadata": {
        "id": "fyXucUekO19i"
      }
    },
    {
      "cell_type": "markdown",
      "source": [
        "In this mini-project, you'll be building both content based and collaborative filtering engines for the [MovieLens 25M dataset](https://grouplens.org/datasets/movielens/25m/). The MovieLens 25M dataset is one of the most widely used and popular datasets for building and evaluating recommendation systems. It is provided by the GroupLens Research project, which collects and studies datasets related to movie ratings and recommendations. The MovieLens 25M dataset contains movie ratings and other related information contributed by users of the MovieLens website.\n",
        "\n",
        "**Dataset Details:**\n",
        "- **Size:** The dataset contains approximately 25 million movie ratings.\n",
        "- **Users:** It includes ratings from over 162,000 users.\n",
        "- **Movies:** The dataset consists of ratings for more than 62,000 movies.\n",
        "- **Ratings:** The ratings are provided on a scale of 1 to 5, where 1 is the lowest rating and 5 is the highest.\n",
        "- **Timestamps:** Each rating is associated with a timestamp, indicating when the rating was given.\n",
        "\n",
        "**Data Files:**\n",
        "The dataset is usually split into three CSV files:\n",
        "\n",
        "1. **movies.csv:** Contains information about movies, including the movie ID, title, genres, and release year.\n",
        "   - Columns: movieId, title, genres\n",
        "\n",
        "2. **ratings.csv:** Contains movie ratings provided by users, including the user ID, movie ID, rating, and timestamp.\n",
        "   - Columns: userId, movieId, rating, timestamp\n",
        "\n",
        "3. **tags.csv:** Contains user-generated tags for movies, including the user ID, movie ID, tag, and timestamp.\n",
        "   - Columns: userId, movieId, tag, timestamp"
      ],
      "metadata": {
        "id": "TYuE9O6I2uRY"
      }
    },
    {
      "cell_type": "markdown",
      "source": [
        "First, import all the libraries you'll need."
      ],
      "metadata": {
        "id": "DN0qzP-cRlMo"
      }
    },
    {
      "cell_type": "code",
      "execution_count": 1,
      "metadata": {
        "id": "kLWR1DfQPakn"
      },
      "outputs": [],
      "source": [
        "import zipfile\n",
        "import numpy as np\n",
        "import pandas as pd\n",
        "from urllib.request import urlretrieve\n",
        "from sklearn.metrics.pairwise import cosine_similarity"
      ]
    },
    {
      "cell_type": "markdown",
      "source": [
        "Next, download the relevant components of the MoveLens dataset. Note, these instructions are roughly based on the colab [here](https://colab.research.google.com/github/google/eng-edu/blob/main/ml/recommendation-systems/recommendation-systems.ipynb?utm_source=ss-recommendation-systems&utm_campaign=colab-external&utm_medium=referral&utm_content=recommendation-systems#scrollTo=O3bcgduFo4s6)."
      ],
      "metadata": {
        "id": "iaG6vAKyREej"
      }
    },
    {
      "cell_type": "code",
      "source": [
        "print(\"Downloading movielens data...\")\n",
        "\n",
        "urlretrieve('http://files.grouplens.org/datasets/movielens/ml-100k.zip', 'movielens.zip')\n",
        "zip_ref = zipfile.ZipFile('movielens.zip', 'r')\n",
        "zip_ref.extractall()\n",
        "print(\"Done. Dataset contains:\")\n",
        "print(zip_ref.read('ml-100k/u.info'))\n",
        "\n",
        "ratings_cols = ['user_id', 'movie_id', 'rating', 'unix_timestamp']\n",
        "ratings = pd.read_csv(\n",
        "    'ml-100k/u.data', sep='\\t', names=ratings_cols, encoding='latin-1')\n",
        "\n",
        "# The movies file contains a binary feature for each genre.\n",
        "genre_cols = [\n",
        "    \"genre_unknown\", \"Action\", \"Adventure\", \"Animation\", \"Children\", \"Comedy\",\n",
        "    \"Crime\", \"Documentary\", \"Drama\", \"Fantasy\", \"Film-Noir\", \"Horror\",\n",
        "    \"Musical\", \"Mystery\", \"Romance\", \"Sci-Fi\", \"Thriller\", \"War\", \"Western\"\n",
        "]\n",
        "movies_cols = [\n",
        "    'movie_id', 'title', 'release_date', \"video_release_date\", \"imdb_url\"\n",
        "] + genre_cols\n",
        "movies = pd.read_csv(\n",
        "    'ml-100k/u.item', sep='|', names=movies_cols, encoding='latin-1')"
      ],
      "metadata": {
        "id": "-wCvx2ukPm-3",
        "outputId": "9c32c503-f90b-4325-a874-7873186cb915",
        "colab": {
          "base_uri": "https://localhost:8080/"
        }
      },
      "execution_count": 2,
      "outputs": [
        {
          "output_type": "stream",
          "name": "stdout",
          "text": [
            "Downloading movielens data...\n",
            "Done. Dataset contains:\n",
            "b'943 users\\n1682 items\\n100000 ratings\\n'\n"
          ]
        }
      ]
    },
    {
      "cell_type": "markdown",
      "source": [
        "Before doing any kind of machine learning, it's always good to familiarize yourself with the datasets you'lll be working with.\n",
        "\n",
        "Here are your tasks:\n",
        "\n",
        "1. Spend some time familiarizing yourself with both the `movies` and `ratings` dataframes. How many unique user ids are present? How many unique movies are there?\n",
        "2. Create a new dataframe that merges the `movies` and `ratings` tables on 'movie_id'. Only keep the 'user_id', 'title', 'rating' fields in this new dataframe."
      ],
      "metadata": {
        "id": "pLAMVhnbR-Cy"
      }
    },
    {
      "cell_type": "code",
      "source": [
        "# Spend some time familiarizing yourself with both the movies and ratings\n",
        "# dataframes. How many unique user ids are present? How many unique movies\n",
        "# are there?\n",
        "\n",
        "# Familiarize yourself with the datasets\n",
        "num_unique_users = ratings['user_id'].nunique()\n",
        "num_unique_movies = movies['movie_id'].nunique()\n",
        "\n",
        "print(f\"Number of unique users: {num_unique_users}\")\n",
        "print(f\"Number of unique movies: {num_unique_movies}\")"
      ],
      "metadata": {
        "id": "vp7Tx7H_P5f2",
        "outputId": "a841b170-88e8-4ec8-e160-0e368c5c0d02",
        "colab": {
          "base_uri": "https://localhost:8080/"
        }
      },
      "execution_count": 4,
      "outputs": [
        {
          "output_type": "stream",
          "name": "stdout",
          "text": [
            "Number of unique users: 943\n",
            "Number of unique movies: 1682\n"
          ]
        }
      ]
    },
    {
      "cell_type": "code",
      "source": [
        "# Merge movies and ratings dataframes\n",
        "merged_df = ratings.merge(movies, left_on='movie_id', right_on='movie_id')\n",
        "filtered_df = merged_df[['user_id', 'movie_id', 'title', 'rating']]\n",
        "\n",
        "# Display the first few rows of the merged dataframe\n",
        "print(\"Sample of merged dataframe:\")\n",
        "print(filtered_df.head())"
      ],
      "metadata": {
        "id": "f6MrymMJRMjB",
        "outputId": "fa545b42-3fed-4636-ef14-07bd2092e3bf",
        "colab": {
          "base_uri": "https://localhost:8080/"
        }
      },
      "execution_count": 15,
      "outputs": [
        {
          "output_type": "stream",
          "name": "stdout",
          "text": [
            "Sample of merged dataframe:\n",
            "   user_id  movie_id                       title  rating\n",
            "0      196       242                Kolya (1996)       3\n",
            "1      186       302    L.A. Confidential (1997)       3\n",
            "2       22       377         Heavyweights (1994)       1\n",
            "3      244        51  Legends of the Fall (1994)       2\n",
            "4      166       346         Jackie Brown (1997)       1\n"
          ]
        }
      ]
    },
    {
      "cell_type": "markdown",
      "source": [
        "As mentioned in the introduction, content-Based Filtering is a recommendation engine approach that focuses on the attributes or features of items (products, movies, music, articles, etc.) and leverages these features to make personalized recommendations. The underlying idea is to match the characteristics of items with the preferences of users to suggest items that align with their interests. Content-based filtering is particularly useful when explicit user-item interactions (e.g., ratings or purchases) are sparse or unavailable.\n",
        "\n",
        "**Key Steps in Content-Based Filtering:**\n",
        "\n",
        "1. **Feature Extraction:**\n",
        "   - For each item, relevant features are extracted. These features are typically descriptive attributes that can be represented numerically, such as genre, director, actors, author, publication date, and keywords.\n",
        "   - In the case of text-based items, natural language processing techniques may be used to extract features like TF-IDF (Term Frequency-Inverse Document Frequency) scores.\n",
        "\n",
        "2. **User Profile Creation:**\n",
        "   - A user profile is created based on the items they have interacted with in the past. The user profile contains the weighted importance of features based on their interactions.\n",
        "   - For example, if a user has watched several action movies, the action genre feature would receive a higher weight in their profile.\n",
        "\n",
        "3. **Similarity Calculation:**\n",
        "   - The similarity between items or between items and the user profile is calculated using similarity metrics like cosine similarity, Euclidean distance, or Pearson correlation.\n",
        "   - Cosine similarity is commonly used as it measures the cosine of the angle between two vectors, which represents their similarity.\n",
        "\n",
        "4. **Recommendation:**\n",
        "   - Items that are most similar to the user profile are recommended to the user. These are items whose features have the highest similarity scores with the user profile.\n",
        "   - The recommended items are presented as a list sorted by their similarity scores.\n",
        "\n",
        "**Advantages of Content-Based Filtering:**\n",
        "1. **No Cold-Start Problem:** Content-based filtering can make recommendations even for new users with no historical interactions because it relies on item features rather than user history.\n",
        "\n",
        "2. **User Independence:** The recommendations are based solely on the features of items and do not require knowledge of other users' preferences or behavior.\n",
        "\n",
        "3. **Transparency:** Content-based recommendations are interpretable, as they depend on the features of items, making it easier for users to understand why specific items are recommended.\n",
        "\n",
        "4. **Serendipity:** Content-based filtering can recommend items with characteristics not seen before by the user, leading to serendipitous discoveries.\n",
        "\n",
        "5. **Diversity in Recommendations:** The method can offer diverse recommendations since it suggests items with different feature combinations.\n",
        "\n",
        "**Limitations of Content-Based Filtering:**\n",
        "1. **Limited Discovery:** Content-based filtering may struggle to recommend items outside the scope of users' historical interactions or interests.\n",
        "\n",
        "2. **Over-Specialization:** Users may receive recommendations that are too similar to their previous choices, leading to a lack of exposure to new item categories.\n",
        "\n",
        "3. **Dependency on Feature Quality:** The quality and relevance of item features significantly influence the quality of recommendations.\n",
        "\n",
        "4. **Limited for Cold Items:** Content-based filtering can struggle to recommend new items with limited feature information."
      ],
      "metadata": {
        "id": "_U44W0TMT3qf"
      }
    },
    {
      "cell_type": "markdown",
      "source": [
        "Here is your task:\n",
        "\n",
        "1. Write a function that takes in a user id and the dataframe you created before that contains 'user_id', 'title', and 'rating'. The function should return content-based recommendations for this user. Here are steps you can take:\n",
        "\n",
        "  A. Get the user's rated movies\n",
        "\n",
        "  B. Create a TF-IDF matrix using movie genres. Note, this can be extracted from the `movies` dataframe.\n",
        "\n",
        "  C. Compute the cosine similarity between movie genres. Use the [cosine_similarity](https://scikit-learn.org/stable/modules/generated/sklearn.metrics.pairwise.cosine_similarity.html) function.\n",
        "\n",
        "  D. Get the indices of similar movies to those rated by the user based on cosine similarity. Keep only the top 5.\n",
        "\n",
        "  E. Remove duplicates and movies already rated by the user."
      ],
      "metadata": {
        "id": "sbJGD7j7Ui-8"
      }
    },
    {
      "cell_type": "code",
      "source": [
        "# Content-Based Filtering using Movie Genres\n",
        "from sklearn.feature_extraction.text import TfidfVectorizer\n",
        "from sklearn.metrics.pairwise import cosine_similarity\n",
        "\n",
        "def content_based_recommendation(user_id, df, movies_df):\n",
        "    \"\"\"\n",
        "    Generate content-based movie recommendations for a user based on movie genres.\n",
        "\n",
        "    Args:\n",
        "    - user_id: int, ID of the user for whom recommendations are to be made.\n",
        "    - df: DataFrame, contains 'user_id', 'movie_id', 'rating'.\n",
        "    - movies_df: DataFrame, contains 'movie_id', 'title', 'genres'.\n",
        "\n",
        "    Returns:\n",
        "    - List of recommended movie titles.\n",
        "    \"\"\"\n",
        "    # Get the user's rated movies\n",
        "    user_rated_movies = df[df['user_id'] == user_id]\n",
        "    rated_movie_ids = user_rated_movies['movie_id'].tolist()\n",
        "\n",
        "    # Create a 'genres' column by combining individual genre columns\n",
        "    movies_df['genres'] = movies_df[genre_cols].apply(lambda row: ' '.join(row[row == 1].index), axis=1)\n",
        "\n",
        "    # Create a TF-IDF matrix using movie genres\n",
        "    tfidf = TfidfVectorizer(stop_words='english')\n",
        "    # movies_df['genres'] = movies_df['genres'].fillna('')  # Handle missing genres - Not needed anymore\n",
        "    tfidf_matrix = tfidf.fit_transform(movies_df['genres'])\n",
        "\n",
        "    # Compute the cosine similarity between movie genres\n",
        "    cosine_sim = cosine_similarity(tfidf_matrix, tfidf_matrix)\n",
        "\n",
        "    # Get the indices of the similar movies based on cosine similarity\n",
        "    similar_movies = set()\n",
        "    for movie_id in rated_movie_ids:\n",
        "        if movie_id in movies_df['movie_id'].values:\n",
        "            movie_idx = movies_df[movies_df['movie_id'] == movie_id].index[0]\n",
        "            sim_scores = list(enumerate(cosine_sim[movie_idx]))\n",
        "            sim_scores = sorted(sim_scores, key=lambda x: x[1], reverse=True)\n",
        "            similar_movies.update([idx for idx, score in sim_scores[:5]])\n",
        "\n",
        "    # Remove duplicates and movies already rated by the user\n",
        "    recommended_movies = [\n",
        "        movies_df.iloc[idx]['title']\n",
        "        for idx in similar_movies\n",
        "        if movies_df.iloc[idx]['movie_id'] not in rated_movie_ids\n",
        "    ]\n",
        "\n",
        "    return recommended_movies\n",
        "\n",
        "\n"
      ],
      "metadata": {
        "id": "JwBQSC-POTzn"
      },
      "execution_count": 17,
      "outputs": []
    },
    {
      "cell_type": "markdown",
      "source": [
        "The key idea behind collaborative filtering is that users who have agreed in the past will likely agree in the future. Instead of relying on item attributes or user profiles, collaborative filtering identifies patterns of user behavior and item preferences from the interactions present in the data.\n",
        "\n",
        "**Types of Collaborative Filtering:**\n",
        "There are two main types of collaborative filtering:\n",
        "\n",
        "**Collaborative Filtering Process:**\n",
        "The collaborative filtering process typically involves the following steps:\n",
        "\n",
        "1. **Data Collection:**\n",
        "   - Gather data on user-item interactions, such as movie ratings, product purchases, or article clicks.\n",
        "\n",
        "2. **User-Item Matrix:**\n",
        "   - Organize the data into a user-item matrix, where rows represent users, columns represent items, and the entries contain the users' interactions (e.g., ratings).\n",
        "\n",
        "3. **Similarity Calculation:**\n",
        "   - Calculate the similarity between users or items using similarity metrics such as cosine similarity, Pearson correlation, or Jaccard similarity.\n",
        "   - For user-based collaborative filtering, user similarities are calculated, and for item-based collaborative filtering, item similarities are calculated.\n",
        "\n",
        "4. **Neighborhood Selection:**\n",
        "   - For each user or item, select the most similar users or items as the neighborhood.\n",
        "   - The size of the neighborhood (the number of similar users or items to consider) is an important parameter to control the system's behavior.\n",
        "\n",
        "5. **Prediction Generation:**\n",
        "   - Predict the ratings for items that the target user has not yet interacted with by combining the ratings of neighboring users or items.\n",
        "\n",
        "6. **Recommendation Generation:**\n",
        "   - Recommend items with the highest predicted ratings to the target user.\n",
        "\n",
        "**Advantages of Collaborative Filtering using User-Item Interactions:**\n",
        "- Collaborative filtering is based solely on user interactions and does not require knowledge of item attributes, making it useful for cases where item data is sparse or unavailable.\n",
        "- It can provide serendipitous recommendations, suggesting items that users may not have discovered on their own.\n",
        "- Collaborative filtering can be applied in various domains, including e-commerce, music, movie, and content recommendations.\n",
        "\n",
        "**Limitations of Collaborative Filtering:**\n",
        "- The cold-start problem: Collaborative filtering struggles to recommend to new users or items with no or limited interaction history.\n",
        "- It may suffer from sparsity when data is limited or when users have only interacted with a small subset of items.\n",
        "- Scalability issues can arise with large datasets and an increasing number of users or items."
      ],
      "metadata": {
        "id": "2NNt3gHLYDxU"
      }
    },
    {
      "cell_type": "markdown",
      "source": [
        "Here is your task:\n",
        "\n",
        "1. Write a function that takes in a user id and the dataframe you created before that contains 'user_id', 'title', and 'rating'. The function should return collaborative filtering recommendations for this user based on a user-item interaction matrix. Here are steps you can take:\n",
        "\n",
        "  A. Create the user-item matrix using Pandas' [pivot_table](https://pandas.pydata.org/docs/reference/api/pandas.pivot_table.html).\n",
        "\n",
        "  B. Fill missing values with zeros in this matrix.\n",
        "\n",
        "  C. Calculate user-user similarity matrix using cosine similarity.\n",
        "\n",
        "  D. Get the array of similarity scores of the target user with all other users from the similarity matrix.\n",
        "\n",
        "  E. Extract, say the the top 5 most similar users (excluding the target user).\n",
        "\n",
        "  F. Generate movie recommendations based on the most similar users.\n",
        "\n",
        "  G. Remove duplicate movies recommendations."
      ],
      "metadata": {
        "id": "ks4mWyCaYVNY"
      }
    },
    {
      "cell_type": "code",
      "source": [
        "# Collaborative Filtering using User-Item Interactions\n",
        "from sklearn.metrics.pairwise import cosine_similarity\n",
        "import numpy as np\n",
        "import pandas as pd\n",
        "\n",
        "def collaborative_filtering_recommendation(user_id, df, top_n=5):\n",
        "    \"\"\"\n",
        "    Generate collaborative filtering movie recommendations for a user based on user-item interactions.\n",
        "\n",
        "    Args:\n",
        "    - user_id: int, ID of the user for whom recommendations are to be made.\n",
        "    - df: DataFrame, contains 'user_id', 'title', and 'rating'.\n",
        "    - top_n: int, number of similar users to consider.\n",
        "\n",
        "    Returns:\n",
        "    - List of recommended movie titles.\n",
        "    \"\"\"\n",
        "    # Create the user-item matrix\n",
        "    user_item_matrix = df.pivot_table(index='user_id', columns='title', values='rating')\n",
        "\n",
        "    # Fill missing values with 0 (indicating no rating)\n",
        "    user_item_matrix = user_item_matrix.fillna(0)\n",
        "\n",
        "    # Calculate user-user similarity matrix using cosine similarity\n",
        "    user_similarity = cosine_similarity(user_item_matrix)\n",
        "\n",
        "    # Get the index of the target user\n",
        "    user_index = user_item_matrix.index.get_loc(user_id)\n",
        "\n",
        "    # Get the similarity scores of the target user with all other users\n",
        "    similarity_scores = user_similarity[user_index]\n",
        "\n",
        "    # Find the top N most similar users (excluding the target user)\n",
        "    similar_users = np.argsort(similarity_scores)[::-1][1:top_n + 1]\n",
        "\n",
        "    # Generate movie recommendations based on the most similar users\n",
        "    recommended_movies = set()\n",
        "    for similar_user_idx in similar_users:\n",
        "        similar_user_id = user_item_matrix.index[similar_user_idx]\n",
        "        similar_user_ratings = df[df['user_id'] == similar_user_id]\n",
        "        rated_movies = similar_user_ratings[similar_user_ratings['rating'] >= 4]['title'].tolist()\n",
        "        recommended_movies.update(rated_movies)\n",
        "\n",
        "    # Remove movies already rated by the target user\n",
        "    user_rated_movies = df[df['user_id'] == user_id]['title'].tolist()\n",
        "    recommendations = list(recommended_movies - set(user_rated_movies))\n",
        "\n",
        "    return recommendations\n",
        "\n",
        "# Example usage:\n",
        "# Assuming df is the merged dataframe with 'user_id', 'title', and 'rating'.\n",
        "# user_id = 1\n",
        "# recommendations = collaborative_filtering_recommendation(user_id, df)\n",
        "# print(\"Recommended Movies:\", recommendations)\n"
      ],
      "metadata": {
        "id": "BqZPgKRDWf-c"
      },
      "execution_count": 18,
      "outputs": []
    },
    {
      "cell_type": "markdown",
      "source": [
        "Now, test your recommendations engines! Select a few user ids and generate recommendations using both functions you've written. Are the recommendations similar? Do the recommendations make sense?"
      ],
      "metadata": {
        "id": "-Jj883VAZRNe"
      }
    },
    {
      "cell_type": "code",
      "source": [
        "\n",
        "# Example user ID\n",
        "user_id = 1  # Replace with a valid user_id from filtered_df\n",
        "\n",
        "# Get recommendations\n",
        "recommendations = collaborative_filtering_recommendation(user_id, filtered_df)\n",
        "\n",
        "# Display recommendations\n",
        "print(\"Recommended Movies for User\", user_id, \":\", recommendations)\n",
        "\n",
        "\n",
        "# Display some user IDs for testing\n",
        "print(\"Available user IDs:\", filtered_df['user_id'].unique()[:10])  # Show first 10 unique user IDs\n",
        "\n",
        "# Test content-based filtering\n",
        "user_ids = [196, 186, 22, 244, 166, 298]  # Replace with valid user IDs from your dataset\n",
        "print(\"Content-Based Recommendations:\")\n",
        "for user_id in user_ids:\n",
        "    recommendations = content_based_recommendation(user_id, filtered_df, movies)\n",
        "    print(f\"User {user_id}: {recommendations}\")\n",
        "\n",
        "# Test collaborative filtering\n",
        "print(\"Collaborative Filtering Recommendations:\")\n",
        "for user_id in user_ids:\n",
        "    recommendations = collaborative_filtering_recommendation(user_id, filtered_df)\n",
        "    print(f\"User {user_id}: {recommendations}\")\n"
      ],
      "metadata": {
        "id": "kt9nuOTNJXz8",
        "outputId": "cfe746e7-6a21-4a06-9a53-aa9ccb60b27b",
        "colab": {
          "base_uri": "https://localhost:8080/"
        }
      },
      "execution_count": 20,
      "outputs": [
        {
          "output_type": "stream",
          "name": "stdout",
          "text": [
            "Recommended Movies for User 1 : ['Mulholland Falls (1996)', 'Crying Game, The (1992)', 'True Lies (1994)', 'Naked (1993)', 'Some Kind of Wonderful (1987)', 'E.T. the Extra-Terrestrial (1982)', \"Jackie Chan's First Strike (1996)\", 'English Patient, The (1996)', 'Adventures of Priscilla, Queen of the Desert, The (1994)', 'Last Action Hero (1993)', 'Stand by Me (1986)', 'Killing Zoe (1994)', 'Basketball Diaries, The (1995)', 'Rebel Without a Cause (1955)', 'Seventh Seal, The (Sjunde inseglet, Det) (1957)', 'Addiction, The (1995)', 'Time to Kill, A (1996)', 'Cool Hand Luke (1967)', \"Schindler's List (1993)\", 'Othello (1995)', 'Boot, Das (1981)', 'Highlander (1986)', 'Like Water For Chocolate (Como agua para chocolate) (1992)', 'Waterworld (1995)', 'Sex, Lies, and Videotape (1989)', 'Star Trek: Generations (1994)', 'In the Name of the Father (1993)', 'Death and the Maiden (1994)', 'Arrival, The (1996)', 'Cat People (1982)', 'Immortal Beloved (1994)', 'Shadowlands (1993)', 'Bridges of Madison County, The (1995)', 'Tombstone (1993)', 'Short Cuts (1993)', 'Brady Bunch Movie, The (1995)', 'Conspiracy Theory (1997)', 'Double vie de Véronique, La (Double Life of Veronique, The) (1991)', 'L.A. Confidential (1997)', 'Living in Oblivion (1995)', 'Pretty Woman (1990)', 'Kiss of Death (1995)', 'Volcano (1997)', 'My Life as a Dog (Mitt liv som hund) (1985)', 'Victor/Victoria (1982)', 'James and the Giant Peach (1996)', 'Ben-Hur (1959)', '2 Days in the Valley (1996)', 'Age of Innocence, The (1993)', 'Omen, The (1976)', 'Affair to Remember, An (1957)', 'Primal Fear (1996)', 'Mallrats (1995)', 'My Own Private Idaho (1991)', 'Glimmer Man, The (1996)', 'Tie Me Up! Tie Me Down! (1990)', 'Courage Under Fire (1996)', 'American Werewolf in London, An (1981)', 'Ransom (1996)', 'Dangerous Minds (1995)', 'To Die For (1995)', 'In the Line of Fire (1993)', 'Heat (1995)', 'Stalingrad (1993)', 'Alien: Resurrection (1997)', 'Streetcar Named Desire, A (1951)', 'Extreme Measures (1996)', 'Titanic (1997)', 'Secrets & Lies (1996)', 'Great Race, The (1965)', 'Executive Decision (1996)', 'Pinocchio (1940)', 'Casablanca (1942)', 'Menace II Society (1993)', 'Kalifornia (1993)', 'Shallow Grave (1994)', 'Clueless (1995)', 'Some Folks Call It a Sling Blade (1993)', 'Strictly Ballroom (1992)', 'Little Buddha (1993)', 'Rob Roy (1995)', 'Devil in a Blue Dress (1995)', 'Mother Night (1996)', 'Star Trek V: The Final Frontier (1989)', 'When a Man Loves a Woman (1994)', 'Ghost (1990)', 'Close Shave, A (1995)', 'Clear and Present Danger (1994)', 'Maltese Falcon, The (1941)', 'Red Rock West (1992)', 'Chinatown (1974)', 'Broken Arrow (1996)', 'Pocahontas (1995)', \"One Flew Over the Cuckoo's Nest (1975)\", 'Big Sleep, The (1946)', 'Kingpin (1996)', 'Once Were Warriors (1994)', 'Liar Liar (1997)', 'To Kill a Mockingbird (1962)', 'Orlando (1993)', 'Cook the Thief His Wife & Her Lover, The (1989)', 'Smoke (1995)', 'North by Northwest (1959)', 'Stealing Beauty (1996)', 'Jeffrey (1995)', 'Dave (1993)', 'Koyaanisqatsi (1983)', 'Hercules (1997)', \"Mary Shelley's Frankenstein (1994)\", 'Fly Away Home (1996)', 'American President, The (1995)', 'Man Who Would Be King, The (1975)', 'Miracle on 34th Street (1994)', 'Game, The (1997)', 'Hunchback of Notre Dame, The (1996)', 'Mrs. Parker and the Vicious Circle (1994)', 'Killing Fields, The (1984)', 'Piano, The (1993)', 'Flirting With Disaster (1996)', 'Dragonheart (1996)', 'Nutty Professor, The (1996)', \"Devil's Advocate, The (1997)\", 'Harold and Maude (1971)', 'Walk in the Clouds, A (1995)', 'My Fair Lady (1964)', 'Client, The (1994)', 'Eraser (1996)', 'Rear Window (1954)', 'Heathers (1989)', 'Lawrence of Arabia (1962)', 'Little Women (1994)', 'Dr. Strangelove or: How I Learned to Stop Worrying and Love the Bomb (1963)', 'Enchanted April (1991)', \"It's a Wonderful Life (1946)\", \"William Shakespeare's Romeo and Juliet (1996)\", 'Kissed (1996)', 'Pump Up the Volume (1990)', 'Mary Poppins (1964)', 'Parent Trap, The (1961)', 'Leaving Las Vegas (1995)', 'Con Air (1997)', 'Diva (1981)', 'Private Parts (1997)', \"Nobody's Fool (1994)\", 'When We Were Kings (1996)', 'Virtuosity (1995)', 'Mediterraneo (1991)', \"Marvin's Room (1996)\", 'Mission: Impossible (1996)', 'Die Hard: With a Vengeance (1995)', 'Shine (1996)', \"Sophie's Choice (1982)\", 'Beauty and the Beast (1991)', 'Hard Rain (1998)', 'Nell (1994)', 'Winnie the Pooh and the Blustery Day (1968)', 'American Buffalo (1996)', 'Gandhi (1982)', 'People vs. Larry Flynt, The (1996)', 'Sabrina (1995)', 'Lost Highway (1997)', 'City of Lost Children, The (1995)', 'Big Blue, The (Grand bleu, Le) (1988)', 'Corrina, Corrina (1994)', 'House of the Spirits, The (1993)', 'Nine Months (1995)', 'Murder in the First (1995)', 'Sirens (1994)', 'Six Degrees of Separation (1993)', 'Sword in the Stone, The (1963)', 'Sleepers (1996)', 'Fried Green Tomatoes (1991)', 'Vertigo (1958)', 'Absolute Power (1997)', 'Philadelphia (1993)', 'Quick and the Dead, The (1995)', 'Speed (1994)', 'Scream (1996)', 'Sense and Sensibility (1995)', 'Before Sunrise (1995)', 'Paris, Texas (1984)', 'Glory (1989)', 'Wings of Desire (1987)', 'Manhattan Murder Mystery (1993)', 'Batman (1989)', 'Dazed and Confused (1993)', 'My Left Foot (1989)', 'Bullets Over Broadway (1994)', 'Interview with the Vampire (1994)', 'Being There (1979)', 'Romeo Is Bleeding (1993)', 'Secret Garden, The (1993)', 'Cape Fear (1962)', 'Deer Hunter, The (1978)', \"Miller's Crossing (1990)\", 'Benny & Joon (1993)', 'Trainspotting (1996)', 'In the Bleak Midwinter (1995)', 'Three Musketeers, The (1993)', 'Grease (1978)', 'Casino (1995)', 'That Thing You Do! (1996)', 'Basquiat (1996)', 'Emma (1996)', 'Jumanji (1995)', 'Swimming with Sharks (1995)', 'Rosencrantz and Guildenstern Are Dead (1990)', 'Bob Roberts (1992)', 'Hamlet (1996)', 'Birds, The (1963)', 'Don Juan DeMarco (1995)', 'Escape from New York (1981)', 'Conan the Barbarian (1981)', 'Farinelli: il castrato (1994)', 'Butch Cassidy and the Sundance Kid (1969)', 'Secret of Roan Inish, The (1994)']\n",
            "Available user IDs: [196 186  22 244 166 298 115 253 305   6]\n",
            "Content-Based Recommendations:\n",
            "User 196: ['True Lies (1994)', \"Breakfast at Tiffany's (1961)\", 'Gone with the Wind (1939)', 'Manhattan (1979)', 'Shanghai Triad (Yao a yao yao dao waipo qiao) (1995)', 'Dead Man Walking (1995)', 'D3: The Mighty Ducks (1996)', 'Love Bug, The (1969)', 'Great Escape, The (1963)', 'Postino, Il (1994)', 'French Twist (Gazon maudit) (1995)', \"Mr. Holland's Opus (1995)\", 'White Balloon, The (1995)', \"Antonia's Line (1995)\", 'Angels and Insects (1995)', '20,000 Leagues Under the Sea (1954)', 'Star Kid (1997)', 'Three Musketeers, The (1993)', 'Brothers McMullen, The (1995)', 'White Squall (1996)', 'Crumb (1994)', 'War, The (1994)', 'Doom Generation, The (1995)', 'Mad Love (1995)', 'Rob Roy (1995)', 'E.T. the Extra-Terrestrial (1982)', 'To Wong Foo, Thanks for Everything! Julie Newmar (1995)', 'Billy Madison (1995)', 'Cinema Paradiso (1988)', 'Eat Drink Man Woman (1994)', 'Ed Wood (1994)', \"Kid in King Arthur's Court, A (1995)\", 'I.Q. (1994)', 'Hoop Dreams (1994)', 'Stargate (1994)', 'Santa Clause, The (1994)', \"What's Eating Gilbert Grape (1993)\", 'Pollyanna (1960)', 'Brother Minister: The Assassination of Malcolm X (1994)', 'Colonel Chabert, Le (1994)', 'First Knight (1995)', 'Hudsucker Proxy, The (1994)', 'Jurassic Park (1993)', 'Hot Shots! Part Deux (1993)', 'Cutthroat Island (1995)', 'Corrina, Corrina (1994)', 'Welcome to the Dollhouse (1995)', 'Star Trek: First Contact (1996)', '101 Dalmatians (1996)', 'Casablanca (1942)', 'Star Trek VI: The Undiscovered Country (1991)', 'Old Man and the Sea, The (1958)', 'Around the World in 80 Days (1956)', 'African Queen, The (1951)', 'Haunted World of Edward D. Wood Jr., The (1995)', 'Maya Lin: A Strong Clear Vision (1994)', 'Phenomenon (1996)', 'Lawrence of Arabia (1962)', 'Wings of Desire (1987)']\n",
            "User 186: ['GoldenEye (1995)', 'Four Rooms (1995)', 'Copycat (1995)', 'Shanghai Triad (Yao a yao yao dao waipo qiao) (1995)', 'Twelve Monkeys (1995)', 'Dead Man Walking (1995)', 'Richard III (1995)', 'Seven (Se7en) (1995)', 'Mighty Aphrodite (1995)', 'Postino, Il (1994)', \"Mr. Holland's Opus (1995)\", 'French Twist (Gazon maudit) (1995)', 'White Balloon, The (1995)', \"Antonia's Line (1995)\", 'Angels and Insects (1995)', 'Taxi Driver (1976)', 'Birdcage, The (1996)', 'Brothers McMullen, The (1995)', 'Bad Boys (1995)', \"Things to Do in Denver when You're Dead (1995)\", 'Desperado (1995)', 'Mad Love (1995)', 'NeverEnding Story III, The (1994)', 'To Wong Foo, Thanks for Everything! Julie Newmar (1995)', 'Billy Madison (1995)', 'Crossfire (1947)', 'Disclosure (1994)', 'Wild Bill (1995)', 'I.Q. (1994)', 'Pagemaster, The (1994)', 'Village of the Damned (1995)', 'Wyatt Earp (1994)', 'Stargate (1994)', 'Santa Clause, The (1994)', 'Demolition Man (1993)', 'While You Were Sleeping (1995)', 'Crow, The (1994)', 'Four Weddings and a Funeral (1994)', 'Maverick (1994)', \"Carlito's Way (1993)\", 'Wild Bunch, The (1969)', 'Warriors of Virtue (1997)', 'Hudsucker Proxy, The (1994)', 'King of New York (1990)', 'Jurassic Park (1993)', 'Home Alone (1990)', 'Terminator 2: Judgment Day (1991)', 'Laura (1944)', 'Snow White and the Seven Dwarfs (1937)', 'All Dogs Go to Heaven 2 (1996)', 'Escape to Witch Mountain (1975)', 'Flipper (1996)', 'Phenomenon (1996)', 'Godfather, The (1972)', 'Supercop (1992)', 'Bound (1996)', 'Grifters, The (1990)', \"Breakfast at Tiffany's (1961)\", 'MURDER and murder (1996)', 'D3: The Mighty Ducks (1996)', 'Love Bug, The (1969)', 'Homeward Bound: The Incredible Journey (1993)', 'Touch of Evil (1958)', 'Chinatown (1974)', 'Die Hard (1988)', 'M (1931)', 'Lawnmower Man, The (1992)', 'Reservoir Dogs (1992)', 'Platoon (1986)', 'Princess Bride, The (1987)', 'Raiders of the Lost Ark (1981)', 'Brazil (1985)', 'Aliens (1986)', 'Apocalypse Now (1979)', 'GoodFellas (1990)', 'Godfather: Part II, The (1974)', 'Barb Wire (1996)', 'Terminator, The (1984)', 'Nikita (La Femme Nikita) (1990)', 'First Knight (1995)', 'Indiana Jones and the Last Crusade (1989)', 'Cutthroat Island (1995)', 'Cape Fear (1991)', 'Star Trek: First Contact (1996)', 'Star Trek VI: The Undiscovered Country (1991)', 'Young Guns (1988)', 'Under Siege (1992)', 'Mars Attacks! (1996)', 'Saint, The (1997)', 'Tomorrow Never Dies (1997)', \"Devil's Own, The (1997)\", 'Lawnmower Man 2: Beyond Cyberspace (1996)', 'Johnny Mnemonic (1995)', 'Congo (1995)', 'Mimic (1997)', 'Kull the Conqueror (1997)', 'Simple Wish, A (1997)', 'Starship Troopers (1997)', 'Relative Fear (1994)', 'New York Cop (1996)', 'Timecop (1994)', 'Palmetto (1998)', 'In the Mouth of Madness (1995)', 'Donnie Brasco (1997)', 'Rising Sun (1993)', 'Fly Away Home (1996)', 'FairyTale: A True Story (1997)', 'Midnight in the Garden of Good and Evil (1997)', 'Daylight (1996)', 'Last Man Standing (1996)', 'Desperate Measures (1998)', 'U Turn (1997)', 'Playing God (1997)', 'Jackie Brown (1997)', 'Desperate Measures (1998)', 'Assignment, The (1997)', 'Incognito (1997)', 'Sudden Death (1995)', 'Flubber (1997)', 'Black Beauty (1994)', 'No Escape (1994)', 'Striking Distance (1993)', 'Three Musketeers, The (1993)', 'Wild Things (1998)', 'Cinderella (1950)', 'Island of Dr. Moreau, The (1996)', 'Alice in Wonderland (1951)', 'Day the Earth Stood Still, The (1951)', 'Highlander (1986)', 'Thieves (Voleurs, Les) (1996)', 'Indian in the Cupboard, The (1995)', 'Red Rock West (1992)', 'Dr. Strangelove or: How I Learned to Stop Worrying and Love the Bomb (1963)', 'Vertigo (1958)', 'Until the End of the World (Bis ans Ende der Welt) (1991)', 'Fly Away Home (1996)', 'Magnificent Seven, The (1954)']\n",
            "User 22: ['Manhattan (1979)', 'Twelve Monkeys (1995)', 'Great Escape, The (1963)', 'Mighty Aphrodite (1995)', 'Grease 2 (1982)', 'French Twist (Gazon maudit) (1995)', 'Braveheart (1995)', 'Birdcage, The (1996)', 'Brothers McMullen, The (1995)', 'Bad Boys (1995)', 'Desperado (1995)', 'Doom Generation, The (1995)', 'To Wong Foo, Thanks for Everything! Julie Newmar (1995)', 'Billy Madison (1995)', 'Species (1995)', 'Wild Bill (1995)', 'Eat Drink Man Woman (1994)', 'T-Men (1947)', 'Ed Wood (1994)', \"Kid in King Arthur's Court, A (1995)\", 'I.Q. (1994)', 'Lashou shentan (1992)', 'Tales from the Hood (1995)', 'Body Snatchers (1993)', 'Santa Clause, The (1994)', 'Cliffhanger (1993)', 'Coneheads (1993)', 'While You Were Sleeping (1995)', \"What's Eating Gilbert Grape (1993)\", \"City Slickers II: The Legend of Curly's Gold (1994)\", 'Four Weddings and a Funeral (1994)', 'Demolition Man (1993)', 'Maverick (1994)', 'Faster Pussycat! Kill! Kill! (1965)', 'Hellraiser: Bloodline (1996)', 'Hudsucker Proxy, The (1994)', 'Jurassic Park (1993)', \"Daniel Defoe's Robinson Crusoe (1996)\", 'For Whom the Bell Tolls (1943)', 'Welcome to the Dollhouse (1995)', 'Farewell to Arms, A (1932)', 'Flipper (1996)', 'Hackers (1995)', 'Victor/Victoria (1982)', 'Great Race, The (1965)', 'Crying Game, The (1992)', 'Frighteners, The (1996)', 'Howling, The (1981)', 'Striptease (1996)', 'In Love and War (1996)', 'D3: The Mighty Ducks (1996)', 'Love Bug, The (1969)', 'Zeus and Roxanne (1997)', '20,000 Leagues Under the Sea (1954)', 'Homeward Bound: The Incredible Journey (1993)', 'Lawnmower Man, The (1992)', 'Long Kiss Goodnight, The (1996)', 'Ghost and the Darkness, The (1996)', 'Willy Wonka and the Chocolate Factory (1971)', 'Sleeper (1973)', 'Young Guns II (1990)', 'Abyss, The (1989)', 'Cinema Paradiso (1988)', 'Delicatessen (1991)', 'Good, The Bad and The Ugly, The (1966)', 'Top Hat (1935)', 'Clockwork Orange, A (1971)', 'Alien (1979)', 'Dark City (1998)', 'Full Metal Jacket (1987)', 'Barb Wire (1996)', 'Unforgiven (1992)', 'Canadian Bacon (1994)', 'First Knight (1995)', 'Cyrano de Bergerac (1990)', 'Cutthroat Island (1995)', '101 Dalmatians (1996)', 'Young Guns (1988)', 'Jaws (1975)', 'Mars Attacks! (1996)', 'Saint, The (1997)', 'Tomorrow Never Dies (1997)', 'Grosse Pointe Blank (1997)', 'Screamers (1995)', 'Lost World: Jurassic Park, The (1997)', 'Batman & Robin (1997)', 'Men in Black (1997)', 'Johnny Mnemonic (1995)', 'Congo (1995)', 'Steel (1997)', 'Kull the Conqueror (1997)', 'Star Kid (1997)', 'Starship Troopers (1997)', 'Heat (1995)', 'Timecop (1994)', 'Manhattan Murder Mystery (1993)', 'Menace II Society (1993)', 'Rising Sun (1993)', 'Face/Off (1997)', \"Devil's Advocate, The (1997)\", 'Titanic (1997)', 'Daylight (1996)', 'Escape from L.A. (1996)', 'Everyone Says I Love You (1996)', 'Gay Divorcee, The (1934)', 'G.I. Jane (1997)', 'For the Moment (1994)', 'Days of Thunder (1990)', 'Braindead (1992)', 'Man Who Knew Too Little, The (1997)', 'Alien: Resurrection (1997)', 'Spice World (1997)', 'Deep Rising (1998)', 'Blues Brothers 2000 (1998)', 'Sudden Death (1995)', 'Money Talks (1997)', 'Money Talks (1997)', 'Beverly Hills Cop III (1994)', 'Last Action Hero (1993)', 'No Escape (1994)', 'Serial Mom (1994)', 'Striking Distance (1993)', 'Old Yeller (1957)', 'Parent Trap, The (1961)', 'That Darn Cat! (1965)', 'E.T. the Extra-Terrestrial (1982)', 'Day the Earth Stood Still, The (1951)', 'Forbidden Planet (1956)', 'Jaws 2 (1978)', 'Raw Deal (1948)', 'Dead Presidents (1995)', 'Funny Face (1957)', 'Herbie Rides Again (1974)', 'Man in the Iron Mask, The (1998)', 'Tombstone (1993)', 'Carpool (1996)', 'Dr. Strangelove or: How I Learned to Stop Worrying and Love the Bomb (1963)', 'Some Like It Hot (1959)', 'Sunset Blvd. (1950)', 'Until the End of the World (Bis ans Ende der Welt) (1991)', 'African Queen, The (1951)', 'Wings of Desire (1987)']\n",
            "User 244: ['GoldenEye (1995)', 'Copycat (1995)', 'Shanghai Triad (Yao a yao yao dao waipo qiao) (1995)', 'Richard III (1995)', 'Seven (Se7en) (1995)', 'Usual Suspects, The (1995)', 'Postino, Il (1994)', \"Mr. Holland's Opus (1995)\", 'French Twist (Gazon maudit) (1995)', 'White Balloon, The (1995)', \"Antonia's Line (1995)\", 'Taxi Driver (1976)', 'Birdcage, The (1996)', 'Bad Boys (1995)', 'Desperado (1995)', 'Doom Generation, The (1995)', 'Mad Love (1995)', 'Net, The (1995)', 'Billy Madison (1995)', 'Disclosure (1994)', 'Dolores Claiborne (1994)', 'Eat Drink Man Woman (1994)', 'Ed Wood (1994)', 'Hoop Dreams (1994)', 'I.Q. (1994)', 'Santa Clause, The (1994)', 'Maverick (1994)', 'Brother Minister: The Assassination of Malcolm X (1994)', \"Carlito's Way (1993)\", 'Fugitive, The (1993)', 'Hudsucker Proxy, The (1994)', 'Welcome to the Dollhouse (1995)', 'Home Alone (1990)', 'Terminator 2: Judgment Day (1991)', 'Silence of the Lambs, The (1991)', 'Snow White and the Seven Dwarfs (1937)', 'Aristocats, The (1970)', 'All Dogs Go to Heaven 2 (1996)', 'Flipper (1996)', 'Haunted World of Edward D. Wood Jr., The (1995)', 'Maya Lin: A Strong Clear Vision (1994)', 'Frighteners, The (1996)', 'Lone Star (1996)', 'Phenomenon (1996)', 'Supercop (1992)', \"Breakfast at Tiffany's (1961)\", 'Gone with the Wind (1939)', 'D3: The Mighty Ducks (1996)', 'Love Bug, The (1969)', 'Homeward Bound: The Incredible Journey (1993)', '20,000 Leagues Under the Sea (1954)', 'Long Kiss Goodnight, The (1996)', 'Sleeper (1973)', 'Basic Instinct (1992)', 'Brazil (1985)', 'Aliens (1986)', 'Good, The Bad and The Ugly, The (1966)', 'GoodFellas (1990)', 'Army of Darkness (1993)', 'Psycho (1960)', 'Grand Day Out, A (1992)', 'Henry V (1989)', 'Terminator, The (1984)', 'Nikita (La Femme Nikita) (1990)', 'Bridge on the River Kwai, The (1957)', 'Unforgiven (1992)', 'Akira (1988)', 'Cyrano de Bergerac (1990)', 'Indiana Jones and the Last Crusade (1989)', 'Cape Fear (1991)', 'Nightmare on Elm Street, A (1984)', '101 Dalmatians (1996)', 'Star Trek VI: The Undiscovered Country (1991)', 'Star Trek: The Wrath of Khan (1982)', 'Under Siege (1992)', \"Smilla's Sense of Snow (1997)\", \"Devil's Own, The (1997)\", 'Lost World: Jurassic Park, The (1997)', 'Event Horizon (1997)', 'Steel (1997)', 'Kull the Conqueror (1997)', 'Gattaca (1997)', 'Starship Troopers (1997)', 'Heat (1995)', 'English Patient, The (1996)', 'Evita (1996)', 'Donnie Brasco (1997)', 'Face/Off (1997)', \"Devil's Advocate, The (1997)\", 'Wings of the Dove, The (1997)', 'Titanic (1997)', 'Everyone Says I Love You (1996)', 'Murder at 1600 (1997)', 'G.I. Jane (1997)', 'Desperate Measures (1998)', 'Kiss the Girls (1997)', 'Game, The (1997)', 'Playing God (1997)', 'Alien: Resurrection (1997)', 'Jackie Brown (1997)', 'Desperate Measures (1998)', 'Prophecy II, The (1998)', 'Spice World (1997)', 'Deep Rising (1998)', 'Spawn (1997)', 'Assignment, The (1997)', 'Incognito (1997)', 'Blues Brothers 2000 (1998)', 'Sudden Death (1995)', 'Tales From the Crypt Presents: Demon Knight (1995)', 'True Lies (1994)', 'Beverly Hills Cop III (1994)', 'Last Action Hero (1993)', 'Serial Mom (1994)', 'Striking Distance (1993)', 'Three Musketeers, The (1993)', 'Ghost (1990)', 'Pinocchio (1940)', 'Tales from the Crypt Presents: Bordello of Blood (1996)', 'Old Yeller (1957)', 'Parent Trap, The (1961)', 'Cinderella (1950)', 'Alice in Wonderland (1951)', 'Aladdin and the King of Thieves (1996)', 'E.T. the Extra-Terrestrial (1982)', 'Day the Earth Stood Still, The (1951)', 'Highlander (1986)', 'Forbidden Planet (1956)', 'Butch Cassidy and the Sundance Kid (1969)', 'Jaws 2 (1978)', 'Jaws 3-D (1983)', 'Secret of Roan Inish, The (1994)', 'Red Rock West (1992)', 'Tombstone (1993)', 'Dr. Strangelove or: How I Learned to Stop Worrying and Love the Bomb (1963)', 'Vertigo (1958)', 'Casablanca (1942)', 'My Fair Lady (1964)', 'Sunset Blvd. (1950)', 'Notorious (1946)', 'To Catch a Thief (1955)', 'Thin Man, The (1934)', 'Around the World in 80 Days (1956)', 'Boot, Das (1981)', 'Treasure of the Sierra Madre, The (1948)', 'Daytrippers, The (1996)', 'Misérables, Les (1995)', 'Species (1995)', 'Farinelli: il castrato (1994)', \"Kid in King Arthur's Court, A (1995)\", \"Mary Shelley's Frankenstein (1994)\", 'Quick and the Dead, The (1995)', 'Tales from the Hood (1995)', 'Speed (1994)', 'Wolf (1994)', 'Body Snatchers (1993)', 'Coneheads (1993)', 'Hour of the Pig, The (1993)', 'American in Paris, An (1951)', 'Rebecca (1940)', 'Sword in the Stone, The (1963)', 'So Dear to My Heart (1949)', 'Great Race, The (1965)', 'Escape from New York (1981)', 'Howling, The (1981)', 'Manchurian Candidate, The (1962)', 'Alien 3 (1992)', 'Blood Beach (1981)', 'Dark City (1998)', \"Singin' in the Rain (1952)\", 'First Knight (1995)', 'Fluke (1995)', 'Saint, The (1997)', 'Tomorrow Never Dies (1997)', 'Screamers (1995)', 'Johnny Mnemonic (1995)', 'Beyond Bedlam (1993)', 'Daylight (1996)', 'Escape from L.A. (1996)', 'Gay Divorcee, The (1934)', 'Murder, My Sweet (1944)', 'Days of Thunder (1990)', 'Braindead (1992)', 'Jingle All the Way (1996)', 'Money Talks (1997)', 'Money Talks (1997)', 'Flubber (1997)', 'Mercury Rising (1998)', 'Craft, The (1996)', 'Funny Face (1957)', 'Winnie the Pooh and the Blustery Day (1968)', 'Geronimo: An American Legend (1993)', 'Until the End of the World (Bis ans Ende der Welt) (1991)', 'Fire Down Below (1997)', 'Drop Dead Fred (1991)', 'Grease 2 (1982)', 'War, The (1994)', 'Six Degrees of Separation (1993)', 'Umbrellas of Cherbourg, The (Parapluies de Cherbourg, Les) (1964)', 'Farewell to Arms, A (1932)', 'Old Man and the Sea, The (1958)', 'Hackers (1995)', 'In Love and War (1996)', 'Stalker (1979)', 'Top Hat (1935)', 'Cutthroat Island (1995)', 'Set It Off (1996)', 'Before and After (1996)', 'Star Kid (1997)', 'New York Cop (1996)', 'Kazaam (1996)', 'For the Moment (1994)', 'Faust (1994)', 'Suture (1993)', 'Raw Deal (1948)', 'Herbie Rides Again (1974)', 'Man in the Iron Mask, The (1998)', 'Witness (1985)', 'Hungarian Fairy Tale, A (1987)', 'Woman in Question, The (1950)', 'T-Men (1947)', 'Truth or Consequences, N.M. (1997)', 'King of New York (1990)', 'B. Monkey (1998)']\n",
            "User 166: ['Four Rooms (1995)', 'Twelve Monkeys (1995)', 'Mighty Aphrodite (1995)', 'Taxi Driver (1976)', 'Birdcage, The (1996)', 'Brothers McMullen, The (1995)', 'Desperado (1995)', 'Doom Generation, The (1995)', 'Rob Roy (1995)', 'To Wong Foo, Thanks for Everything! Julie Newmar (1995)', 'Billy Madison (1995)', 'Disclosure (1994)', 'Dolores Claiborne (1994)', 'Eat Drink Man Woman (1994)', 'Ed Wood (1994)', 'Village of the Damned (1995)', 'Natural Born Killers (1994)', 'Pulp Fiction (1994)', 'Speed (1994)', 'Boxing Helena (1993)', 'Santa Clause, The (1994)', \"What's Eating Gilbert Grape (1993)\", 'Crow, The (1994)', \"Carlito's Way (1993)\", 'Firm, The (1993)', 'Hellraiser: Bloodline (1996)', 'Fugitive, The (1993)', 'Welcome to the Dollhouse (1995)', 'Home Alone (1990)', 'Spellbound (1945)', 'Silence of the Lambs, The (1991)', 'Supercop (1992)', 'Gone with the Wind (1939)', 'D3: The Mighty Ducks (1996)', 'Love Bug, The (1969)', 'Die Hard (1988)', 'Long Kiss Goodnight, The (1996)', 'Alien 3 (1992)', 'Basic Instinct (1992)', 'Top Gun (1986)', 'Brazil (1985)', 'GoodFellas (1990)', 'Alien (1979)', 'Nikita (La Femme Nikita) (1990)', 'Cyrano de Bergerac (1990)', 'Canadian Bacon (1994)', 'M*A*S*H (1970)', 'Cape Fear (1991)', '101 Dalmatians (1996)', 'Relative Fear (1994)', 'In the Mouth of Madness (1995)', 'Absolute Power (1997)', 'Donnie Brasco (1997)', 'Game, The (1997)', 'Days of Thunder (1990)', 'Diva (1981)', 'Fallen (1998)', 'Deep Rising (1998)', 'Assignment, The (1997)', 'Thinner (1996)', 'Day the Earth Stood Still, The (1951)', 'Duck Soup (1933)', 'Man in the Iron Mask, The (1998)', 'Colonel Chabert, Le (1994)', 'Red Rock West (1992)', 'Vertigo (1958)', 'Casablanca (1942)', 'Until the End of the World (Bis ans Ende der Welt) (1991)', 'Bananas (1971)']\n",
            "User 298: ['Fire Down Below (1997)', 'Boot, Das (1981)', 'GoldenEye (1995)', 'Shanghai Triad (Yao a yao yao dao waipo qiao) (1995)', 'Treasure of the Sierra Madre, The (1948)', 'Great Escape, The (1963)', 'Richard III (1995)', 'Mighty Aphrodite (1995)', 'Postino, Il (1994)', \"Mr. Holland's Opus (1995)\", 'French Twist (Gazon maudit) (1995)', 'Big Sleep, The (1946)', 'White Balloon, The (1995)', \"Antonia's Line (1995)\", 'Angels and Insects (1995)', 'Birdcage, The (1996)', 'Brothers McMullen, The (1995)', 'Crumb (1994)', 'Doom Generation, The (1995)', 'Free Willy 2: The Adventure Home (1995)', 'Mad Love (1995)', 'NeverEnding Story III, The (1994)', 'To Wong Foo, Thanks for Everything! Julie Newmar (1995)', 'Billy Madison (1995)', 'Disclosure (1994)', 'Dolores Claiborne (1994)', 'Eat Drink Man Woman (1994)', 'Wild Bill (1995)', 'Ed Wood (1994)', 'Hoop Dreams (1994)', 'I.Q. (1994)', 'Quick and the Dead, The (1995)', 'Lashou shentan (1992)', 'Natural Born Killers (1994)', 'Outbreak (1995)', 'Village of the Damned (1995)', 'Clear and Present Danger (1994)', \"Kid in King Arthur's Court, A (1995)\", 'Wyatt Earp (1994)', 'Tales from the Hood (1995)', 'Pulp Fiction (1994)', 'Body Snatchers (1993)', 'Stargate (1994)', 'Santa Clause, The (1994)', 'Coneheads (1993)', 'While You Were Sleeping (1995)', \"What's Eating Gilbert Grape (1993)\", \"Pete's Dragon (1977)\", 'Four Weddings and a Funeral (1994)', 'Maverick (1994)', 'Brother Minister: The Assassination of Malcolm X (1994)', \"Carlito's Way (1993)\", 'Firm, The (1993)', 'Wild Bunch, The (1969)', 'Warriors of Virtue (1997)', 'Hudsucker Proxy, The (1994)', 'Jurassic Park (1993)', 'Free Willy (1993)', 'For Whom the Bell Tolls (1943)', 'American in Paris, An (1951)', 'Mark of Zorro, The (1940)', 'Welcome to the Dollhouse (1995)', 'Home Alone (1990)', 'Rebecca (1940)', 'Terminator 2: Judgment Day (1991)', 'Aladdin (1992)', 'Farewell to Arms, A (1932)', 'Aristocats, The (1970)', 'All Dogs Go to Heaven 2 (1996)', 'Gigi (1958)', 'Laura (1944)', 'Mystery Science Theater 3000: The Movie (1996)', 'Operation Dumbo Drop (1995)', 'Escape to Witch Mountain (1975)', 'Flipper (1996)', 'Haunted World of Edward D. Wood Jr., The (1995)', 'Victor/Victoria (1982)', 'Great Race, The (1965)', 'Maya Lin: A Strong Clear Vision (1994)', 'Crying Game, The (1992)', 'Striptease (1996)', 'Rock, The (1996)', 'Escape from New York (1981)', 'Supercop (1992)', 'In Love and War (1996)', 'Frighteners, The (1996)', \"Breakfast at Tiffany's (1961)\", 'Howling, The (1981)', 'D3: The Mighty Ducks (1996)', 'Love Bug, The (1969)', 'Homeward Bound: The Incredible Journey (1993)', 'Chinatown (1974)', 'B. Monkey (1998)', 'Lawnmower Man, The (1992)', 'Long Kiss Goodnight, The (1996)', '20,000 Leagues Under the Sea (1954)', 'Bedknobs and Broomsticks (1971)', 'Ghost and the Darkness, The (1996)', 'Alien 3 (1992)', 'Dirty Dancing (1987)', 'Platoon (1986)', 'Basic Instinct (1992)', 'Abyss, The (1989)', 'Young Guns II (1990)', 'Delicatessen (1991)', \"McHale's Navy (1997)\", 'Aliens (1986)', 'Good, The Bad and The Ugly, The (1966)', 'Apocalypse Now (1979)', 'GoodFellas (1990)', 'Full Metal Jacket (1987)', 'Henry V (1989)', 'Canadian Bacon (1994)', \"Bram Stoker's Dracula (1992)\", 'Nightmare on Elm Street, A (1984)', 'Star Trek: First Contact (1996)', '101 Dalmatians (1996)', 'Star Trek VI: The Undiscovered Country (1991)', 'Young Guns (1988)', 'Mars Attacks! (1996)', 'Last of the Mohicans, The (1992)', 'Jumanji (1995)', \"Smilla's Sense of Snow (1997)\", 'Grosse Pointe Blank (1997)', 'Johnny Mnemonic (1995)', 'Kull the Conqueror (1997)', 'Simple Wish, A (1997)', 'Star Kid (1997)', 'Starship Troopers (1997)', 'Scream (1996)', 'Palmetto (1998)', 'Pagemaster, The (1994)', 'Absolute Power (1997)', 'Donnie Brasco (1997)', 'Menace II Society (1993)', 'Face/Off (1997)', 'Fly Away Home (1996)', 'Phantom, The (1996)', 'Daylight (1996)', 'Escape from L.A. (1996)', 'Everyone Says I Love You (1996)', 'Murder at 1600 (1997)', 'G.I. Jane (1997)', 'For the Moment (1994)', 'Braindead (1992)', 'Alien: Resurrection (1997)', 'Jackie Brown (1997)', 'Jingle All the Way (1996)', 'Prophecy II, The (1998)', 'Spice World (1997)', 'Deep Rising (1998)', 'Spawn (1997)', 'Blues Brothers 2000 (1998)', 'Life Less Ordinary, A (1997)', 'Tales From the Crypt Presents: Demon Knight (1995)', 'Black Beauty (1994)', 'Pinocchio (1940)', 'Mercury Rising (1998)', 'Thinner (1996)', 'Tales from the Crypt Presents: Bordello of Blood (1996)', 'Alice in Wonderland (1951)', 'Aladdin and the King of Thieves (1996)', 'Highlander (1986)', 'Madame Butterfly (1995)', 'So I Married an Axe Murderer (1993)', 'Dead Presidents (1995)', 'Herbie Rides Again (1974)', 'Winnie the Pooh and the Blustery Day (1968)', 'Inspector General, The (1949)', 'Colonel Chabert, Le (1994)', 'Secret of Roan Inish, The (1994)', 'Tombstone (1993)', 'Carpool (1996)', 'Meet Me in St. Louis (1944)', 'To Catch a Thief (1955)', 'Geronimo: An American Legend (1993)', 'Witness (1985)']\n",
            "Collaborative Filtering Recommendations:\n",
            "User 196: ['Clerks (1994)', 'Mask, The (1994)', 'Room with a View, A (1986)', 'Dirty Dancing (1987)', 'Boomerang (1992)', 'Manhattan (1979)', 'Cool Hand Luke (1967)', \"I'm Not Rappaport (1996)\", 'Back to the Future (1985)', 'Night on Earth (1991)', 'Jane Eyre (1996)', 'Wallace & Gromit: The Best of Aardman Animation (1996)', 'Eat Drink Man Woman (1994)', 'Return of the Pink Panther, The (1974)', 'Immortal Beloved (1994)', 'Renaissance Man (1994)', 'It Could Happen to You (1994)', \"City Slickers II: The Legend of Curly's Gold (1994)\", 'Local Hero (1983)', 'Fugitive, The (1993)', 'Contact (1997)', 'Indiana Jones and the Last Crusade (1989)', 'Fantasia (1940)', 'Much Ado About Nothing (1993)', 'Somewhere in Time (1980)', 'Forget Paris (1995)', 'Victor/Victoria (1982)', 'Private Benjamin (1980)', 'Primal Fear (1996)', 'Monty Python and the Holy Grail (1974)', 'Fargo (1996)', 'Mars Attacks! (1996)', 'Swingers (1996)', 'Heat (1995)', \"Microcosmos: Le peuple de l'herbe (1996)\", 'Pulp Fiction (1994)', 'Double Happiness (1994)', 'Unzipped (1995)', 'How to Make an American Quilt (1995)', 'Strictly Ballroom (1992)', 'Rob Roy (1995)', 'Drop Dead Fred (1991)', 'Duck Soup (1933)', 'Close Shave, A (1995)', 'Persuasion (1995)', 'Aladdin (1992)', \"One Flew Over the Cuckoo's Nest (1975)\", 'Reality Bites (1994)', 'Four Rooms (1995)', 'Brothers McMullen, The (1995)', 'Annie Hall (1977)', 'Liar Liar (1997)', 'Dances with Wolves (1990)', 'This Is Spinal Tap (1984)', 'Dave (1993)', 'Dead Poets Society (1989)', 'Get Shorty (1995)', 'Stealing Beauty (1996)', 'Remains of the Day, The (1993)', 'Grand Day Out, A (1992)', 'Spy Hard (1996)', 'Amateur (1994)', 'Jerry Maguire (1996)', 'Tin Cup (1996)', 'Pallbearer, The (1996)', 'Visitors, The (Visiteurs, Les) (1993)', 'Raise the Red Lantern (1991)', 'Young Frankenstein (1974)', 'Game, The (1997)', 'Michael (1996)', 'Killing Fields, The (1984)', 'Piano, The (1993)', 'I.Q. (1994)', 'Sgt. Bilko (1996)', 'Strawberry and Chocolate (Fresa y chocolate) (1993)', 'Umbrellas of Cherbourg, The (Parapluies de Cherbourg, Les) (1964)', 'Multiplicity (1996)', 'Sleepless in Seattle (1993)', 'Return of the Jedi (1983)', 'Rear Window (1954)', 'In & Out (1997)', 'Red Firecracker, Green Firecracker (1994)', 'Enchanted April (1991)', \"Antonia's Line (1995)\", 'A Chef in Love (1996)', 'Amadeus (1984)', 'Everyone Says I Love You (1996)', 'M*A*S*H (1970)', '39 Steps, The (1935)', 'Leaving Las Vegas (1995)', \"Nobody's Fool (1994)\", 'Godfather, The (1972)', 'Private Parts (1997)', 'Star Wars (1977)', 'Evita (1996)', 'Shine (1996)', 'Independence Day (ID4) (1996)', \"Mr. Holland's Opus (1995)\", 'Manon of the Spring (Manon des sources) (1986)', 'People vs. Larry Flynt, The (1996)', \"She's the One (1996)\", 'Garden of Finzi-Contini, The (Giardino dei Finzi-Contini, Il) (1970)', 'Career Girls (1997)', 'Cable Guy, The (1996)', 'Alien (1979)', 'Trees Lounge (1996)', 'Blues Brothers, The (1980)', 'Graduate, The (1967)', 'Hoop Dreams (1994)', 'Silence of the Lambs, The (1991)', 'Toy Story (1995)', 'Scream (1996)', 'Sting, The (1973)', 'Sense and Sensibility (1995)', 'Farewell My Concubine (1993)', 'Daytrippers, The (1996)', \"Romy and Michele's High School Reunion (1997)\", 'Postino, Il (1994)', 'Roman Holiday (1953)', 'My Left Foot (1989)', 'When Harry Met Sally... (1989)', 'Bullets Over Broadway (1994)', 'Return of Martin Guerre, The (Retour de Martin Guerre, Le) (1982)', 'Michael Collins (1996)', 'Dead Man Walking (1995)', 'Better Off Dead... (1985)', \"My Best Friend's Wedding (1997)\", 'Trainspotting (1996)', 'Grease (1978)', 'Great Escape, The (1963)', 'Emma (1996)', \"Preacher's Wife, The (1996)\", 'So I Married an Axe Murderer (1993)', 'Paradise Road (1997)', 'Wrong Trousers, The (1993)', 'Dream With the Fishes (1997)', \"Monty Python's Life of Brian (1979)\", 'Butch Cassidy and the Sundance Kid (1969)', 'Shawshank Redemption, The (1994)']\n",
            "User 186: ['Beavis and Butt-head Do America (1996)', 'Muppet Treasure Island (1996)', 'African Queen, The (1951)', 'Eddie (1996)', 'E.T. the Extra-Terrestrial (1982)', 'English Patient, The (1996)', 'Abyss, The (1989)', 'Young Guns II (1990)', 'Dirty Dancing (1987)', 'Shining, The (1980)', 'Raiders of the Lost Ark (1981)', 'Killing Zoe (1994)', 'Once Upon a Time... When We Were Colored (1995)', 'Time to Kill, A (1996)', 'Peacemaker, The (1997)', \"Schindler's List (1993)\", 'Back to the Future (1985)', 'Boot, Das (1981)', 'Jack (1996)', 'Thin Line Between Love and Hate, A (1996)', 'Death and the Maiden (1994)', 'Good Will Hunting (1997)', 'Rudy (1993)', 'Return of the Pink Panther, The (1974)', 'It Could Happen to You (1994)', 'Braveheart (1995)', '2001: A Space Odyssey (1968)', 'Psycho (1960)', 'Fantasia (1940)', 'Indiana Jones and the Last Crusade (1989)', 'Forget Paris (1995)', 'Pretty Woman (1990)', 'Species (1995)', 'Treasure of the Sierra Madre, The (1948)', 'City Hall (1996)', 'Perfect World, A (1993)', 'Ben-Hur (1959)', '2 Days in the Valley (1996)', 'Age of Innocence, The (1993)', 'Frighteners, The (1996)', 'Man Who Knew Too Little, The (1997)', 'Mallrats (1995)', 'Searching for Bobby Fischer (1993)', 'Grumpier Old Men (1995)', 'Willy Wonka and the Chocolate Factory (1971)', 'Circle of Friends (1995)', 'Glimmer Man, The (1996)', 'Something to Talk About (1995)', 'Swingers (1996)', 'Program, The (1993)', 'Apostle, The (1997)', 'Black Sheep (1996)', 'Executive Decision (1996)', 'Pinocchio (1940)', \"Things to Do in Denver when You're Dead (1995)\", 'Wolf (1994)', 'Kalifornia (1993)', 'Beverly Hills Ninja (1997)', 'Jaws 2 (1978)', 'My Fellow Americans (1996)', 'Eye for an Eye (1996)', 'Clueless (1995)', 'Sling Blade (1996)', 'Ghost (1990)', 'Howling, The (1981)', 'Empire Strikes Back, The (1980)', 'One Fine Day (1996)', 'Sneakers (1992)', \"One Flew Over the Cuckoo's Nest (1975)\", 'Milk Money (1994)', 'Last of the Mohicans, The (1992)', 'Giant (1956)', 'Full Metal Jacket (1987)', 'Phenomenon (1996)', 'Kingpin (1996)', 'Freeway (1996)', \"What's Eating Gilbert Grape (1993)\", 'Dances with Wolves (1990)', 'Chasing Amy (1997)', 'Get Shorty (1995)', 'Star Trek: The Motion Picture (1979)', 'Field of Dreams (1989)', 'Groundhog Day (1993)', 'Craft, The (1996)', 'Last Man Standing (1996)', 'Saint, The (1997)', 'Cinderella (1950)', 'Man in the Iron Mask, The (1998)', 'Mrs. Doubtfire (1993)', 'Drop Zone (1994)', 'To Gillian on Her 37th Birthday (1996)', 'Michael (1996)', 'Piano, The (1993)', 'Babe (1995)', 'G.I. Jane (1997)', 'Dumbo (1941)', 'Dragonheart (1996)', \"Carlito's Way (1993)\", 'Tales from the Crypt Presents: Bordello of Blood (1996)', \"It's My Party (1995)\", 'Platoon (1986)', 'Billy Madison (1995)', 'Batman Forever (1995)', 'Crow, The (1994)', 'Multiplicity (1996)', 'Sleepless in Seattle (1993)', \"Devil's Own, The (1997)\", 'Little Women (1994)', 'GoodFellas (1990)', 'Robin Hood: Prince of Thieves (1991)', 'Paris Is Burning (1990)', 'M*A*S*H (1970)', 'Bronx Tale, A (1993)', 'GoldenEye (1995)', 'Alien 3 (1992)', 'Leaving Las Vegas (1995)', 'Fish Called Wanda, A (1988)', \"Nobody's Fool (1994)\", 'Magnificent Seven, The (1954)', 'Star Wars (1977)', 'Home for the Holidays (1995)', 'Evita (1996)', 'Shine (1996)', 'Nixon (1995)', 'Birdcage, The (1996)', 'Gandhi (1982)', \"Mr. Holland's Opus (1995)\", 'Sabrina (1995)', 'Congo (1995)', 'Wizard of Oz, The (1939)', 'Blues Brothers, The (1980)', 'Bonnie and Clyde (1967)', 'Sleepers (1996)', 'White Squall (1996)', 'Great White Hype, The (1996)', 'Jurassic Park (1993)', 'Sense and Sensibility (1995)', 'Starship Troopers (1997)', 'Toy Story (1995)', 'Glory (1989)', 'As Good As It Gets (1997)', 'Patton (1970)', 'Very Brady Sequel, A (1996)', 'Die Hard (1988)', 'Nick of Time (1995)', 'Beautiful Girls (1996)', 'Vegas Vacation (1997)', 'On Golden Pond (1981)', 'Dazed and Confused (1993)', 'Star Trek VI: The Undiscovered Country (1991)', 'Aliens (1986)', 'Michael Collins (1996)', 'Romeo Is Bleeding (1993)', 'Dead Man Walking (1995)', 'Deer Hunter, The (1978)', \"My Best Friend's Wedding (1997)\", 'Grease (1978)', 'Family Thing, A (1996)', 'Reservoir Dogs (1992)', 'Great Escape, The (1963)', 'Swimming with Sharks (1995)', 'Manchurian Candidate, The (1962)', 'Donnie Brasco (1997)', 'Ghosts of Mississippi (1996)', 'Junior (1994)', 'Grifters, The (1990)', 'Last Dance (1996)', 'Butch Cassidy and the Sundance Kid (1969)', 'Shawshank Redemption, The (1994)', 'From Dusk Till Dawn (1996)', 'Scream 2 (1997)', 'Jungle Book, The (1994)', 'Apt Pupil (1998)', 'Bastard Out of Carolina (1996)', 'Apollo 13 (1995)', 'Under Siege (1992)', 'Stand by Me (1986)', 'Boomerang (1992)', 'Relic, The (1997)', 'Speechless (1994)', 'Fluke (1995)', 'Cool Hand Luke (1967)', 'Legends of the Fall (1994)', 'Highlander (1986)', 'Friday (1995)', 'In the Name of the Father (1993)', 'Forrest Gump (1994)', 'Gone with the Wind (1939)', 'Star Trek: First Contact (1996)', 'Bridges of Madison County, The (1995)', 'Maverick (1994)', 'Up Close and Personal (1996)', 'Conspiracy Theory (1997)', 'French Kiss (1995)', 'Daylight (1996)', 'Bulletproof (1996)', 'Evening Star, The (1996)', 'Rainmaker, The (1997)', 'Rising Sun (1993)', 'Volcano (1997)', 'James and the Giant Peach (1996)', 'Austin Powers: International Man of Mystery (1997)', 'Love Jones (1997)', 'Monty Python and the Holy Grail (1974)', 'Courage Under Fire (1996)', 'Twelve Monkeys (1995)', 'Heat (1995)', 'Titanic (1997)', 'Terminator, The (1984)', 'Wild Bunch, The (1969)', 'Blade Runner (1982)', 'Casablanca (1942)', 'Seven (Se7en) (1995)', 'Some Folks Call It a Sling Blade (1993)', 'Sliver (1993)', \"Heaven's Prisoners (1996)\", 'First Wives Club, The (1996)', 'Faithful (1996)', 'Rob Roy (1995)', 'Star Trek V: The Final Frontier (1989)', 'Jack and Sarah (1995)', 'Rosewood (1997)', 'Ref, The (1994)', \"Dante's Peak (1997)\", 'Copycat (1995)', 'Last Supper, The (1995)', 'Red Rock West (1992)', 'Hunt for Red October, The (1990)', 'Amistad (1997)', 'Associate, The (1996)', 'Palmetto (1998)', 'Cape Fear (1991)', 'Bed of Roses (1996)', 'Striptease (1996)', 'Bound (1996)', 'Once Were Warriors (1994)', 'To Kill a Mockingbird (1962)', 'Lost World: Jurassic Park, The (1997)', 'Dave (1993)', 'Wag the Dog (1997)', 'Remains of the Day, The (1993)', 'Jaws (1975)', 'American President, The (1995)', 'Tin Cup (1996)', 'Real Genius (1985)', 'Apocalypse Now (1979)', 'Killing Fields, The (1984)', 'I.Q. (1994)', 'Godfather: Part II, The (1974)', \"Cats Don't Dance (1997)\", 'Nutty Professor, The (1996)', \"Devil's Advocate, The (1997)\", 'High Noon (1952)', 'Return of the Jedi (1983)', 'Eraser (1996)', 'Lawrence of Arabia (1962)', 'Bridge on the River Kwai, The (1957)', 'Dr. Strangelove or: How I Learned to Stop Worrying and Love the Bomb (1963)', 'Raging Bull (1980)', 'Anastasia (1997)', 'Crossing Guard, The (1995)', 'Princess Bride, The (1987)', 'Private Parts (1997)', 'Virtuosity (1995)', 'Godfather, The (1972)', 'Four Weddings and a Funeral (1994)', 'Father of the Bride (1950)', 'Bad Boys (1995)', 'Top Gun (1986)', 'Star Trek III: The Search for Spock (1984)', 'Strange Days (1995)', 'Nell (1994)', 'Star Trek: The Wrath of Khan (1982)', 'Outbreak (1995)', 'Terminator 2: Judgment Day (1991)', 'Six Degrees of Separation (1993)', 'Cable Guy, The (1996)', 'Alien (1979)', 'Metro (1997)', 'Turbulence (1997)', 'Graduate, The (1967)', 'Hoop Dreams (1994)', 'Philadelphia (1993)', 'Quick and the Dead, The (1995)', 'Fear (1996)', 'Get on the Bus (1996)', 'Only You (1994)', 'Quiz Show (1994)', 'I Know What You Did Last Summer (1997)', 'While You Were Sleeping (1995)', 'Batman (1989)', 'Roman Holiday (1953)', 'When Harry Met Sally... (1989)', 'Happy Gilmore (1996)', 'Fallen (1998)', 'Father of the Bride Part II (1995)', 'Cape Fear (1962)', 'Cobb (1994)', 'For Whom the Bell Tolls (1943)', 'Trainspotting (1996)', \"Muriel's Wedding (1994)\", 'Casino (1995)', 'Richard III (1995)', 'Basquiat (1996)', 'Star Trek IV: The Voyage Home (1986)', 'Wedding Singer, The (1998)', 'Hamlet (1996)', 'Young Guns (1988)', 'Birds, The (1963)', 'Don Juan DeMarco (1995)', 'Right Stuff, The (1983)', 'Conan the Barbarian (1981)', 'Escape from L.A. (1996)']\n",
            "User 22: ['Ruling Class, The (1972)', 'Ghost and Mrs. Muir, The (1947)', 'Mask, The (1994)', 'Nightmare on Elm Street, A (1984)', 'E.T. the Extra-Terrestrial (1982)', 'English Patient, The (1996)', 'Apollo 13 (1995)', 'Abyss, The (1989)', 'Heavy Metal (1981)', 'Sound of Music, The (1965)', 'Cliffhanger (1993)', 'Ace Ventura: When Nature Calls (1995)', 'Jane Eyre (1996)', 'To Wong Foo, Thanks for Everything! Julie Newmar (1995)', 'Arrival, The (1996)', 'Gone with the Wind (1939)', 'Braveheart (1995)', 'French Kiss (1995)', 'Psycho (1960)', 'Local Hero (1983)', 'L.A. Confidential (1997)', 'Carrie (1976)', 'Fantasia (1940)', 'Much Ado About Nothing (1993)', 'Bad Company (1995)', 'Truth About Cats & Dogs, The (1996)', 'Shadow, The (1994)', 'Victor/Victoria (1982)', 'Treasure of the Sierra Madre, The (1948)', 'Santa Clause, The (1994)', 'Frighteners, The (1996)', 'Perfect World, A (1993)', '2 Days in the Valley (1996)', 'Courage Under Fire (1996)', 'American Werewolf in London, An (1981)', 'Ransom (1996)', 'Fargo (1996)', 'Twelve Monkeys (1995)', 'Mars Attacks! (1996)', 'Big Night (1996)', '12 Angry Men (1957)', 'Clockwork Orange, A (1971)', 'Stalingrad (1993)', 'Secrets & Lies (1996)', 'Executive Decision (1996)', 'Pulp Fiction (1994)', 'Casablanca (1942)', 'Seven (Se7en) (1995)', 'Crash (1996)', 'Professional, The (1994)', 'Strictly Ballroom (1992)', 'Devil in a Blue Dress (1995)', 'True Romance (1993)', 'Ace Ventura: Pet Detective (1994)', 'Breakdown (1997)', 'Demolition Man (1993)', 'Close Shave, A (1995)', 'Persuasion (1995)', \"Dante's Peak (1997)\", 'Aladdin (1992)', 'Maltese Falcon, The (1941)', 'Copycat (1995)', 'Lost Horizon (1937)', 'Big Sleep, The (1946)', 'Full Metal Jacket (1987)', 'Bound (1996)', 'Kingpin (1996)', 'Englishman Who Went Up a Hill, But Came Down a Mountain, The (1995)', 'Lost World: Jurassic Park, The (1997)', 'Dead Poets Society (1989)', 'Fly Away Home (1996)', 'Jaws (1975)', 'Craft, The (1996)', 'Blood & Wine (1997)', 'Tin Cup (1996)', 'Ghost and the Darkness, The (1996)', 'Real Genius (1985)', 'Man Who Would Be King, The (1975)', 'Juror, The (1996)', 'Angels and Insects (1995)', 'North (1994)', 'Babe (1995)', 'Lone Star (1996)', 'Flirting With Disaster (1996)', 'Lawnmower Man, The (1992)', 'My Favorite Year (1982)', \"Devil's Advocate, The (1997)\", 'Forbidden Planet (1956)', 'Platoon (1986)', 'Multiplicity (1996)', 'Sleeper (1973)', 'Sleepless in Seattle (1993)', 'Eraser (1996)', 'Rear Window (1954)', 'Bridge on the River Kwai, The (1957)', 'Dr. Strangelove or: How I Learned to Stop Worrying and Love the Bomb (1963)', \"It's a Wonderful Life (1946)\", \"Bram Stoker's Dracula (1992)\", 'Bottle Rocket (1996)', 'GoodFellas (1990)', 'Arsenic and Old Lace (1944)', 'Amadeus (1984)', 'Everyone Says I Love You (1996)', 'Bringing Up Baby (1938)', '39 Steps, The (1935)', 'Four Weddings and a Funeral (1994)', 'Moll Flanders (1996)', 'Net, The (1995)', 'Beauty and the Beast (1991)', 'Strange Days (1995)', 'Gandhi (1982)', 'Harriet the Spy (1996)', \"Stephen King's The Langoliers (1995)\", 'Cold Comfort Farm (1995)', 'Alien (1979)', 'Wizard of Oz, The (1939)', 'Restoration (1995)', 'Vertigo (1958)', 'Dial M for Murder (1954)', 'Jurassic Park (1993)', 'Silence of the Lambs, The (1991)', 'Quick and the Dead, The (1995)', 'Toy Story (1995)', 'Sense and Sensibility (1995)', 'Starship Troopers (1997)', 'Scream (1996)', 'Good, The Bad and The Ugly, The (1966)', \"Smilla's Sense of Snow (1997)\", 'While You Were Sleeping (1995)', 'Michael Collins (1996)', \"Miller's Crossing (1990)\", 'Richard III (1995)', 'Rosencrantz and Guildenstern Are Dead (1990)', 'Emma (1996)', 'Henry V (1989)', 'Great Escape, The (1963)', 'Wrong Trousers, The (1993)', 'Donnie Brasco (1997)', 'Day the Earth Stood Still, The (1951)', 'Right Stuff, The (1983)', 'Shawshank Redemption, The (1994)']\n",
            "User 244: ['Muppet Treasure Island (1996)', 'Scream 2 (1997)', 'Dolores Claiborne (1994)', 'African Queen, The (1951)', 'Glengarry Glen Ross (1992)', 'True Lies (1994)', 'Room with a View, A (1986)', 'Night Falls on Manhattan (1997)', 'Naked (1993)', 'Nightmare on Elm Street, A (1984)', 'Days of Thunder (1990)', 'E.T. the Extra-Terrestrial (1982)', 'English Patient, The (1996)', 'Adventures of Priscilla, Queen of the Desert, The (1994)', 'Usual Suspects, The (1995)', 'Boomerang (1992)', 'Sound of Music, The (1965)', 'Cliffhanger (1993)', 'Killing Zoe (1994)', 'Speechless (1994)', 'Addiction, The (1995)', 'Time to Kill, A (1996)', 'Evil Dead II (1987)', 'Highlander (1986)', 'Like Water For Chocolate (Como agua para chocolate) (1992)', 'Son in Law (1993)', 'Eat Drink Man Woman (1994)', 'Good Will Hunting (1997)', 'Arrival, The (1996)', 'Kiss the Girls (1997)', 'Immortal Beloved (1994)', 'Gone with the Wind (1939)', 'Bridges of Madison County, The (1995)', 'Tombstone (1993)', 'Panther (1995)', 'Maverick (1994)', 'Short Cuts (1993)', 'Conspiracy Theory (1997)', 'Hudsucker Proxy, The (1994)', 'Psycho (1960)', 'Double vie de Véronique, La (Double Life of Veronique, The) (1991)', 'Fugitive, The (1993)', 'Indiana Jones and the Last Crusade (1989)', 'Living in Oblivion (1995)', 'Much Ado About Nothing (1993)', 'Ed Wood (1994)', 'My Life as a Dog (Mitt liv som hund) (1985)', 'City Hall (1996)', 'Perfect World, A (1993)', 'James and the Giant Peach (1996)', '2 Days in the Valley (1996)', 'Age of Innocence, The (1993)', 'Omen, The (1976)', 'Primal Fear (1996)', 'Prophecy, The (1995)', 'Searching for Bobby Fischer (1993)', 'Glimmer Man, The (1996)', \"Jupiter's Wife (1994)\", 'Just Cause (1995)', 'Dangerous Minds (1995)', 'American Werewolf in London, An (1981)', 'Ransom (1996)', 'Cinema Paradiso (1988)', 'Nikita (La Femme Nikita) (1990)', 'To Die For (1995)', 'Swingers (1996)', 'Big Night (1996)', 'Program, The (1993)', 'Heat (1995)', 'Stalingrad (1993)', 'Streetcar Named Desire, A (1951)', 'Extreme Measures (1996)', 'Titanic (1997)', 'Terminator, The (1984)', 'Secrets & Lies (1996)', 'Unbearable Lightness of Being, The (1988)', 'Prophecy II, The (1998)', 'Casablanca (1942)', 'Menace II Society (1993)', 'Crash (1996)', 'Seven (Se7en) (1995)', 'Shallow Grave (1994)', 'Army of Darkness (1993)', 'Professional, The (1994)', 'Strictly Ballroom (1992)', 'Rob Roy (1995)', 'Devil in a Blue Dress (1995)', 'Mother Night (1996)', 'Star Trek V: The Final Frontier (1989)', 'Sling Blade (1996)', 'When a Man Loves a Woman (1994)', 'Ghost (1990)', 'Man Without a Face, The (1993)', '101 Dalmatians (1996)', 'Maltese Falcon, The (1941)', 'Chinatown (1974)', 'Amistad (1997)', 'Broken Arrow (1996)', 'Sneakers (1992)', 'Tales From the Crypt Presents: Demon Knight (1995)', 'Cape Fear (1991)', 'Exotica (1994)', 'Phenomenon (1996)', 'Once Were Warriors (1994)', 'Citizen Kane (1941)', 'Nightmare Before Christmas, The (1993)', 'To Kill a Mockingbird (1962)', 'Cook the Thief His Wife & Her Lover, The (1989)', 'Smoke (1995)', 'Lost World: Jurassic Park, The (1997)', 'North by Northwest (1959)', 'Long Kiss Goodnight, The (1996)', 'Stealing Beauty (1996)', 'Jeffrey (1995)', 'Get Shorty (1995)', 'Star Trek: The Motion Picture (1979)', 'Groundhog Day (1993)', 'Fly Away Home (1996)', 'American President, The (1995)', 'Tin Cup (1996)', 'Man Who Would Be King, The (1975)', 'Miracle on 34th Street (1994)', 'Grosse Pointe Blank (1997)', 'Game, The (1997)', 'Men in Black (1997)', 'Blown Away (1994)', 'Mrs. Parker and the Vicious Circle (1994)', 'Piano, The (1993)', 'Babe (1995)', 'G.I. Jane (1997)', \"Carlito's Way (1993)\", 'Dragonheart (1996)', 'Godfather: Part II, The (1974)', 'Escape to Witch Mountain (1975)', 'Higher Learning (1995)', 'My Fair Lady (1964)', 'Client, The (1994)', 'First Knight (1995)', 'Lawrence of Arabia (1962)', 'Little Women (1994)', 'Bridge on the River Kwai, The (1957)', 'Dr. Strangelove or: How I Learned to Stop Worrying and Love the Bomb (1963)', \"William Shakespeare's Romeo and Juliet (1996)\", 'GoodFellas (1990)', 'Batman Returns (1992)', 'Mrs. Brown (Her Majesty, Mrs. Brown) (1997)', 'Pump Up the Volume (1990)', 'Robin Hood: Prince of Thieves (1991)', 'Replacement Killers, The (1998)', 'Hoodlum (1997)', 'Brother Minister: The Assassination of Malcolm X (1994)', 'Raging Bull (1980)', 'M*A*S*H (1970)', 'Parent Trap, The (1961)', 'Con Air (1997)', \"Nobody's Fool (1994)\", 'Virtuosity (1995)', 'Godfather, The (1972)', 'Taxi Driver (1976)', 'Mediterraneo (1991)', 'Bad Boys (1995)', 'Mission: Impossible (1996)', 'Brazil (1985)', 'Shine (1996)', \"Sophie's Choice (1982)\", 'Face/Off (1997)', 'Fifth Element, The (1997)', 'Star Trek III: The Search for Spock (1984)', 'Beauty and the Beast (1991)', 'Desperado (1995)', 'Birdcage, The (1996)', 'Strange Days (1995)', 'Nell (1994)', 'Jackal, The (1997)', 'American Buffalo (1996)', \"Mr. Holland's Opus (1995)\", 'Three Colors: Red (1994)', 'Citizen Ruth (1996)', 'Three Colors: Blue (1993)', 'Sabrina (1995)', \"She's So Lovely (1997)\", 'Star Trek: The Wrath of Khan (1982)', 'Die xue shuang xiong (Killer, The) (1989)', 'Terminator 2: Judgment Day (1991)', 'City of Lost Children, The (1995)', 'House of the Spirits, The (1993)', 'Nine Months (1995)', 'Six Degrees of Separation (1993)', 'Wizard of Oz, The (1939)', 'Hoop Dreams (1994)', 'Before and After (1996)', 'Silence of the Lambs, The (1991)', 'Speed (1994)', 'Scream (1996)', 'Sense and Sensibility (1995)', 'Starship Troopers (1997)', 'Sting, The (1973)', 'Paris, Texas (1984)', 'Nick of Time (1995)', 'Breaking the Waves (1996)', 'Wings of Desire (1987)', 'Postino, Il (1994)', \"Smilla's Sense of Snow (1997)\", 'Rumble in the Bronx (1995)', 'Batman (1989)', 'Priest (1994)', 'Belle de jour (1967)', 'Air Force One (1997)', 'Bullets Over Broadway (1994)', 'Paper, The (1994)', 'Vanya on 42nd Street (1994)', 'Star Trek VI: The Undiscovered Country (1991)', 'Aliens (1986)', 'Unforgiven (1992)', 'Romeo Is Bleeding (1993)', \"Miller's Crossing (1990)\", 'Supercop (1992)', 'Three Musketeers, The (1993)', 'Casino (1995)', 'Basquiat (1996)', 'Star Trek IV: The Voyage Home (1986)', 'Emma (1996)', 'Jumanji (1995)', 'Henry V (1989)', 'Great Escape, The (1963)', 'Manchurian Candidate, The (1962)', 'Body Snatchers (1993)', 'Donnie Brasco (1997)', 'Chungking Express (1994)', 'Bob Roberts (1992)', 'Birds, The (1963)', 'Escape from New York (1981)', 'Conan the Barbarian (1981)', 'Farinelli: il castrato (1994)', 'Secret of Roan Inish, The (1994)']\n",
            "User 166: ['Fly Away Home (1996)', 'Cop Land (1997)', 'Deceiver (1997)', 'Game, The (1997)', 'G.I. Jane (1997)', 'Starship Troopers (1997)', \"Devil's Advocate, The (1997)\", 'As Good As It Gets (1997)', 'Crash (1996)', 'Truman Show, The (1998)', 'Good Will Hunting (1997)', 'Rosewood (1997)', 'Kiss the Girls (1997)', 'Mimic (1997)', 'Fire Down Below (1997)', 'Amistad (1997)', 'Seven Years in Tibet (1997)', 'Edge, The (1997)', 'Rainmaker, The (1997)', 'Volcano (1997)', 'Man Who Knew Too Little, The (1997)', 'Hard Rain (1998)']\n",
            "User 298: ['Disclosure (1994)', 'Dolores Claiborne (1994)', 'Cat on a Hot Tin Roof (1958)', 'Mulholland Falls (1996)', 'Sunset Blvd. (1950)', 'Ghost and Mrs. Muir, The (1947)', 'Crying Game, The (1992)', 'True Lies (1994)', 'Full Monty, The (1997)', 'Apt Pupil (1998)', 'Raising Arizona (1987)', 'Usual Suspects, The (1995)', 'Stand by Me (1986)', 'Kolya (1996)', 'Manhattan (1979)', 'Basketball Diaries, The (1995)', 'Rebel Without a Cause (1955)', 'Seventh Seal, The (Sjunde inseglet, Det) (1957)', 'Legends of the Fall (1994)', \"Ulee's Gold (1997)\", 'Othello (1995)', 'Boot, Das (1981)', 'Highlander (1986)', 'Like Water For Chocolate (Como agua para chocolate) (1992)', 'Jane Eyre (1996)', 'Wallace & Gromit: The Best of Aardman Animation (1996)', 'Sex, Lies, and Videotape (1989)', 'Star Trek: Generations (1994)', 'Brassed Off (1996)', 'Return of the Pink Panther, The (1974)', 'Laura (1944)', 'Malice (1993)', 'Star Trek: First Contact (1996)', 'Bridges of Madison County, The (1995)', 'Tombstone (1993)', 'Maverick (1994)', 'Crimson Tide (1995)', 'Hudsucker Proxy, The (1994)', 'Conspiracy Theory (1997)', 'Christmas Carol, A (1938)', '2001: A Space Odyssey (1968)', 'Local Hero (1983)', 'L.A. Confidential (1997)', 'Contact (1997)', 'Ridicule (1996)', 'Much Ado About Nothing (1993)', 'Truth About Cats & Dogs, The (1996)', 'Pretty Woman (1990)', 'Boys on the Side (1995)', 'Treasure of the Sierra Madre, The (1948)', 'My Life as a Dog (Mitt liv som hund) (1985)', 'Santa Clause, The (1994)', 'Primal Fear (1996)', 'Die Hard 2 (1990)', 'Age of Innocence, The (1993)', 'Searching for Bobby Fischer (1993)', 'Firm, The (1993)', 'Notorious (1946)', 'Circle of Friends (1995)', 'American Werewolf in London, An (1981)', 'Cinema Paradiso (1988)', 'Fargo (1996)', 'Nikita (La Femme Nikita) (1990)', 'Big Night (1996)', 'In the Line of Fire (1993)', 'Clockwork Orange, A (1971)', 'Jackie Brown (1997)', 'Homeward Bound II: Lost in San Francisco (1996)', 'Titanic (1997)', 'Secrets & Lies (1996)', 'Great Race, The (1965)', 'Executive Decision (1996)', 'Pinocchio (1940)', 'Pulp Fiction (1994)', 'Blade Runner (1982)', 'Meet Me in St. Louis (1944)', 'How to Make an American Quilt (1995)', 'Basic Instinct (1992)', 'Seven (Se7en) (1995)', 'Some Folks Call It a Sling Blade (1993)', 'Clueless (1995)', 'Jean de Florette (1986)', 'Devil in a Blue Dress (1995)', 'Star Trek V: The Final Frontier (1989)', 'Sling Blade (1996)', 'Breakdown (1997)', '101 Dalmatians (1996)', 'Rosewood (1997)', 'Close Shave, A (1995)', 'Aladdin (1992)', 'Clear and Present Danger (1994)', 'Red Rock West (1992)', 'Chinatown (1974)', 'Amistad (1997)', 'Giant (1956)', 'Big Sleep, The (1946)', 'Cape Fear (1991)', 'Full Metal Jacket (1987)', 'Philadelphia Story, The (1940)', \"What's Eating Gilbert Grape (1993)\", 'Smoke (1995)', 'American in Paris, An (1951)', 'North by Northwest (1959)', 'Gaslight (1944)', 'Long Kiss Goodnight, The (1996)', 'Dave (1993)', 'Englishman Who Went Up a Hill, But Came Down a Mountain, The (1995)', 'Night of the Living Dead (1968)', 'Get Shorty (1995)', 'Star Trek: The Motion Picture (1979)', 'Home Alone (1990)', 'To Catch a Thief (1955)', 'Ninotchka (1939)', 'Spitfire Grill, The (1996)', 'Remains of the Day, The (1993)', 'Jaws (1975)', 'American President, The (1995)', \"Breakfast at Tiffany's (1961)\", 'Apocalypse Now (1979)', 'Miracle on 34th Street (1994)', 'Three Caballeros, The (1945)', 'Grosse Pointe Blank (1997)', 'Love in the Afternoon (1957)', 'Angels and Insects (1995)', 'Mrs. Parker and the Vicious Circle (1994)', 'Killing Fields, The (1984)', 'I.Q. (1994)', 'Lone Star (1996)', 'Dumbo (1941)', 'G.I. Jane (1997)', 'My Favorite Year (1982)', 'Harold and Maude (1971)', 'Platoon (1986)', 'High Noon (1952)', 'His Girl Friday (1940)', 'Looking for Richard (1996)', 'Little Women (1994)', 'Apartment, The (1960)', 'Enchanted April (1991)', 'Arsenic and Old Lace (1944)', 'GoodFellas (1990)', 'Robin Hood: Prince of Thieves (1991)', 'Amadeus (1984)', 'Rock, The (1996)', 'Raging Bull (1980)', 'Bringing Up Baby (1938)', 'Bronx Tale, A (1993)', '39 Steps, The (1935)', 'Alien 3 (1992)', 'Princess Bride, The (1987)', \"Nobody's Fool (1994)\", 'Magnificent Seven, The (1954)', 'Virtuosity (1995)', 'Four Weddings and a Funeral (1994)', 'Around the World in 80 Days (1956)', 'Father of the Bride (1950)', 'Mission: Impossible (1996)', 'Crucible, The (1996)', 'Die Hard: With a Vengeance (1995)', 'Top Gun (1986)', 'Evita (1996)', 'Brazil (1985)', 'All About Eve (1950)', \"Sophie's Choice (1982)\", 'Face/Off (1997)', 'Star Trek III: The Search for Spock (1984)', 'Birdcage, The (1996)', '20,000 Leagues Under the Sea (1954)', 'Nell (1994)', 'Winnie the Pooh and the Blustery Day (1968)', 'Flubber (1997)', \"Mr. Holland's Opus (1995)\", 'Citizen Ruth (1996)', 'People vs. Larry Flynt, The (1996)', 'Gigi (1958)', 'Star Trek: The Wrath of Khan (1982)', 'Outbreak (1995)', 'Terminator 2: Judgment Day (1991)', 'Madness of King George, The (1994)', 'Deceiver (1997)', \"Pete's Dragon (1977)\", 'Sirens (1994)', 'Six Degrees of Separation (1993)', 'Restoration (1995)', 'Spellbound (1945)', 'Sleepers (1996)', 'Mr. Smith Goes to Washington (1939)', 'Hoop Dreams (1994)', 'Dial M for Murder (1954)', 'Alice in Wonderland (1951)', 'Philadelphia (1993)', 'Jurassic Park (1993)', 'Speed (1994)', 'Ran (1985)', 'Good, The Bad and The Ugly, The (1966)', 'Mighty Aphrodite (1995)', 'On Golden Pond (1981)', 'Adventures of Robin Hood, The (1938)', 'While You Were Sleeping (1995)', 'Roman Holiday (1953)', 'My Left Foot (1989)', 'Bullets Over Broadway (1994)', 'Air Force One (1997)', 'Star Trek VI: The Undiscovered Country (1991)', 'When Harry Met Sally... (1989)', 'Aliens (1986)', 'Michael Collins (1996)', 'Being There (1979)', 'Father of the Bride Part II (1995)', 'Bliss (1997)', 'Cape Fear (1962)', 'Meet John Doe (1941)', \"Miller's Crossing (1990)\", 'Murder at 1600 (1997)', 'Benny & Joon (1993)', 'Deer Hunter, The (1978)', 'For Whom the Bell Tolls (1943)', \"Muriel's Wedding (1994)\", 'Grease (1978)', 'Thin Man, The (1934)', 'Quiet Man, The (1952)', 'Casino (1995)', 'Seven Years in Tibet (1997)', 'Star Trek IV: The Voyage Home (1986)', 'Emma (1996)', 'Great Escape, The (1963)', 'Henry V (1989)', 'Manchurian Candidate, The (1962)', 'Hamlet (1996)', 'Donnie Brasco (1997)', 'Bob Roberts (1992)', 'Day the Earth Stood Still, The (1951)', 'Wrong Trousers, The (1993)', 'Birds, The (1963)', 'Don Juan DeMarco (1995)', 'Grifters, The (1990)', 'Escape from New York (1981)', \"Monty Python's Life of Brian (1979)\", 'Shawshank Redemption, The (1994)']\n"
          ]
        }
      ]
    }
  ]
}